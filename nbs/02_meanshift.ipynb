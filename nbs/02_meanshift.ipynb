{
  "cells": [
    {
      "cell_type": "markdown",
      "metadata": {
        "id": "hW2aWTagkHel"
      },
      "source": [
        "# Clustering"
      ]
    },
    {
      "cell_type": "markdown",
      "metadata": {
        "id": "3Mc7cRl4kHen"
      },
      "source": [
        "Clustering techniques are unsupervised learning algorithms that try to group unlabelled data into \"clusters\", using the (typically spatial) structure of the data itself. It has many [applications](https://en.wikipedia.org/wiki/Cluster_analysis#Applications).\n",
        "\n",
        "The easiest way to demonstrate how clustering works is to simply generate some data and show them in action. We'll start off by importing the libraries we'll be using today."
      ]
    },
    {
      "cell_type": "code",
      "execution_count": 133,
      "metadata": {
        "id": "slQvFmezkHeo"
      },
      "outputs": [],
      "source": [
        "import math, matplotlib.pyplot as plt, operator, torch\n",
        "from functools import partial"
      ]
    },
    {
      "cell_type": "code",
      "execution_count": 134,
      "metadata": {
        "id": "mJq8bVR0kHep"
      },
      "outputs": [],
      "source": [
        "torch.manual_seed(42)\n",
        "torch.set_printoptions(precision=3, linewidth=140, sci_mode=False)"
      ]
    },
    {
      "cell_type": "markdown",
      "metadata": {
        "id": "OKK1iWjpkHep"
      },
      "source": [
        "## Create data"
      ]
    },
    {
      "cell_type": "code",
      "execution_count": 135,
      "metadata": {
        "id": "AMvvYlqhkHep"
      },
      "outputs": [],
      "source": [
        "n_clusters=6\n",
        "n_samples =250"
      ]
    },
    {
      "cell_type": "markdown",
      "metadata": {
        "id": "LOfACCndkHeq"
      },
      "source": [
        "To generate our data, we're going to pick 6 random points, which we'll call centroids, and for each point we're going to generate 250 random points about it."
      ]
    },
    {
      "cell_type": "code",
      "execution_count": 136,
      "metadata": {
        "id": "DvlNNtgUkHeq"
      },
      "outputs": [],
      "source": [
        "centroids = torch.rand(n_clusters, 2)*70-35"
      ]
    },
    {
      "cell_type": "code",
      "execution_count": 137,
      "metadata": {
        "id": "AEybhXnOkHeq"
      },
      "outputs": [],
      "source": [
        "from torch.distributions.multivariate_normal import MultivariateNormal\n",
        "from torch import tensor"
      ]
    },
    {
      "cell_type": "code",
      "execution_count": 138,
      "metadata": {
        "id": "3DgIw1q3kHer"
      },
      "outputs": [],
      "source": [
        "# random columns of data\n",
        "# m is mean\n",
        "# standard variation is 5\n",
        "# sample is number of samples\n",
        "\n",
        "# covariance metric = diag, more in lesson 9B\n",
        "def sample(m): return MultivariateNormal(m, torch.diag(tensor([5.,5.]))).sample((n_samples,))"
      ]
    },
    {
      "cell_type": "code",
      "source": [
        "enumerate??\n",
        "en = enumerate([n*n for n in range(10)])\n",
        "for index, value in en:\n",
        "  print(index, value)"
      ],
      "metadata": {
        "colab": {
          "base_uri": "https://localhost:8080/"
        },
        "id": "IUJMR9jk4jsj",
        "outputId": "7093aca4-976e-4f50-f00f-5d8ee24e0ae2"
      },
      "execution_count": 139,
      "outputs": [
        {
          "output_type": "stream",
          "name": "stdout",
          "text": [
            "0 0\n",
            "1 1\n",
            "2 4\n",
            "3 9\n",
            "4 16\n",
            "5 25\n",
            "6 36\n",
            "7 49\n",
            "8 64\n",
            "9 81\n"
          ]
        }
      ]
    },
    {
      "cell_type": "code",
      "execution_count": 140,
      "metadata": {
        "colab": {
          "base_uri": "https://localhost:8080/"
        },
        "id": "H0YKK27rkHer",
        "outputId": "1ac34c61-71c5-4b8d-e97a-d9c6b9cb2cc4"
      },
      "outputs": [
        {
          "output_type": "execute_result",
          "data": {
            "text/plain": [
              "torch.Size([1500, 2])"
            ]
          },
          "metadata": {},
          "execution_count": 140
        }
      ],
      "source": [
        "slices = [sample(c) for c in centroids]\n",
        "data = torch.cat(slices)\n",
        "data.shape"
      ]
    },
    {
      "cell_type": "markdown",
      "metadata": {
        "id": "xxhrir2UkHer"
      },
      "source": [
        "Below we can see each centroid marked w/ X, and the coloring associated to each respective cluster."
      ]
    },
    {
      "cell_type": "code",
      "execution_count": 141,
      "metadata": {
        "id": "ztU683KAkHer"
      },
      "outputs": [],
      "source": [
        "def plot_data(centroids, data, n_samples, ax=None):\n",
        "    if ax is None: _,ax = plt.subplots()\n",
        "    for i, centroid in enumerate(centroids):\n",
        "        samples = data[i*n_samples:(i+1)*n_samples]\n",
        "        ax.scatter(samples[:,0], samples[:,1], s=1)\n",
        "        ax.plot(*centroid, markersize=10, marker=\"x\", color='k', mew=5)\n",
        "        ax.plot(*centroid, markersize=5, marker=\"x\", color='m', mew=2)"
      ]
    },
    {
      "cell_type": "code",
      "execution_count": 142,
      "metadata": {
        "colab": {
          "base_uri": "https://localhost:8080/",
          "height": 430
        },
        "id": "94q5bI-8kHes",
        "outputId": "579fcd84-b4a1-4b68-f229-21aa6dafaae1"
      },
      "outputs": [
        {
          "output_type": "display_data",
          "data": {
            "text/plain": [
              "<Figure size 640x480 with 1 Axes>"
            ],
            "image/png": "[encoded data removed]"
          },
          "metadata": {}
        }
      ],
      "source": [
        "plot_data(centroids, data, n_samples)"
      ]
    },
    {
      "cell_type": "markdown",
      "metadata": {
        "id": "ks8ueIwIkHes"
      },
      "source": [
        "## Mean shift"
      ]
    },
    {
      "cell_type": "markdown",
      "metadata": {
        "id": "R3PGqEXOkHet"
      },
      "source": [
        "Most people that have come across clustering algorithms have learnt about **k-means**. Mean shift clustering is a newer and less well-known approach, but it has some important advantages:\n",
        "* It doesn't require selecting the number of clusters in advance, but instead just requires a **bandwidth** to be specified, which can be easily chosen automatically\n",
        "* It can handle clusters of any shape, whereas k-means (without using special extensions) requires that clusters be roughly ball shaped."
      ]
    },
    {
      "cell_type": "markdown",
      "metadata": {
        "id": "i5hPVA57kHet"
      },
      "source": [
        "The algorithm is as follows:\n",
        "* For each data point x in the sample X, find the distance between that point x and every other point in X\n",
        "* Create weights for each point in X by using the **Gaussian kernel** of that point's distance to x\n",
        "    * This weighting approach penalizes points further away from x\n",
        "    * The rate at which the weights fall to zero is determined by the **bandwidth**, which is the standard deviation of the Gaussian\n",
        "* Update x as the weighted average of all other points in X, weighted based on the previous step\n",
        "\n",
        "This will iteratively push points that are close together even closer until they are next to each other."
      ]
    },
    {
      "cell_type": "markdown",
      "source": [
        "#<font color = red> Note: the Gaussian Kernel is same as the normal distribution !"
      ],
      "metadata": {
        "id": "l3ASj2K_7w5F"
      }
    },
    {
      "cell_type": "code",
      "execution_count": 143,
      "metadata": {
        "colab": {
          "base_uri": "https://localhost:8080/"
        },
        "id": "yYem0JvckHet",
        "outputId": "ac2187a2-a004-49d9-852a-a8b60f936de1"
      },
      "outputs": [
        {
          "output_type": "execute_result",
          "data": {
            "text/plain": [
              "tensor([ 9.222, 11.604])"
            ]
          },
          "metadata": {},
          "execution_count": 143
        }
      ],
      "source": [
        "midp = data.mean(0)\n",
        "midp"
      ]
    },
    {
      "cell_type": "code",
      "execution_count": 144,
      "metadata": {
        "colab": {
          "base_uri": "https://localhost:8080/",
          "height": 430
        },
        "id": "NOy5yPt4kHet",
        "outputId": "01d04582-05a4-4d18-bd45-70b1ccc5feb2"
      },
      "outputs": [
        {
          "output_type": "display_data",
          "data": {
            "text/plain": [
              "<Figure size 640x480 with 1 Axes>"
            ],
            "image/png": "[encoded data removed]"
          },
          "metadata": {}
        }
      ],
      "source": [
        "plot_data([midp]*6, data, n_samples)"
      ]
    },
    {
      "cell_type": "markdown",
      "metadata": {
        "id": "pmCelyNRkHet"
      },
      "source": [
        "So here's the definition of the gaussian kernel, which you may remember from high school...\n",
        " This person at the science march certainly remembered!\n",
        "\n",
        "<img src=\"http://i.imgur.com/nijQLHw.jpg\" width=400>"
      ]
    },
    {
      "cell_type": "code",
      "execution_count": 145,
      "metadata": {
        "id": "VFW4stkOkHet"
      },
      "outputs": [],
      "source": [
        "def gaussian(d, bw): return torch.exp(-0.5*((d/bw))**2) / (bw*math.sqrt(2*math.pi))"
      ]
    },
    {
      "cell_type": "code",
      "execution_count": 146,
      "metadata": {
        "id": "4d8gO8UnkHeu"
      },
      "outputs": [],
      "source": [
        "def plot_func(f):\n",
        "    x = torch.linspace(0,10,100) # 100 data points linear spaced between 0 and 10\n",
        "    plt.plot(x, f(x))"
      ]
    },
    {
      "cell_type": "code",
      "execution_count": 147,
      "metadata": {
        "colab": {
          "base_uri": "https://localhost:8080/",
          "height": 430
        },
        "id": "qZhFDUqrkHeu",
        "outputId": "5ea1b12b-bc23-4b62-9923-75a4846d6735"
      },
      "outputs": [
        {
          "output_type": "display_data",
          "data": {
            "text/plain": [
              "<Figure size 640x480 with 1 Axes>"
            ],
            "image/png": "[encoded data removed]"
          },
          "metadata": {}
        }
      ],
      "source": [
        "plot_func(partial(gaussian, bw=2.5))"
      ]
    },
    {
      "cell_type": "code",
      "execution_count": 148,
      "metadata": {
        "colab": {
          "base_uri": "https://localhost:8080/",
          "height": 430
        },
        "outputId": "c686eaff-7bf0-42dd-de0b-8b47361a498d",
        "id": "1nCCktxP-sf6"
      },
      "outputs": [
        {
          "output_type": "display_data",
          "data": {
            "text/plain": [
              "<Figure size 640x480 with 1 Axes>"
            ],
            "image/png": "[encoded data removed]"
          },
          "metadata": {}
        }
      ],
      "source": [
        "# partial function is same as\n",
        "plot_func(lambda x: gaussian(x, bw=2.5))"
      ]
    },
    {
      "cell_type": "code",
      "execution_count": 149,
      "metadata": {
        "colab": {
          "base_uri": "https://localhost:8080/"
        },
        "id": "rHXWD9xhkHeu",
        "outputId": "55ac80df-ac37-45c2-fc2a-83ae1000b486"
      },
      "outputs": [
        {
          "output_type": "execute_result",
          "data": {
            "text/plain": [
              "functools.partial"
            ]
          },
          "metadata": {},
          "execution_count": 149
        }
      ],
      "source": [
        "partial"
      ]
    },
    {
      "cell_type": "code",
      "source": [
        "# carrying or partially applied function\n",
        "partial??"
      ],
      "metadata": {
        "id": "eC8sQ3Y2_UhE"
      },
      "execution_count": 150,
      "outputs": []
    },
    {
      "cell_type": "markdown",
      "metadata": {
        "id": "hi0WkudzkHeu"
      },
      "source": [
        "In our implementation, we choose the bandwidth to be 2.5.\n",
        "\n",
        "One easy way to choose bandwidth is to find which bandwidth covers one third of the data."
      ]
    },
    {
      "cell_type": "code",
      "source": [
        "f = partial(gaussian, bw=2.5) # partial creates a new function !  2.5 is about 2 clusters\n",
        "f(tensor(4.))"
      ],
      "metadata": {
        "colab": {
          "base_uri": "https://localhost:8080/"
        },
        "id": "ktMvCoSl9QHi",
        "outputId": "f1ff2ed4-b958-4c91-b2b6-016dc7811fd4"
      },
      "execution_count": 151,
      "outputs": [
        {
          "output_type": "execute_result",
          "data": {
            "text/plain": [
              "tensor(0.044)"
            ]
          },
          "metadata": {},
          "execution_count": 151
        }
      ]
    },
    {
      "cell_type": "code",
      "execution_count": 152,
      "metadata": {
        "id": "A5SHh1xYkHeu"
      },
      "outputs": [],
      "source": [
        "# simpliefied gaussian function\n",
        "def tri(d, i): return (-d+i).clamp_min(0)/i"
      ]
    },
    {
      "cell_type": "code",
      "execution_count": 153,
      "metadata": {
        "colab": {
          "base_uri": "https://localhost:8080/",
          "height": 430
        },
        "id": "A6ApJ4NekHeu",
        "outputId": "66b47022-ddd8-4163-c32a-fa7fbbd3e4c9"
      },
      "outputs": [
        {
          "output_type": "display_data",
          "data": {
            "text/plain": [
              "<Figure size 640x480 with 1 Axes>"
            ],
            "image/png": "[encoded data removed]"
          },
          "metadata": {}
        }
      ],
      "source": [
        "plot_func(partial(tri, i=8))"
      ]
    },
    {
      "cell_type": "code",
      "execution_count": 154,
      "metadata": {
        "id": "rF5E0kkbkHeu"
      },
      "outputs": [],
      "source": [
        "X = data.clone() # clone orignal matrix so not to overwrite\n",
        "x = data[0] # first data point"
      ]
    },
    {
      "cell_type": "code",
      "execution_count": 155,
      "metadata": {
        "colab": {
          "base_uri": "https://localhost:8080/"
        },
        "id": "laIZKxs5kHeu",
        "outputId": "e62f7f4e-078f-47e0-b7c2-25a3701c54de"
      },
      "outputs": [
        {
          "output_type": "execute_result",
          "data": {
            "text/plain": [
              "tensor([26.204, 26.349])"
            ]
          },
          "metadata": {},
          "execution_count": 155
        }
      ],
      "source": [
        "x"
      ]
    },
    {
      "cell_type": "code",
      "execution_count": 156,
      "metadata": {
        "colab": {
          "base_uri": "https://localhost:8080/"
        },
        "id": "Wnu2R0IYkHeu",
        "outputId": "08a6382f-ca4d-4c94-bc8c-c1941c376fc3"
      },
      "outputs": [
        {
          "output_type": "execute_result",
          "data": {
            "text/plain": [
              "(torch.Size([2]), torch.Size([1500, 2]), torch.Size([1, 2]))"
            ]
          },
          "metadata": {},
          "execution_count": 156
        }
      ],
      "source": [
        "x.shape,X.shape,x[None].shape"
      ]
    },
    {
      "cell_type": "code",
      "source": [
        "x-X # find distance from one point to every other point\n",
        "# Note: first distance is zero because it's the point itself"
      ],
      "metadata": {
        "colab": {
          "base_uri": "https://localhost:8080/"
        },
        "id": "qMvwJuVXKdDe",
        "outputId": "f793c193-0241-414f-9179-f2014166ea90"
      },
      "execution_count": 157,
      "outputs": [
        {
          "output_type": "execute_result",
          "data": {
            "text/plain": [
              "tensor([[ 0.000,  0.000],\n",
              "        [ 0.513, -3.865],\n",
              "        [-4.227, -2.345],\n",
              "        ...,\n",
              "        [-4.568, 17.025],\n",
              "        [-3.151, 22.389],\n",
              "        [-4.964, 21.040]])"
            ]
          },
          "metadata": {},
          "execution_count": 157
        }
      ]
    },
    {
      "cell_type": "code",
      "execution_count": 158,
      "metadata": {
        "colab": {
          "base_uri": "https://localhost:8080/"
        },
        "id": "Rn0X6NhBkHeu",
        "outputId": "10949e82-b42a-43aa-cb43-1331883b8b0d"
      },
      "outputs": [
        {
          "output_type": "execute_result",
          "data": {
            "text/plain": [
              "tensor([[ 0.000,  0.000],\n",
              "        [ 0.513, -3.865],\n",
              "        [-4.227, -2.345],\n",
              "        [ 0.557, -3.685],\n",
              "        [-5.033, -3.745],\n",
              "        [-4.073, -0.638],\n",
              "        [-3.415, -5.601],\n",
              "        [-1.920, -5.686]])"
            ]
          },
          "metadata": {},
          "execution_count": 158
        }
      ],
      "source": [
        "(x[None]-X)[:8] # with unit axis   8 is just an example for printing"
      ]
    },
    {
      "cell_type": "markdown",
      "source": [
        "`X` is the tensor that contains all the data points, with shape `(n_clusters * n_samples, 2)` in this case.\n",
        "`x` is a specific data point, with shape (2,), and `x[None]` adds an extra dimension, giving it shape (1, 2).\n",
        "<font color=red> `(x[None]-X)` computes the difference between x and every other point in X, effectively determining the \"shift\" for each data point relative to x. This is a crucial step in the Mean Shift algorithm where each data point is updated based on its neighboring points."
      ],
      "metadata": {
        "id": "u71ueD1HMw1X"
      }
    },
    {
      "cell_type": "code",
      "execution_count": 159,
      "metadata": {
        "colab": {
          "base_uri": "https://localhost:8080/"
        },
        "id": "qacb2aC6kHev",
        "outputId": "b45c2f84-4b8c-4678-830f-385f9ca9f9f4"
      },
      "outputs": [
        {
          "output_type": "execute_result",
          "data": {
            "text/plain": [
              "tensor([[ 0.000,  0.000],\n",
              "        [ 0.513, -3.865],\n",
              "        [-4.227, -2.345],\n",
              "        [ 0.557, -3.685],\n",
              "        [-5.033, -3.745],\n",
              "        [-4.073, -0.638],\n",
              "        [-3.415, -5.601],\n",
              "        [-1.920, -5.686]])"
            ]
          },
          "metadata": {},
          "execution_count": 159
        }
      ],
      "source": [
        "(x-X)[:8]  # 2 matches 2, first axis does not exist so broadcast/create unit axis automatically"
      ]
    },
    {
      "cell_type": "code",
      "execution_count": 160,
      "metadata": {
        "colab": {
          "base_uri": "https://localhost:8080/"
        },
        "id": "ztn6l6SzkHev",
        "outputId": "af7f8127-1cde-4b05-beb8-901a370128f6"
      },
      "outputs": [
        {
          "output_type": "execute_result",
          "data": {
            "text/plain": [
              "tensor([0.000, 3.899, 4.834, 3.726, 6.273, 4.122, 6.560, 6.002])"
            ]
          },
          "metadata": {},
          "execution_count": 160
        }
      ],
      "source": [
        "# HW : rewrite using torch.einsum  (will still have x-X and have sqrt)\n",
        "# euclidan distance\n",
        "dist = ((x-X)**2).sum(1).sqrt() # sum x and y axis\n",
        "dist[:8]"
      ]
    },
    {
      "cell_type": "code",
      "execution_count": 161,
      "metadata": {
        "colab": {
          "base_uri": "https://localhost:8080/"
        },
        "id": "dTMSRWlQkHev",
        "outputId": "aabdf5c4-d246-4448-a62e-6643686f8751"
      },
      "outputs": [
        {
          "output_type": "execute_result",
          "data": {
            "text/plain": [
              "tensor([    0.160,     0.047,     0.025,  ...,     0.000,     0.000,     0.000])"
            ]
          },
          "metadata": {},
          "execution_count": 161
        }
      ],
      "source": [
        "weight = gaussian(dist, 2.5)\n",
        "weight\n",
        "# 0.160 is largest weight in plot above\n",
        "# far away points have zero weight"
      ]
    },
    {
      "cell_type": "code",
      "execution_count": 162,
      "metadata": {
        "colab": {
          "base_uri": "https://localhost:8080/"
        },
        "id": "CLddrxJMkHev",
        "outputId": "a5982945-c422-45a8-d6ff-c5194d00a8f2"
      },
      "outputs": [
        {
          "output_type": "execute_result",
          "data": {
            "text/plain": [
              "(torch.Size([1500]), torch.Size([1500, 2]))"
            ]
          },
          "metadata": {},
          "execution_count": 162
        }
      ],
      "source": [
        "weight.shape,X.shape"
      ]
    },
    {
      "cell_type": "code",
      "execution_count": 163,
      "metadata": {
        "colab": {
          "base_uri": "https://localhost:8080/"
        },
        "id": "WW861dPkkHev",
        "outputId": "c24a7362-f4ef-425a-f4e6-cf052643984b"
      },
      "outputs": [
        {
          "output_type": "execute_result",
          "data": {
            "text/plain": [
              "torch.Size([1500, 1])"
            ]
          },
          "metadata": {},
          "execution_count": 163
        }
      ],
      "source": [
        "weight[:,None].shape\n",
        "# Broadcasting rules\n",
        "# from right to left 1500 is compatible with 1500\n",
        "# 1 is compatible with 2, because one of them is 1"
      ]
    },
    {
      "cell_type": "code",
      "execution_count": 164,
      "metadata": {
        "colab": {
          "base_uri": "https://localhost:8080/"
        },
        "id": "TYMY7wpskHev",
        "outputId": "18688aa7-593a-4195-967a-614a68c0c75d"
      },
      "outputs": [
        {
          "output_type": "execute_result",
          "data": {
            "text/plain": [
              "tensor([[    4.182,     4.205],\n",
              "        [    1.215,     1.429],\n",
              "        [    0.749,     0.706],\n",
              "        ...,\n",
              "        [    0.000,     0.000],\n",
              "        [    0.000,     0.000],\n",
              "        [    0.000,     0.000]])"
            ]
          },
          "metadata": {},
          "execution_count": 164
        }
      ],
      "source": [
        "weight[:,None]*X # trailing unit axis"
      ]
    },
    {
      "cell_type": "code",
      "execution_count": 165,
      "metadata": {
        "id": "ugfzYtyrkHev"
      },
      "outputs": [],
      "source": [
        "def one_update(X):\n",
        "    for i, x in enumerate(X): # for loop will not be able to run on GPU\n",
        "        dist = torch.sqrt(((x-X)**2).sum(1))\n",
        "#         weight = gaussian(dist, 2.5)\n",
        "        weight = tri(dist, 8)\n",
        "        X[i] = (weight[:,None]*X).sum(0)/weight.sum() # weighted average"
      ]
    },
    {
      "cell_type": "code",
      "execution_count": 166,
      "metadata": {
        "id": "SdcHt3jXkHev"
      },
      "outputs": [],
      "source": [
        "def meanshift(data):\n",
        "    X = data.clone()\n",
        "    for it in range(5): one_update(X)\n",
        "    return X"
      ]
    },
    {
      "cell_type": "code",
      "execution_count": 167,
      "metadata": {
        "colab": {
          "base_uri": "https://localhost:8080/"
        },
        "id": "6f3_S_UZkHe1",
        "outputId": "419b2acf-4d93-4bdd-a138-b3c8aa4d8566"
      },
      "outputs": [
        {
          "output_type": "stream",
          "name": "stdout",
          "text": [
            "CPU times: user 897 ms, sys: 33 µs, total: 897 ms\n",
            "Wall time: 905 ms\n"
          ]
        }
      ],
      "source": [
        "%time X=meanshift(data)"
      ]
    },
    {
      "cell_type": "code",
      "execution_count": 168,
      "metadata": {
        "colab": {
          "base_uri": "https://localhost:8080/",
          "height": 430
        },
        "id": "mv4gMaMkkHe1",
        "outputId": "ecbff4a8-3808-4f44-8d35-87c4e4238f56"
      },
      "outputs": [
        {
          "output_type": "display_data",
          "data": {
            "text/plain": [
              "<Figure size 640x480 with 1 Axes>"
            ],
            "image/png": "[encoded data removed]"
          },
          "metadata": {}
        }
      ],
      "source": [
        "plot_data(centroids+2, X, n_samples) # +2 move to make dots visible"
      ]
    },
    {
      "cell_type": "markdown",
      "metadata": {
        "id": "39VR0vECkHe1"
      },
      "source": [
        "## Animation"
      ]
    },
    {
      "cell_type": "code",
      "execution_count": 169,
      "metadata": {
        "id": "Aeb4aQ_tkHe1"
      },
      "outputs": [],
      "source": [
        "from matplotlib.animation import FuncAnimation\n",
        "from IPython.display import HTML"
      ]
    },
    {
      "cell_type": "code",
      "execution_count": 170,
      "metadata": {
        "id": "q6F_8SrXkHe1"
      },
      "outputs": [],
      "source": [
        "def do_one(d): # d is frame number automatically\n",
        "    if d: one_update(X) # for frame 0 just plot\n",
        "    ax.clear()\n",
        "    plot_data(centroids+2, X, n_samples, ax=ax)"
      ]
    },
    {
      "cell_type": "code",
      "execution_count": 171,
      "metadata": {
        "colab": {
          "base_uri": "https://localhost:8080/",
          "height": 578
        },
        "id": "rgCOLu_nkHe1",
        "outputId": "4de0b161-f4ce-40ba-997b-061e706c1bee"
      },
      "outputs": [
        {
          "output_type": "execute_result",
          "data": {
            "text/plain": [
              "<IPython.core.display.HTML object>"
            ],
            "text/html": [
              "\n",
              "<link rel=\"stylesheet\"\n",
              "href=\"https://maxcdn.bootstrapcdn.com/font-awesome/4.4.0/css/font-awesome.min.css\">\n",
              "<script language=\"javascript\">\n",
              "  function isInternetExplorer() {\n",
              "    ua = navigator.userAgent;\n",
              "    /* MSIE used to detect old browsers and Trident used to newer ones*/\n",
              "    return ua.indexOf(\"MSIE \") > -1 || ua.indexOf(\"Trident/\") > -1;\n",
              "  }\n",
              "\n",
              "  /* Define the Animation class */\n",
              "  function Animation(frames, img_id, slider_id, interval, loop_select_id){\n",
              "    this.img_id = img_id;\n",
              "    this.slider_id = slider_id;\n",
              "    this.loop_select_id = loop_select_id;\n",
              "    this.interval = interval;\n",
              "    this.current_frame = 0;\n",
              "    this.direction = 0;\n",
              "    this.timer = null;\n",
              "    this.frames = new Array(frames.length);\n",
              "\n",
              "    for (var i=0; i<frames.length; i++)\n",
              "    {\n",
              "     this.frames[i] = new Image();\n",
              "     this.frames[i].src = frames[i];\n",
              "    }\n",
              "    var slider = document.getElementById(this.slider_id);\n",
              "    slider.max = this.frames.length - 1;\n",
              "    if (isInternetExplorer()) {\n",
              "        // switch from oninput to onchange because IE <= 11 does not conform\n",
              "        // with W3C specification. It ignores oninput and onchange behaves\n",
              "        // like oninput. In contrast, Microsoft Edge behaves correctly.\n",
              "        slider.setAttribute('onchange', slider.getAttribute('oninput'));\n",
              "        slider.setAttribute('oninput', null);\n",
              "    }\n",
              "    this.set_frame(this.current_frame);\n",
              "  }\n",
              "\n",
              "  Animation.prototype.get_loop_state = function(){\n",
              "    var button_group = document[this.loop_select_id].state;\n",
              "    for (var i = 0; i < button_group.length; i++) {\n",
              "        var button = button_group[i];\n",
              "        if (button.checked) {\n",
              "            return button.value;\n",
              "        }\n",
              "    }\n",
              "    return undefined;\n",
              "  }\n",
              "\n",
              "  Animation.prototype.set_frame = function(frame){\n",
              "    this.current_frame = frame;\n",
              "    document.getElementById(this.img_id).src =\n",
              "            this.frames[this.current_frame].src;\n",
              "    document.getElementById(this.slider_id).value = this.current_frame;\n",
              "  }\n",
              "\n",
              "  Animation.prototype.next_frame = function()\n",
              "  {\n",
              "    this.set_frame(Math.min(this.frames.length - 1, this.current_frame + 1));\n",
              "  }\n",
              "\n",
              "  Animation.prototype.previous_frame = function()\n",
              "  {\n",
              "    this.set_frame(Math.max(0, this.current_frame - 1));\n",
              "  }\n",
              "\n",
              "  Animation.prototype.first_frame = function()\n",
              "  {\n",
              "    this.set_frame(0);\n",
              "  }\n",
              "\n",
              "  Animation.prototype.last_frame = function()\n",
              "  {\n",
              "    this.set_frame(this.frames.length - 1);\n",
              "  }\n",
              "\n",
              "  Animation.prototype.slower = function()\n",
              "  {\n",
              "    this.interval /= 0.7;\n",
              "    if(this.direction > 0){this.play_animation();}\n",
              "    else if(this.direction < 0){this.reverse_animation();}\n",
              "  }\n",
              "\n",
              "  Animation.prototype.faster = function()\n",
              "  {\n",
              "    this.interval *= 0.7;\n",
              "    if(this.direction > 0){this.play_animation();}\n",
              "    else if(this.direction < 0){this.reverse_animation();}\n",
              "  }\n",
              "\n",
              "  Animation.prototype.anim_step_forward = function()\n",
              "  {\n",
              "    this.current_frame += 1;\n",
              "    if(this.current_frame < this.frames.length){\n",
              "      this.set_frame(this.current_frame);\n",
              "    }else{\n",
              "      var loop_state = this.get_loop_state();\n",
              "      if(loop_state == \"loop\"){\n",
              "        this.first_frame();\n",
              "      }else if(loop_state == \"reflect\"){\n",
              "        this.last_frame();\n",
              "        this.reverse_animation();\n",
              "      }else{\n",
              "        this.pause_animation();\n",
              "        this.last_frame();\n",
              "      }\n",
              "    }\n",
              "  }\n",
              "\n",
              "  Animation.prototype.anim_step_reverse = function()\n",
              "  {\n",
              "    this.current_frame -= 1;\n",
              "    if(this.current_frame >= 0){\n",
              "      this.set_frame(this.current_frame);\n",
              "    }else{\n",
              "      var loop_state = this.get_loop_state();\n",
              "      if(loop_state == \"loop\"){\n",
              "        this.last_frame();\n",
              "      }else if(loop_state == \"reflect\"){\n",
              "        this.first_frame();\n",
              "        this.play_animation();\n",
              "      }else{\n",
              "        this.pause_animation();\n",
              "        this.first_frame();\n",
              "      }\n",
              "    }\n",
              "  }\n",
              "\n",
              "  Animation.prototype.pause_animation = function()\n",
              "  {\n",
              "    this.direction = 0;\n",
              "    if (this.timer){\n",
              "      clearInterval(this.timer);\n",
              "      this.timer = null;\n",
              "    }\n",
              "  }\n",
              "\n",
              "  Animation.prototype.play_animation = function()\n",
              "  {\n",
              "    this.pause_animation();\n",
              "    this.direction = 1;\n",
              "    var t = this;\n",
              "    if (!this.timer) this.timer = setInterval(function() {\n",
              "        t.anim_step_forward();\n",
              "    }, this.interval);\n",
              "  }\n",
              "\n",
              "  Animation.prototype.reverse_animation = function()\n",
              "  {\n",
              "    this.pause_animation();\n",
              "    this.direction = -1;\n",
              "    var t = this;\n",
              "    if (!this.timer) this.timer = setInterval(function() {\n",
              "        t.anim_step_reverse();\n",
              "    }, this.interval);\n",
              "  }\n",
              "</script>\n",
              "\n",
              "<style>\n",
              ".animation {\n",
              "    display: inline-block;\n",
              "    text-align: center;\n",
              "}\n",
              "input[type=range].anim-slider {\n",
              "    width: 374px;\n",
              "    margin-left: auto;\n",
              "    margin-right: auto;\n",
              "}\n",
              ".anim-buttons {\n",
              "    margin: 8px 0px;\n",
              "}\n",
              ".anim-buttons button {\n",
              "    padding: 0;\n",
              "    width: 36px;\n",
              "}\n",
              ".anim-state label {\n",
              "    margin-right: 8px;\n",
              "}\n",
              ".anim-state input {\n",
              "    margin: 0;\n",
              "    vertical-align: middle;\n",
              "}\n",
              "</style>\n",
              "\n",
              "<div class=\"animation\">\n",
              "  <img id=\"_anim_img03ad064521d84ee1bc354007d006286f\">\n",
              "  <div class=\"anim-controls\">\n",
              "    <input id=\"_anim_slider03ad064521d84ee1bc354007d006286f\" type=\"range\" class=\"anim-slider\"\n",
              "           name=\"points\" min=\"0\" max=\"1\" step=\"1\" value=\"0\"\n",
              "           oninput=\"anim03ad064521d84ee1bc354007d006286f.set_frame(parseInt(this.value));\">\n",
              "    <div class=\"anim-buttons\">\n",
              "      <button title=\"Decrease speed\" aria-label=\"Decrease speed\" onclick=\"anim03ad064521d84ee1bc354007d006286f.slower()\">\n",
              "          <i class=\"fa fa-minus\"></i></button>\n",
              "      <button title=\"First frame\" aria-label=\"First frame\" onclick=\"anim03ad064521d84ee1bc354007d006286f.first_frame()\">\n",
              "        <i class=\"fa fa-fast-backward\"></i></button>\n",
              "      <button title=\"Previous frame\" aria-label=\"Previous frame\" onclick=\"anim03ad064521d84ee1bc354007d006286f.previous_frame()\">\n",
              "          <i class=\"fa fa-step-backward\"></i></button>\n",
              "      <button title=\"Play backwards\" aria-label=\"Play backwards\" onclick=\"anim03ad064521d84ee1bc354007d006286f.reverse_animation()\">\n",
              "          <i class=\"fa fa-play fa-flip-horizontal\"></i></button>\n",
              "      <button title=\"Pause\" aria-label=\"Pause\" onclick=\"anim03ad064521d84ee1bc354007d006286f.pause_animation()\">\n",
              "          <i class=\"fa fa-pause\"></i></button>\n",
              "      <button title=\"Play\" aria-label=\"Play\" onclick=\"anim03ad064521d84ee1bc354007d006286f.play_animation()\">\n",
              "          <i class=\"fa fa-play\"></i></button>\n",
              "      <button title=\"Next frame\" aria-label=\"Next frame\" onclick=\"anim03ad064521d84ee1bc354007d006286f.next_frame()\">\n",
              "          <i class=\"fa fa-step-forward\"></i></button>\n",
              "      <button title=\"Last frame\" aria-label=\"Last frame\" onclick=\"anim03ad064521d84ee1bc354007d006286f.last_frame()\">\n",
              "          <i class=\"fa fa-fast-forward\"></i></button>\n",
              "      <button title=\"Increase speed\" aria-label=\"Increase speed\" onclick=\"anim03ad064521d84ee1bc354007d006286f.faster()\">\n",
              "          <i class=\"fa fa-plus\"></i></button>\n",
              "    </div>\n",
              "    <form title=\"Repetition mode\" aria-label=\"Repetition mode\" action=\"#n\" name=\"_anim_loop_select03ad064521d84ee1bc354007d006286f\"\n",
              "          class=\"anim-state\">\n",
              "      <input type=\"radio\" name=\"state\" value=\"once\" id=\"_anim_radio1_03ad064521d84ee1bc354007d006286f\"\n",
              "             checked>\n",
              "      <label for=\"_anim_radio1_03ad064521d84ee1bc354007d006286f\">Once</label>\n",
              "      <input type=\"radio\" name=\"state\" value=\"loop\" id=\"_anim_radio2_03ad064521d84ee1bc354007d006286f\"\n",
              "             >\n",
              "      <label for=\"_anim_radio2_03ad064521d84ee1bc354007d006286f\">Loop</label>\n",
              "      <input type=\"radio\" name=\"state\" value=\"reflect\" id=\"_anim_radio3_03ad064521d84ee1bc354007d006286f\"\n",
              "             >\n",
              "      <label for=\"_anim_radio3_03ad064521d84ee1bc354007d006286f\">Reflect</label>\n",
              "    </form>\n",
              "  </div>\n",
              "</div>\n",
              "\n",
              "\n",
              "<script language=\"javascript\">\n",
              "  /* Instantiate the Animation class. */\n",
              "  /* The IDs given should match those used in the template above. */\n",
              "  (function() {\n",
              "    var img_id = \"_anim_img03ad064521d84ee1bc354007d006286f\";\n",
              "    var slider_id = \"_anim_slider03ad064521d84ee1bc354007d006286f\";\n",
              "    var loop_select_id = \"_anim_loop_select03ad064521d84ee1bc354007d006286f\";\n",
              "    var frames = new Array(5);\n",
              "    \n",
              "  frames[0] = \"data:image/png;base64,iVBORw0KGgoAAAANSUhEUgAAAoAAAAHgCAYAAAA10dzkAAAAOXRFWHRTb2Z0d2FyZQBNYXRwbG90\\\n",
              "bGliIHZlcnNpb24zLjcuMSwgaHR0cHM6Ly9tYXRwbG90bGliLm9yZy/bCgiHAAAACXBIWXMAAA9h\\\n",
              "AAAPYQGoP6dpAABtRklEQVR4nO3deXhU5f028Hsmy2SBTFhCQjAsog1LFJEqRCg/FQSUtqIgxb4V\\\n",
              "EFS0CSpQCxSRULWoWBcgKioK1mqK9pXWqgi/WOGFgmIISxBSpbKUkIBCJhCSmSRz3j8Oz8k5Z85M\\\n",
              "ZrLNcu5PrzTJzFmemSuXc/Ms38ciSZIEIiIiIjINa7AbQERERETtiwGQiIiIyGQYAImIiIhMhgGQ\\\n",
              "iIiIyGQYAImIiIhMhgGQiIiIyGQYAImIiIhMhgGQiIiIyGQYAImIiIhMhgGQiIiIyGQYAImIiIhM\\\n",
              "hgGQiIiIyGQYAImIiIhMhgGQiIiIyGQYAImIiIhMhgGQiIiIyGQYAImIiIhMhgGQiIiIyGQYAImI\\\n",
              "iIhMhgGQiIiIyGQYAImIiIhMhgGQiIiIyGQYAImIiIhMhgGQiIiIyGQYAImIiIhMhgGQiIiIyGQY\\\n",
              "AImIiIhMhgGQiIiIyGQYAImIiIhMhgGQiIiIyGQYAImIiIhMhgGQiIiIyGQYAImIiIhMhgGQiIiI\\\n",
              "yGQYAImIiIhMhgGQiIiIyGQYAImIiIhMhgGQiIiIyGQYAImIiIhMhgGQiIiIyGQYAImIiIhMhgGQ\\\n",
              "iIiIyGQYAImIiIhMhgGQiIiIyGQYAImIiIhMhgGQiIiIyGQYAImIiIhMhgGQiIiIyGQYAImIiIhM\\\n",
              "hgGQiIiIyGQYAImIiIhMhgGQiIiIyGQYAImIiIhMhgGQiIiIyGQYAImIiIhMhgGQiIiIyGSig92A\\\n",
              "cOZ2u1FWVoaOHTvCYrEEuzlERETkB0mScO7cOaSnp8NqNWdfGANgC5SVlSEjIyPYzSAiIqJmOH78\\\n",
              "OC655JJgNyMoGABboGPHjgDkP6CkpKQgt4aIiIj8UVVVhYyMDOVz3IwYAFtADPsmJSUxABIREYUZ\\\n",
              "M0/fMufANxEREZGJMQASERERmQwDIBEREZHJMAASERERmYwpAuBTTz0Fi8WChx9+WHmstrYWOTk5\\\n",
              "6NKlCzp06ICJEyeioqIieI0kIiIiaicRHwB37dqF1atX48orr9Q8PmfOHHz44Yd47733sGXLFpSV\\\n",
              "leH2228PUiuJiIiI2k9EB8Dz58/j//yf/4PXXnsNnTp1Uh53OBxYs2YNnnvuOdx4440YMmQI3nzz\\\n",
              "TfzrX//Czp07g9hiIiIiorYX0QEwJycH48ePx+jRozWPFxUVoa6uTvN4v3790LNnT+zYscPr9ZxO\\\n",
              "J6qqqjRfREREROEmYgtBFxQUYPfu3di1a5fHc+Xl5YiNjUVycrLm8dTUVJSXl3u95rJly7B06dLW\\\n",
              "bioRERFRu4rIHsDjx4/joYcewp///GfExcW12nUXLlwIh8OhfB0/frzVrk1ERETUXiIyABYVFeHU\\\n",
              "qVO4+uqrER0djejoaGzZsgUrVqxAdHQ0UlNT4XK5UFlZqTmvoqICaWlpXq9rs9mUbd+4/RsRERGF\\\n",
              "q4gcAh41ahT279+veezuu+9Gv379MH/+fGRkZCAmJgaFhYWYOHEiAKC0tBTHjh1DdnZ2MJpMRERE\\\n",
              "1G4iMgB27NgRWVlZmscSExPRpUsX5fGZM2di7ty56Ny5M5KSkjB79mxkZ2dj2LBhwWgytZdda4Bt\\\n",
              "zwMj5gDXzAx2a4iIiIIiIgOgP55//nlYrVZMnDgRTqcTY8eOxUsvvRTsZlFb2/Y84Dguf2cAJCIi\\\n",
              "k7JIkiQFuxHhqqqqCna7HQ6Hg/MBw0VLegDZe0hEFBH4+c0A2CL8AzKZ57Pk3kN7BjCnJNitISKi\\\n",
              "ZuLnd4SuAiZqEyPmyOFvxJymj921Rg6Mu9a0fbuIiIgCxABI5K9rZso9f/4M/6rnGrY1hk0iIgoQ\\\n",
              "AyBRWwikt7Cl2jNsEhFRRDDtKmCiNnXNzPZbKDJiTuPiFCIiIj+wB5Aig5mHQQMZmiYiIgIDIEWK\\\n",
              "1h4G1QdKMwdMIiKKOAyAFBn0c+5aGtj0gbKt5tkxWBIRURAwAFJk0A+DtjSw6QNlWy3q4AIOIiIK\\\n",
              "AgZAikxGgc1Xb5v+OX2gbMk8O1/3bc/VwkRERBdxJ5AWYCXxMONrJ4+23OWDO4gQEYUUfn6zB5DM\\\n",
              "JGMoYImSv+u1Rk+ct56+QK/NeYFERNTGWAeQzOP4F4DUIH/XU88dVP9uZNca+biMofK1RsyRj1fP\\\n",
              "51Ofr7t23kfHkZKSgpycHOPrb3se+ZsP4/TGhcj7lKVdiIio9TEAknk0VTDZW4DzdlxVmRwoP37E\\\n",
              "+PoiKIrHHceR9+hCLN10WrmUUQjMPzkIuZ8cAFAL5OUhLy+vea+XiIjIC84BbAHOIYgQ3nr0mjou\\\n",
              "Yyhw4AM5BMZ3AmI7aM99qjdQexaI6wSMWuwR/gBg1e1pyFnwhHJOfn4+cnNzNccsWbKEIZCIqBXx\\\n",
              "85s9gESNPXqA70Ua3o478AHgPA/UnAUKH28MgBYo3/M+Ou4R/gAg9/+WA3gUOX+daRj+AGDp0qUA\\\n",
              "wBBIRESthotAiPxdpGF03LeFcg+gu07+3aI6/sbFgD0Ded9eqYQ4I7n/txwDLk03DH/C0qVL5QDI\\\n",
              "BSJERNQKGACJ/K3xZ3ScCHwxCXI4vHGxx/EpV431esksZAEADn53UvO7kZSUFBaOJjKRt3cexfCn\\\n",
              "PsPbO48GuykUgRgAyRxEz9n7M1uvB23XGkCCPP9vzBONiz10187JycGqVas8Tp+GaViJlZiCKQCA\\\n",
              "KZiClViJaZjmceyqVavkBSPeeivZM0gUcV7+/DBOVNbg5c8PB7spFIG4CKQFOIk0jIhizJYoeci2\\\n",
              "pUWZd62RV/+qr+Wr4POuNch/6tGLc/7knr6VWKk87YADdtiV32djNkogX0MJf/68PhabJooYb+88\\\n",
              "ipc/P4wHru+LXw3rFezmRBR+frMHkMxC9JwNvC3wgs/63jV1+LNEafcLjusEuM579sRtex45V1zA\\\n",
              "qtvTAAAlKMFqrFaeVoe/1VgdWPhTvz5uKUcUMX41rBe2L7iR4Y/aBHsAW4D/gjCJp3vLK3zjOwHz\\\n",
              "j2h7E29Zrp0TqO6J09cFvPjzgGl/xMGDBwEAG7BBE/4ccGACJgAA+vfvj6+//tr/MjVEFFJasweP\\\n",
              "vYGti5/f7AEkM2nuPEBJ9z1jKAALEG3zvP6FH+TnMoZ6FpaeU4L8L2uV8DcFUzThD5B7AsWcwIMH\\\n",
              "DyI/P7/xOgc+4AIQojAS6Bw+X4s+OB+QWhsDIJlH4eNygCr5q2eQ8rWIYtRieWjXcvG4418AkIC6\\\n",
              "C/JQsDhn2/PyY5Aae+pET+CuNcif2F0p9ZKFLMzCLOUWDjiUn2dhlrIaODc3F/knB3kfvm6LxS1E\\\n",
              "1CoeuL4veiTH44Hr+3o9Rh36fIU8f65FFAgOAbcAu5DDyK41wEfzAEhyyZaELtqh1KYWUYhhYFiA\\\n",
              "rIly/b/aSvl64pxda4DPHpd7Ci8b1bhbyOFC5G+pQO4ntZpLTsM0TMd0rMZqFKAAUzAFszALa7EW\\\n",
              "67BOc6zXuYCtvbiFiNrV8Kc+w4nKGiXcBTLMy2Hh5uPnN3cCIbPY9jwASQ5KY57wnENntE+wei9f\\\n",
              "5Z9JF3v3FhzRPg/I1zz6L3motvRjuTfQcRz5X7o8wh8ArMM6FKFIWfBRgAKUXPyfnug59AiBot3q\\\n",
              "+YFEFDb0oS+QIKfuMfR2HkMiecMhYAp9LalxJ87NGNo4jKqu1SeeBzyLPIu5dx/NBTr3lheBRCc0\\\n",
              "rvI1Kgwt9gauu6A8dPqC22vzRNjrn2rT/G7k9GnPreSUNvS6zvf7QETtyt8izr8a1ksJgYEWfPZn\\\n",
              "WNjXsDILTZsbAyCFvkB3v1AHRnHu8S/koHT8C+21xPOfPe4ZMtW9aSf3ySuAE7vIQ8HifH04HXhb\\\n",
              "4zkxCQCAvOvjsOR/Yr02d9XMYfj6w3ylRIyRJff8zPdewNwhhCik6IOXt7D19s6jWPK3Es2xt9/z\\\n",
              "MC699UGfwSw/Px/fbnyzyTIx6pCobwMXlpgbAyCFvkBr3KnDkP5cb79L8AxQ18wEsibJw8Yi2OnP\\\n",
              "1wevSWuA8c/Ji0aibfL5sMghcJR2xS8ArLo5DjkZpR51AtWW/E8s8gb8p3XfIyJqVfpwpe+d8xa2\\\n",
              "Xv78MBokIMoin5OXl4cP1ryI7/6+Eo8t+6PhvfLz85Gbm9u4R7gP6lqC+jZwYYm5cRFIC3ASaYhS\\\n",
              "z83zt16efj5f4ePyql+xt6/6evpjP3scqHfKP0sAYi6Wh6k52xgeL87Py3t0IZZukodyV80cJoc/\\\n",
              "ES4PfAAMvA35FVcrc/6W3PMzOfyx9h9RqzCaE9ca8+TUizm2L7jRr/vqH/9245tYunSp5jz9AjAR\\\n",
              "/tSWLFniEQTb6nVGCn5+MwC2CP+Awoi3YsrqlbujFsuPiZW1gNyrBmhXCIvn4zoBtg7ynMCas9r7\\\n",
              "xXUCnFWeK3N3rUHeowuRktEXOQPPNbZDV0A6/6lHcbrzNch77e/t9hYRmYHRqttqZz0qa+q8hjd/\\\n",
              "PPhuMT7aV4bxV6ZjxZ2DAzr37Z1HsfDRx/DfwrcMnxch0Cj8CfoQ2FQgNTt+fnMImCKNtwUj+mLK\\\n",
              "hRfn/BU+Loe32rPyz0Djlm7xneTA6Dov/y56/DKGyj17DU75WhLkY60xACzydwuM6/ZdMxN5TyxD\\\n",
              "ziUHG9sh7qnaPSTnigveh31bsiimNa9BFIbUw55iSBRAi4dCi46eRYMkfw+Ur/AHyFUABgwY4DX8\\\n",
              "AfAYDg6H4V0uQgkuBkCKLPo5eUargO0ZckBzHJe/y/+nfMM1M+UyLzculgNjzVm5p08MwR7/Qu7Z\\\n",
              "i7LJwQ+Qj+2YBkAC3HXyOSV/1Q7dirYUPg6lrkyDs/GeYkVxU/P5WmPBBxeNkEmp58SJkPSbsZkt\\\n",
              "3nPX12KLptx41WVenxNF4cUOQuJ3IykpKcrP4bCPMBehBBcDIEWOXWs8e+v0q4AnrZG/37hYDlk3\\\n",
              "LgbG/7HxZ7XPHpeDHiyN13t/JuD4r7zC97JRQE1lY+9hxlBdg6TGkjPPZ8nX04dOCZ49cfryMvre\\\n",
              "utZY8MFFI0StFpLe3nkUz35aijPVLjz7aSme/bTUrxXAwrpnF2PVqlUej0/DNKzESmV7yCmYgpVY\\\n",
              "iWmY5nHs1Hm/Ny4WH8LCoZcykjEAUngyGsLc9nxjbx2g7fnTBx3R0yZ6wPSB66necrgDgLjkxucO\\\n",
              "fAB5G7iaxp8BuSfv+BcXL26RA2LcxSHkj+bJwa/O6Rk6Y2zyc+ot5fSvry1664xqGBKZkL+9dU3t\\\n",
              "01tZU4eaugZU1tQBgF8rgNXXtQ/5qSYEZiEL0zEdgLw95AZsULaPnI7pmp7AVatWYd2zun/AtuC1\\\n",
              "tpdw6KWMZAyAFD6aCkW6eXSanj+joOMtWG17Xu7VgwTAIi8OEbpfKX+3Rl/sHbwo2tZ4//F/BBad\\\n",
              "lM9Th8T6msYhYRHAblzcuI2buh2+Stn4Ewg5x4/IUHNr4TW1T29yfAziY6KQHB/jMaTsq6dLfd2c\\\n",
              "nBwlBJagBKuxWjnOjsYyUquxWika73WbyABfA5kPAyCFD1+hCPB/Hp1+XqD+GM3vqmFcAKj+Xv4e\\\n",
              "20E+N2tSY6+eulfx1evlHUTEEDIs8rU+misPI6vbfMtyz3aIhSYew8rwb/iWc/yIDDW3Ft6QXp0Q\\\n",
              "ZZG/6/1qWC/sWTIGBx8fh9+MzcSzn5biqqWblJDprafr7Z1HUe2sR3J8jHL/nJwc9O/fH4C8PaQD\\\n",
              "Ds05DjhQgAIAQP/+/TXhTx1ujXr7OORKahFbBubll1/Gyy+/jCNHjgAABg4ciMceeww333wzAKC2\\\n",
              "thbz5s1DQUEBnE4nxo4di5deegmpqal+34PLyFuRP7X7/K3v19Rx6pIrc0qMzxN7+kbb5G3d7Bly\\\n",
              "GCv5KxATb7yfsPraauOfk79/NFf+bokClpzx3n59G4GLcwej5LDoz7Btc2ohEpmAqIU3pFcnFB09\\\n",
              "63dNPFFWJcoCLL01y+s54jgASI6PQaIt2mvtP1F+Rn2co+gfymrfKZiiDPuqrcZqJQSuWrUK9iE/\\\n",
              "9ShnA4BlYHzg53cEB8APP/wQUVFRuPzyyyFJEtatW4fly5ejuLgYAwcOxAMPPICPPvoIa9euhd1u\\\n",
              "R25uLqxWK7Zv3+73PfgH1Iq8hbLmeKq3PIQbnSBv3aYPQd7Ckb4N78+UA581GoiKUe3vawHyKo3v\\\n",
              "Lc4Rw8dZE+WFJ4DcK1hWDKQPBu773Pdr0Beb/vgRz5qCRNRsRnXyfBVPHtKrEz7aV4YGCR6hSn0e\\\n",
              "ADz50deorXMj2mpBnVtCfIwVnRNtynXFvUXwO1PtRE2dG/X7P8GJj/MByHMAV2Klcg8HHJph4NmY\\\n",
              "rQwD9/n5bLj7j9UESQAs+uwDP78jOAAa6dy5M5YvX45JkyYhJSUF77zzDiZNmgQAOHToEPr3748d\\\n",
              "O3Zg2LBhfl2Pf0CtqDV7rJ7ufbEw88VhV39Dk74NSztr5/kJMQnyHD+jc53nL84fhGdPn2hXfCd5\\\n",
              "yFgUpv62UF5EInYREcPJvtpGRC2iD3tiT159wDMqHC16D8V30fMmegfV9QXVkuNjAADOenlqiC3a\\\n",
              "qgwZH9/+Ac5sfkVz/DRMw3RMV3r8RI/gWqzFOqzTHNvn57Px+4XzlNfib/gz6+4g/Pw2yRzAhoYG\\\n",
              "FBQUoLq6GtnZ2SgqKkJdXR1Gjx6tHNOvXz/07NkTO3bs8Hodp9OJqqoqzRe1ktZclSpKvGRNbBy6\\\n",
              "VS+I8LZAQrQBkJ/vfqUc4sQwLCCHvzFPeN5TzLmzXDwGlsYt3gRJ9V0cX/JXOTDWXQDqL8gBUT1v\\\n",
              "T7QVMH5/uNiDTK65K1v18/LEnrwAcKba6XVPXwDY+u/TOFFZg4/2leFEZY2y8rdBknv/xDnxMfJH\\\n",
              "bHyMFT2S4+Gsd19cLeyGq15eMfzy54cx6NwXHuEPANZhHWZjtjLcW4ACzMZsj/AHAN/9fSUcRf9Q\\\n",
              "XktTq44DXQRDkSeiA+D+/fvRoUMH2Gw23H///fjggw8wYMAAlJeXIzY2FsnJyZrjU1NTUV5e7vV6\\\n",
              "y5Ytg91uV74yMjK8HktBJIKcqPl3/AvtgoimFkiI56u/95yrl9DFOKSKRRt9R8m9g3mVQK/rtOFs\\\n",
              "1MVgOmpx40IOa3TjNaIT5N5B9eIOf9uqLyNDZBKBBBhfYfGB6/si6mJ5zpo6t+H1xL0qa+rkzX7S\\\n",
              "7Ur9eKG2zq2Ey0XjB6BHcjxuGpB28dnGAbfYaHnF8JBenfDZnm+9tlkM88Z366n53Uhh8TcY/tRn\\\n",
              "GNKrk1+rjsXr5sIQc4roAJiZmYk9e/bgiy++wAMPPIBp06bh66+/bvb1Fi5cCIfDoXwdP3686ZMo\\\n",
              "+PSrZptaIew8rw1i6q3hvK28FbuDKLUA4Rne1L2cYsWwu15+Lr4T8OhJYP4RbcBsasXviDnGZWSI\\\n",
              "TMLfACOGeL2FxV8N64Wlt2YhOT5GsypXBKYnPzqIMtWwrgTgQJkDcTHaj9G4mCiPgCl6DGvq3IiP\\\n",
              "sSI5PgY1dQ04V1uHrf8+jagfT8Ylo6Z6bfuqVatwoeKoYbFo4baZD2Fvyk1Kz6S3IV1RsqbaWY+3\\\n",
              "dx5lLT4Ti+gAGBsbi8suuwxDhgzBsmXLMGjQILz44otIS0uDy+VCZWWl5viKigqkpaUZXwyAzWZD\\\n",
              "UlKS5ovCgH5oF/BdG7D2rFzmRTwvtobThzM1EdQyhsqLUJ7urS0z461wNSQ5wKl3IVEf29TQuL6M\\\n",
              "DIeEyWT8DTDPflqKBkmepeErLCbaovGbsZkeNfxq6xrE0i4kx8fAAihDxlEW4OeD0tEjOR41dQ1K\\\n",
              "wHzyo69xorIG1c565fo1dW6M/FEKoizy+dUu+bm4a3+Ba2+/z6M9YpWvKBY9dd7vPY5ZsmQJ/pNx\\\n",
              "i9KeBkl+vUa9nb8a1guJtmhl+JnMK6IDoJ7b7YbT6cSQIUMQExODwsJC5bnS0lIcO3YM2dnZQWwh\\\n",
              "tSl/auMZ9bgZhSr9YyKoHf9CDpA1Z7VFqH0VrtaXdlEfK+7z/kzvwU4dEln/j8inuBgrXv78sEcw\\\n",
              "UvcQLvlbiVJLTyz6iIuJggXAzwalY8+SMXh8QhZ6JMfDFh2FBknu5dPX9KutcwMA6t0Sfj4oXblX\\\n",
              "0dGzWHprFuJjolB3MbXVuSU4r5yo6Qns8/PZKO18HRZvkNv17Kel+LbrcHS+6X7lmNtmPoTNcSPh\\\n",
              "rJfvJeYbAvBZuJrDvhTd9CHhaeHChbj55pvRs2dPnDt3Du+88w4+//xzfPrpp7Db7Zg5cybmzp2L\\\n",
              "zp07IykpCbNnz0Z2drbfK4ApjIgVtKKocqD736pDlQhq+sfU93Cel7sJ1PcRBaL1hauNevbUx4r7\\\n",
              "VJU1DvP6WihjdB+iCBTo6tXfjM1UauWpg5G4hnoRSIME5fkTlTUoq6yBBLnnb8WdgwHIPWm/GtYL\\\n",
              "D75bjI/2lcFZ34CaOjd6JMcr7fnZoHR8tK8M469MV877aF8ZhvTqhF8N64Ulf2uczxdjlWcTRv14\\\n",
              "MpJr65Bo7wx3/7H4+94y5RhHTR1G/igFuPEOxPSw4/Dxk/hPxi2orKxBfIwVURbgpgFpWHHnYI/S\\\n",
              "NGqi7WRuERsAT506halTp+LkyZOw2+248sor8emnn+Kmm24CADz//POwWq2YOHGiphA0RSARooCm\\\n",
              "y8EYhT2jUKV/TH2PBUfk76L3Tr39mz/0x4pgefyLpoOdOFd/b6IIo17M4E+YEaFHHYye/bQUlTV1\\\n",
              "ePbTUvTsnHCx3EscAItmDuCZahdq6gxKQkHuzWuQAFt0FGzRUZq5dSvuHKwEP/WxW/99GsOf+gwD\\\n",
              "0+3Yd0Le6aNbUhweuL4vlvytBPYR/wfxMVa46t1KKAXkeYdFR89i+4IbMfwpICpVnpPYIzke1c56\\\n",
              "1NS5UXT0LN7eeRTPflravDeWTMNUdQBbG+sIhYlAaug1t97erjXAZ4/L/4UedbGOX2sWtw5UMO9N\\\n",
              "1A58FW32t1fwqqWblJ04ztXWoUGS5/MdXjbe573Uv3/53Rmll6/o6Fmfu2+I3sLYaKvSWygKTIte\\\n",
              "Qv0uIfEx8rGA3DZxH/1OJuLa6nYAnkWrScbPbwbAFuEfEAFoDI0XfpDr+cV3kheM6MOkUbhsqwLP\\\n",
              "LBxNJmS0u4cv3oKcuteuqfsAUHb1ENSLSNT3WryhBBKA+JgodE6MVYae9YWm1b2PQ3p1wtZ/nwYA\\\n",
              "jPxRitfdSNRb1Y2/Ml05x6gtxM9vgAGwRfgHRABU+/9e3HkkrlPjMLDRcepeOfbUEbWattjVwuia\\\n",
              "6t42APhwb5lS4c9b+FTvEazeGg6Ax5B0cnwM9iwZozlP30spevqMdjJpar9i4uc3YLJVwERtQqzm\\\n",
              "FTuPjFrs+zj9XEJfdf78wdIvRAD8LwkTCKNC02IuX9HRsyg6elYJf1EW7yVmRP295PgY2KKjNPMX\\\n",
              "RZvlLeKgfH9751FlZTEATbgTw7zqdnWMayxPwxIv1JSIXQRC5JfWGCr1d4GH0XGBLA7xxmjhClGE\\\n",
              "asu9a/UrZ8UQLCAHOHVZmGpnPaqd9Rj5oxTl5zq3hCc/OggAhvMSRa+e+jrDn/pMeS226CjU1Llh\\\n",
              "i45S7l9ZU+cxPKzevk7dVtF7mGiLZokXahKHgFsglLqQzxYU4PtXX0PX++5FpylTgtqWsBIJQ7Cc\\\n",
              "70cmEug8P8Gf4Gg0t099H/WiEQCa4dq+Cz9SVuyqz/HVXvFcfIwVtXVuRFstmkLU3trsLaiqh4QD\\\n",
              "1ZbBOhSF0ud3sHAIOEJ8/+prqC8rw/evvhbspoQHMWyq3q3D13H64dVQGnZtarcQogjS3CLG/uwZ\\\n",
              "rL52oPcZmG5Xfha9huohXKPrNO4y4oYEuRg00Nh76G1IW/1axM9i0UdzBbKnMkUGBsAI0fW+exGd\\\n",
              "no6u990b7KaEBzFsqt6tw9dx+p01AtlxI5TCIlGYa+48P3Wge3vnUcNt0pq6z2/GZqJHcjx+MzZT\\\n",
              "8zMA/FDtUo4rOnoWQOOwrPjZaFu27QtuxM9Uu4QE+lrEz4D3nT8CvSaZA4eAW4BdyGFEPUwKAIWP\\\n",
              "y4t2b1zsu+dMvcOHKMTsraSLN2KY2RLlue0bEbU7b8Oy6lIqS2+V9w33NiyqLyHz4d4yREdZkBjr\\\n",
              "OYQravr5Grb2Z7jXV+g1GhbW/2yGoV1/8fObAbBF+AcURtRz/YDA5/35O1fQW62/jx+Rt3IL57mG\\\n",
              "RGEm0FClLqXibR6gUagrd9T4LCItduUY+aMUwyLOvqjDqtFCkKbOMXoNxM9vgEPAFMnUQ6/qcivN\\\n",
              "Kb3i7zlGQ8PXzJR7/lpa7oWIAuJtXpvR8K4IduOvTPc5D1BcE4DynJj/p54HKIjafgCw+etynKis\\\n",
              "wd/3luFEZQ2W/K3E5zA0oB2a9XeeXkvmMpJ5sAewBfgviBAXjBW+/uz+QUTtIpCVrU2tLlaXbtH3\\\n",
              "3hmdK44X+wgnx8fAUVOn1Ay8WDY+oJ49s63UbUv8/GYAbBH+AYW4UAhfkVBmhsgE1EO1Rtun+QqI\\\n",
              "Iph1SYzFgTKHZj9edV2+L787g7/vLQMgbwfnqm9Qtm3T7wCi3m2kqa3pmnpdDI2e+PnNIWBqJ2cL\\\n",
              "CvDNjaNwtqCg/W4aCuVRWmOnDyJqc78a1guJtmhU1tQZDrH6GkoVQ8oHyhxokOSt4UT5l9+MzVSG\\\n",
              "m1fcORhPTMhCj+R42KKtym4iRsSevx/tK9M87s8KZjWWdyFvGACpXZi2TmFzQyhLxxC1O39CnlEv\\\n",
              "mghlA9PtiLIAcTFWVNbUIdEW7XG8uI4oI/PA9X09SsoA8l6/Ys9ftUADHecAkjccAm4BdiH7rz12\\\n",
              "Komo3VA4dEzUblo6TKofHm6LYVdfcxApcPz8Zg8gNUNzhnM7TZmCyz8rbNNgFpK9jM3tyePQMVG7\\\n",
              "aekwqb7IdFvMuRNtLDp6tlmFsIn0GABNpjXm4oVk0EKI7oYSyI4haqEwf5HIJFo6TKoeHm6rOXcc\\\n",
              "yqXWxiHgFgjHLuRvbhyF+rIyRKen4/LPCn0e621INdDHTS0UViITUbvhqtvwEI6f362NAbAFwvEP\\\n",
              "yFdI0z8XSFgEAguXREREwRKOn9+tjUPAJuNrLp5+aDfQIVVxfMLgwe1f8oWIiIj8xgBICn3gC3Th\\\n",
              "hjj+QnGxxxzBvLw85OfnA/A+DzE/Px95eXmt82KIiEJUoLX8iNpCdLAbQK2rJfPwOk2Z4vMcf6/d\\\n",
              "9b57leMAOfwtXbpUeX7MX/+vEhDFdfLz85Gbm6scwyBIRJFKvVCE8wQpWNgDGGGau0JX9MqdmPcb\\\n",
              "r8O33q6t79HrNGWKEgLnT5qkCX+5ubnY0LuXpqdRH/6WLl3KAEhEEYsreikUcBFIC4TiJNKmeumM\\\n",
              "nj8x7zeo+ugj+YCoKKChwXAhh7drGy3++ObGUXhh31689MMPhu185u67MeHIUWzo3Qu/ffNNw2OW\\\n",
              "LFnCIEhEIYGreyNLKH5+tzcGwBYIxz8go7B2cGAW0NAAALDExcFis6HbnIf9GkI+W1CAU8+/AACa\\\n",
              "c+ZPmoRn/vpXn+deGhuL/7hcPo9hCCSiUKDf7YPCWzh+frc2DgGHuUALO6sXeohz4/r3BywWAIBU\\\n",
              "WwtrYqLX3kP9vb5/9TW4HQ6Pc3recIPXNmQhCwCU8Cd+N5J47BhXFBNR0HHYliINA2CYC3TOn3pl\\\n",
              "rzjXdfw4YL34pxAV5bXsi9G9vJWKycnJwapVqzyuMQ3TsBIrMQVyWJyCKViJlZiGaR7Hrlq1ChOO\\\n",
              "HA3JXUeIyFzUu30QRQIGwDDXku3PxLkA5CHgqCikLX7U69CvUZ0/9YIP0Usnegp/2aULnrn7buX8\\\n",
              "LGRhOqYDAGZhFjZgA2ZhFgBgOqZregJXrVqFnJwcv19fa2xxR0REZBacA9gCoTKHwNs8vEDOVy/u\\\n",
              "UP8OwGPhR+nQYfKwr92OzC92eswrVP8OAG8dOIAnTlUAkHv8ROhTW43VKIAc3h67/EdY+u/SgF4D\\\n",
              "dyEhIiJ/hcrndzCxBzACnHr+BbgdDrgdjmaVf9EHPDHUW/74Ezj1/AtNDsHqe+nUv3e9715MHTgQ\\\n",
              "P+rRAwBQgAI44NCc74BDCX994+Lw8O+XIlAt6QklIiIyGwbASGKxBByAjOb1JQweLP9wcWWwGPYt\\\n",
              "HToMpUOHocOIEbDa7QCgDANf/lkhLuz6CgcHZuHCrq+UYWEA2DTxdvz7xAkAcg+gHXZNG+ywK3MC\\\n",
              "D9fW4h0vpWN8CXTXEiIiIjNjAAxD+vlu3eY8jOj0dKQteazJnTz08+SMes4uFBcrP3cYMQKXf1aI\\\n",
              "89u2Kb2MF4qLYU1MhNvhQPnjTyjXq9q4EWhoQNXGjUqwfOGxJUqR5yxkaYZ/1T2BszBLmQOYm5uL\\\n",
              "5TNmtOQtIiIiIh8YAMOQvtfO394vcd6p519Qdv34/tXXEN25M8offwIn5v0GgKoHEHKoOzHvN3BX\\\n",
              "VckPXOxlVPcSinYkjRsHREUhadw4dL3vXhS43fj9N/9WrlWCEqzFWgDynL8JmIDVWA0AWIu1KEGJ\\\n",
              "cuxv33xT2TuYiIiIWhcXgbRAsCaRNne/X3Geu7oabodD2fVDERWF/gdKlAUV6sfVq4QBoHzp7wFJ\\\n",
              "AiwWw57H5TNmeN3hIwtZmrCn/11t1apV+GWXLs3e35iIiEiPi0DYAxiWmjvfTZwnhoyTxo1DdHo6\\\n",
              "4rKylJ47oHFYWDwe17+/PMR8sUTM96++Joc/ALBY8P2rr3nsIXzsn//02g4R9i6NjdX8buT06dPN\\\n",
              "3t+YiIiIjDEAhhF/a901dZwIgj3++Cy63ncvXMePw9qhAxKu+bGmd7H+zBmgoQH1Z85oAqdmoYnb\\\n",
              "jfqyMlRt3KgJaQtun4hfd03x2sbFvXrhH30uxaPdUr0eI7aB09cf1IdNIiIiCgyHgFugvbuQ/a11\\\n",
              "Z3Sct9p+ooQMACAqCtYOHeB2OGCJi4PkdMJisyF1wXyP3sYT836Dqo0bEde/P+rPnEHC4MG4UFys\\\n",
              "DNOKNqz64Qe89P1pzbnqYV13dTXePnJEqRMo/HbiRDz9/vuGr0tgzT8iImoODgFHcA/gsmXLcM01\\\n",
              "16Bjx47o1q0bJkyYgNJSbXHh2tpa5OTkoEuXLujQoQMmTpyIiooKL1cMPn9r3Rkdpx5G9Tqkqir7\\\n",
              "IjmdgCRBqqszHGru8cdn0f9ACfq8/57SmyjC2Dc3jpIXiURFIbdLF/y6S1flPLHDh3o4eurAgZod\\\n",
              "Q37dpQtmHP+v4etCVJT8i48t64iIiMi3iA2AW7ZsQU5ODnbu3InNmzejrq4OY8aMQXV1tXLMnDlz\\\n",
              "8OGHH+K9997Dli1bUFZWhttvvz2IrfbN37l/+u3ZzhYUwF1dDavdrhRnFgFRmQ84fjyi09PRbc7D\\\n",
              "uPyzQiTdcosy/89ouNXbMLMIl1UffaQEytyuXZGT3gOPXf4j/LJLF801RE/kI2+8IYfD9B7I7ZoC\\\n",
              "d1WVx9ZyAJC2+FHNfEQiIiIKnGmGgE+fPo1u3bphy5YtGDlyJBwOB1JSUvDOO+9g0qRJAIBDhw6h\\\n",
              "f//+2LFjB4YNG9bkNUO5C1k9DCxW/Yqt29S8rSgWQ7yWmBhItbXKcKs4vuHsWUg1NbDa7eg252F8\\\n",
              "/+prSBg8GOcKCyHV1jbewGJBdPfuaDhzBlJtraYN+qFqsaWdu6oKkCTDreU45EtERC0Vyp/f7SVi\\\n",
              "ewD1HBfnuXXu3BkAUFRUhLq6OowePVo5pl+/fujZsyd27NhheA2n04mqqirNV6jyd7hYPxwsetuq\\\n",
              "Pv4YaGiA5HQiOj0d0Z074+DALFQ89TTqy8og1dQAANznzqE8b6nS66cPf0m33ILLPyuExWZTHhb3\\\n",
              "SBg8WNPG7199TZmPaImLg7u6GmcLCrjNGxERUSszRQB0u914+OGHMXz4cGRlybtNlJeXIzY2FsnJ\\\n",
              "yZpjU1NTUV5ebnidZcuWwW63K18ZGRlt3XSFvyuABfVwsRjm7TbnYY/jxFy9hMGDcbagAOWPP4H6\\\n",
              "sjI5sEVFIemWW9D1vntRW1KiCYSW+Hj5Am63xzWtdjvS8pag/8Gv0eOPzwJo3K2kw4gRyj0uFBcb\\\n",
              "zhsUcw/F3saBlr0J9L0iIiIyG1MEwJycHJSUlKCghYFg4cKFcDgcytfx48dbqYVNa0ktPHWA0oej\\\n",
              "C8XFQEMDLhQXy9e+WPA5dcF89D9Qgh5/fFZzz7iBAwEAHW+8UVMrENaLf0rR0bAmJuLCrq+UvYM1\\\n",
              "+wVfvJ8Ind/cOAqnnn9BCYRijp+oUdicXj/WDSQiIvItOtgNaGu5ubn4xz/+ga1bt+KSSy5RHk9L\\\n",
              "S4PL5UJlZaWmF7CiogJpaWmG17LZbLCphjLbkn5unljUIUKTKLuSMHgwzm/bppRs6TbnYZ89ZSIc\\\n",
              "lT/+BAAo19WXh7mw6yuUP/4EksaNQ8LgwaiqqEDSuHG4UFwshzVAU2KmPG+pfIP6enk4uKJCWQQi\\\n",
              "gpjYdq5edy2r3a6EvU5Tpnhtv787oOhfExEREWlF7CIQSZIwe/ZsfPDBB/j8889x+eWXa54Xi0De\\\n",
              "ffddTJw4EQBQWlqKfv36hcQiEG8LH5RaeKrt2dTbuekXa6jDkrdFFnqaQBcVhejUVCWoSU4nJKcT\\\n",
              "SbfcogzvGtXni+7cGbUHDih1BEXwVNprscBis/kMrWIhStK4cejxx2ebrG/oKxQ2d/s8IiKKPFwE\\\n",
              "EsFDwDk5OXj77bfxzjvvoGPHjigvL0d5eTlqLi5esNvtmDlzJubOnYt//vOfKCoqwt13343s7Gy/\\\n",
              "wl9b87bwQTwuhkiTxo2D1W6HJS5OKfOinsunHgYViywscXHKEKyRU8+/oPycNG6cck8A8iIPScKF\\\n",
              "4mKcLShA6dBhqD/dWOjZEheHyz8rlHcRuTiXT99uZZ5fbS2siYleA1nVxo1AQwOqNm70KGWjfk3+\\\n",
              "DPdyWJiIiKhRxA4Bv/zyywCA66+/XvP4m2++ienTpwMAnn/+eVitVkycOBFOpxNjx47FSy+91M4t\\\n",
              "NeZtKNTXEKnwzY2jlN5BdVgSQ6Pu6mpINTXyfDwfrHa70ssn5g+KcOixiwigzB0Uz5c//gTQ0KAZ\\\n",
              "jk245sdIuObHmut4kzRunNIDKMJrdHq65vX7O9zLYWEiIqJGETsE3B5CtQu5qeFO/TZu+uO8bRun\\\n",
              "v1bp0GFKABT1AL1dR/TABVrLT1xDv9WcP6+TiIjISKh+freniO0BNLOmegnFStzagweVHjpvoUrM\\\n",
              "uyt//Alc2PWVsvDkQnExYjMyUHv+POL694fr+HGlV09c68Kur1BfUYELu75qVg+cGMpGQwPOV1fD\\\n",
              "mpioeV49rMsASERE5L+InQNIntQFmK12OyyxsU3OqVP23704F6++rEz5LgJk7cGDcDscSt0+fTHp\\\n",
              "qo0b/arlpy9Roy5LA8BjDh8LRBMRETUPA6AJiGClrrdnTUyUt3LTLcLQh6pOU6Z41OYz+m6125Uw\\\n",
              "KUKkUkx63LgmizOfLShA+dLfo76sTDM/UOz7KwpJq8NeIAWiWRyaiIioEecAtkA4zCFQD6Na7XZY\\\n",
              "ExObnNvn73W9na9eLCLmBTa1n6+6lIzRnsUtxf2EiYhICIfP77bGHsAw5k+vljKMarEAgKbY8uWf\\\n",
              "FeLCrq9wcGAWTsz7TUD3aqqsivv8eWVIWNzX13Bt1/vuVXoRjbasa6o9TeFwMRERUSP2ALZAsP8F\\\n",
              "4U+vluipc1dXK2VU1MceHJilzLPrf6DE6zX0vYjRnTuj9uBBpUizUbsQFYW0xY+2aIGGt55G9ugR\\\n",
              "EVFzBfvzOxSwBzCMJQwe7LOgM9A4T04/h070oMX176/M0zOiDn/qxRhiAYhRLUH13D316mJ/euz8\\\n",
              "7Wlkjx4REVHzsQxMGBPlXJoq6Aw0lmZR78sr5tx56/lTjr8Y/tIWP6o8pq7LZ3QvfVkZ0QPZVMkW\\\n",
              "fWkXsQ+xPuT6UxCbiIiIjLEHMIz56gUz6nFThyujc43O0ffmiR7FhGt+7Fcb1UHTnx47fa9mICGX\\\n",
              "iIiI/MM5gC0QynMIjObINbVzRiDz6vw9NtDdOvTX5W4fRETU2kL587u9sAcwQhn18DVVNy+QeXX+\\\n",
              "HhtIrT6j6wZ6PhERETWNPYAtwH9BBBd7B4mIqDn4+c0ewIgXyTtgNFWLkIiIiIwxAEa4SA5JLAVD\\\n",
              "RETUPCwDE+HE3ryRGJJYCoaIiKh5OAewBTiHgIiIKPzw85tDwERERESmwwBI1MrWl67HmPfHYH3p\\\n",
              "+mA3hYiIyBADYASK5JW/4fDaXt//Ok5Wn8Tr+18PdlOIiIgMMQBGoEhe+RsOr+2eK+5B98TuuOeK\\\n",
              "e4LdFCIiIkMMgBEoksujhMNrm5w5GZsmbcLkzMnBbgoREZEhrgJuAa4i8h937SAiolDBz2/2AFI7\\\n",
              "CYehWyIiIrNgAKR2EQ5Dt0RERGbBAEjtotOUKbj8s8KgDv+yPAsRUdP2bv4Yr+XMwN7NHwe7KdSG\\\n",
              "GADJNFiehYioaV9ueB9V35/ClxveD3ZTqA0xAJJpsDwLEVHTrp0wCUldu+HaCZOC3RRqQ1wF3AJc\\\n",
              "RURERBR++PnNHkAiIiLT47w/82EAJCIiMrmWzPtjeAxPDIBEbSjQlcdcqUxErSWQYNaSeX9cNBKe\\\n",
              "GACJ2lCgK4+5UpkocrV3T1kgwWzQTbfg3vw3MOimWwK+DxeNhCcGQKI2FOjK45asVGbvIVFoa++e\\\n",
              "svYKZi0JjxQ8XAXcAlxFRKFkzPtjcLL6JLondsemSZuC3Rwi0tm7+WN8ueF9XDthUquHpba8diTi\\\n",
              "5zd7AInaVHv2yrHOIVFoa8ueMs7Do0AxABK1ARH8Vuxe4TGnryWh0Ne5kzMnY9OkTZicOTngc4ko\\\n",
              "vLV0uJcrec2HAZBIpbVCkljM4WxwwmqxYnC3wR7PNWehR7DOJaLQ1tzeRRH8thW8xR5Ek4nYALh1\\\n",
              "61b87Gc/Q3p6OiwWCzZs2KB5XpIkPPbYY+jevTvi4+MxevRofPPNN8FpLIWMloQkdXgUw7G2KBvc\\\n",
              "khvFp4qV4/RDtXl5ecjPz/d57fz8fOTl5bVomJdDxEShK1g9cGLoGJKFK3lNJjrYDWgr1dXVGDRo\\\n",
              "EGbMmIHbb7/d4/lnnnkGK1aswLp169CnTx8sXrwYY8eOxddff424uLggtJhCwT1X3IPX97/erJCk\\\n",
              "Do9iKHZ96Xos37Uc5dXlmL91Pp4e+TQmZ05Whmnz8vKwdOlS5Ro5OTnKz+tL1+P1/a8jY18G3nj8\\\n",
              "DQDAEizBprzmLfBQ35eIQot6Dl9zevGauwDk2gmTuHjEpCK2B/Dmm2/GE088gdtuu83jOUmS8MIL\\\n",
              "L+DRRx/FrbfeiiuvvBJvvfUWysrKPHoKKTL4O7Trax5dU9e454p7EBcVp4Q9cT2X2wUJEjYe2ag5\\\n",
              "Xh/+cnNzNT2Br+9/HSV/K1HCHwAsXboUeXl5Tb7e1sA5g0RtR9/jF6xCzINuugUnUnpi27+/83mc\\\n",
              "GIVoDZxvGBoiNgD68t1336G8vByjR49WHrPb7Rg6dCh27Njh9Tyn04mqqirNF4WH1pj/9uLuF3Gy\\\n",
              "+iRe3P2i5nERlAAYhr1xvcfBarGif+f+SqC6I/cOTfgT1CEwY18GTr590uOY9gqBnDNI1Hb0oc3X\\\n",
              "HL6mAtO1EyYhLrEjXLUXNMf4E7TEP0Rzc3Pxy5HZhsfm5+cjNze31f7bwxXLocGUAbC8vBwAkJqa\\\n",
              "qnk8NTVVec7IsmXLYLfbla+MjIw2bSe1ntaY/2aBBQDganBpesbUQUmEvXG9xynnPT3yaeyduhdn\\\n",
              "as/gZPVJLFy8EO/ne/8PX25uLi657BJNz5/e0qVL0Xdy3zbtneOcQaLA+du75avHT38No8C0d/PH\\\n",
              "yJ9xJ/JnTgEAxMbHo/b8ec0x3s4T19aPQrz7/3biyccWa9oiwp/QGiGQO4eEBlMGwOZauHAhHA6H\\\n",
              "8nX8+PFgN4n8pB/a9Wd4U3/Mg1c/iKTYJDgbnDhZfRLLdy3HoLcGoXNcZyTFJuFC3QUMSR2CRUMX\\\n",
              "ofhUsce1RaC6tMelXu+ZhSwAwInDJzS/G6mx1bRp71xTZWWIyJO/vVu+evz01zAKTF9ueB+11eeU\\\n",
              "0Gd0jLfzqr4/hUd/t8hwFOK9nbuVUQh9+BNaGgK5c0hoMGUATEtLAwBUVFRoHq+oqFCeM2Kz2ZCU\\\n",
              "lKT5ovDkz/Cm0THn685DggSrxQpngxNuyY2DZw4iMSYRDpcDr+9/Xan9t2L3Cs31RKCyDLeg+6+6\\\n",
              "e9xvGqZhJVZiCuR/0U/BFKzESkzDNI9jZyyegUtvuRTVddWco0cUQgLt3TLqMRTXSM/sh9dyZgCA\\\n",
              "R2C6dsIkRNtsgMWC9Mx+SqgCgPyZU5A/407lPADKPdIz+2HTgW/wj6/2eG1Tbm4uBgwYYBj+hJaE\\\n",
              "QM4BDA2mDIB9+vRBWloaCgsLlceqqqrwxRdfIDs7O4gto5by1bNnVKZlcLfBXo/XH7Ni9wq4JTes\\\n",
              "FisWDV2Em/vcrAz3qodLJci7K4rvRtfNujULMxbPUB7LQhamYzoAYBZmYQM2YBZmAQCmY7qmJ7Df\\\n",
              "zH5Y8/s1SIhJQJWrinP0iIJMHWgC7d0y6jEU1ygrPaQ8pw9Ng266BQkd7YAkoaz0kOZ6tefPo7b6\\\n",
              "nHJN9T3KSg8hMTbGa3vEf2sOHjyo+d1ISkqKX68RaHyPPlrxDArfeIVzAENAxAbA8+fPY8+ePdiz\\\n",
              "Zw8AeeHHnj17cOzYMVgsFjz88MN44okn8Pe//x379+/H1KlTkZ6ejgkTJgS13dQyvnr21M+J3rji\\\n",
              "U8Vej9cfI0FC98TuWDR0ESZnTlbm9onSLmK49KGrH4I91g5Xgwsj3h2B9aXrsb50PUa8OwLD3x0O\\\n",
              "ANg0aRPW/H4NVq1aBQAoQQlWY7Vybzvsys+rsRolKAEgh7+lj8jDNpyjRxQavA37NtXTtXfzx3DV\\\n",
              "1CCuQwelx1B9jron0Cg0eRv2jevQAXGJHZXH4y+OVsUnJeHaCZNwc/a1WJD7gEd7AhmFWLVqlaZs\\\n",
              "lb/vUemObZDcblisVs4BDDKLJEnG3RRh7vPPP8cNN9zg8fi0adOwdu1aSJKEJUuW4NVXX0VlZSVG\\\n",
              "jBiBl156CT/60Y/8vgc3kw49onbePVfc4zF3zeg5f44f3G0wik8VGx7jzZj3x+BktbyC12qxomNM\\\n",
              "RzhcDgBA98Tu2DRpk3L9rxd8rcz524ANmvDngAMTMAEA0L9/f3z99deBvylE1Ka81eF7LWcGqr4/\\\n",
              "haSu3ZShWDWj5309ZrFaMWrG/T57F43a8tydP1dC19x3/64cq57jl4UsrMRK5TkHHJr/Fs3GbOUf\\\n",
              "ooGGP3W70jP7oaz0UNDrDvLzO4IDYHvgH1BkEyFOBDbBW2hcX7oeL+5+ERZYMLzHcGw7sQ1VrsZS\\\n",
              "QdGWaDRIDbi5z814euTTGPP+GJT8rUQp9TIFU5RhX7XVWI0CFABo3n94iSg4mirQbPS8r8eaCk97\\\n",
              "N3+MwjdegeR2awLkRyueQemObcjMHoHxD/5Wc446BPrz36A7fzIM8xcvDjiEhhp+fjMAtgj/gCKP\\\n",
              "OtwBMAx6RsFwfel6PPnFk3BLbgBAUmwSEmMScbb2LGobagHIPYFuya2cd9Ocm/C/L/wvgLb/1zcR\\\n",
              "BV+gwWjv5o+xreAtQLKg91WDleHTpnoURU8hAGx790+ARcKIKVO93nPAgAHKnD9foxBpyUn4zZif\\\n",
              "IK5DB+SsKfDa7qZ6PkMBP78jeA4gRZ722JlCzBNcsXsFVuxegeq6ao82VNdVwx5r1ywgWb5ruRL+\\\n",
              "7LF2WGDByeqTsEXZkBSbBHusHeN6j4M91o6ztWfR9+6+SvgD5DmAa7EWgPyv7QmYoMwJXIu1SvgD\\\n",
              "PHcM8Qd39SAKvkALIKsXdPgzd07MCRTDxPpSMer5heLnB+6YoIS/KZiiCX+APB9ZzAksr6zC9m+O\\\n",
              "oLa62ucKXtb5Cw/sAWwB/guifXkbkm1NogdQ3XMHAHFRcXjkmkeUgNg9US7jIn4ury6HBAkWWLBv\\\n",
              "2j6vPYkv7n4R3338neEOH4DcE6gOe/rf1QLpCRz+7nBUuaqQFJuE7Xdu9+scImpdLe0BNBr+VV8T\\\n",
              "kHv86utdiI6ORe+rBuPInmKlB1AE0KSu3eCqqUHhnv34oPgAgMBGIW4bPBA3Z18bsr17/uDnNxAd\\\n",
              "7AYQ+eueK+7RhKq2MDlzMiZnTsbwd4drAmBtQ61yb/G9qKII5d+V42ztWQzoMgAHzxxUdgAR1wEa\\\n",
              "g+vr+1+HBRbUn6v3en/xH9j+/fvj4MGDXsMfAHx+8HPkwL8AKHYxEd+JqP0NuukWn3P9fB2vPgcA\\\n",
              "/nuwBKU7tiEqJgb1Tie2vfsnOGuqIbnlkYh6pxNlpYeQ88a7mmuKuYRr1v1JCX9A4yjEdExX5vyJ\\\n",
              "OYH6UYgPig8gc/jI1nlTKGg4BExhw9vOFEbDm/rHAh0Cfejqh9A9sTsGdhkICyyIi4pT5gKKNhSf\\\n",
              "KoYECbUNtTh+7rhSEkZPXa5leI/hSLstDd1v8ywELaxatQpff/21UiLGSMqtKXBc7/DrtQDyLibd\\\n",
              "E7vjwasf9PscImo7gQ4HiwUe4hwxJFzvciGpazfU17uU8GeNjtaUgRFEfcF17/4FH+z2/MflOqzD\\\n",
              "bMxWFnwUoACzMRvrsM7j2KdWvRzwVBQKLQyAFPaMav/pHxO/P/nFk36FQBH0Cn5agH3T9mHXr3Z5\\\n",
              "rPi9UHdB+d3V4PIaMidnTlaGfz/57hNIkNDl1i649A7PLeHUw7o5OTmGIXBSziRc9aurAuoJ5bZu\\\n",
              "RG2nOTtb6Hf7aOrcLze8r5kDmJk9AharFf2u+wnuzX8D0TGNxZ3dDQ2ARTu7S93G87VOr/cRPX2X\\\n",
              "9szQ/G7k9OnT3NUjjDEAUtjTF0QW4SwpNkl57J4r7lFW4bbGzhmv738dDpdDM6T6xM4ncLL6JJ76\\\n",
              "8ikMemsQ5m+drzm+ylWlzBOMi4pD2m1pmJTT+C/0fjP7IWW0XFl//tb5GPTWIBy74hhGPzxaOWZS\\\n",
              "ziS8t+o9ZSiaizqIgi/Q3jzAc7ePwjdewUcrnvEaptQLPACgrPQQRs24XynrMmLKVMR16CAfLEke\\\n",
              "Cz+2Fbyl3Cfn7qn46Y+v8tq2VatW4fDRYz5HIZYsWYK8vLxmvXYKDQyAFPb0vVsinCXGJCqPTc6c\\\n",
              "jEVDFzW5/Zu/ROi8uc/N6J7YHbFRscrWb3XuOrglNzYe2agcP7jbYOXnAV0GwOV2ocpVBcf1DixZ\\\n",
              "sgT9ZvZD9E+ilVD38XcfK9cQewerh32b2suYq36J2o+3Va/+9I6lZ/YDAEhuN0p3bFNCmv4c9RZz\\\n",
              "6tAl7gHIIRCWi/8otVhw7YRJyrG11dWAxQLJ7UZZ6SF8uKsYS5Ys8WjPHcOubnIUQoQ/X6+dQh8X\\\n",
              "gVDEaWqxiCjQLMKTunhzoDt+DEkdgqdHPo35W+fjk+8+gS3Khr7JfTULQgCg+FSx8vPBMweVPYXv\\\n",
              "ueIeTJ40GTVba7DxyEYM7jZYE+rG9R6HIalD8GKd3EZ1j6av1ygC4ou7X/S60wkRtQ79Yg1BHdTU\\\n",
              "z6sLM4t9fC1WKzKzRyhz+9T7+OqLQrtqLyhz/Dx64C4W9ujYpauy4OPcme+V+YGwWBCflIT8GXci\\\n",
              "xSJh1q9+idVvvwNAXt37P/21u2GJMCiKRavDn3jtop3q3yn0sQxMC3AZeXgRq3HtsXYkxCQoIUq9\\\n",
              "ZZtbcitFnMVK341HNmJc73F4euTTSnmXC3UX4HA5lKFnUQTaarFi0dBFAKBsI7f9xHY4G7RzbmKj\\\n",
              "YvHQ1Q9hcuZkrC9djyd2PgEJEpJikzCixwjNPX3R70qi375O3c62Kp1DRMa8rfRVb802asb9mmPU\\\n",
              "pV/q612odzo1hZdFkWUx3FvvqgMsQHRMDHoPuhqHtm/VtEEfLOUHLUpQjLbZ8L8H/4NLevdCVlIc\\\n",
              "IFkw4s67PIJcfn4+Tp8+rQl/grfCz6G8Iwg/vzkETCYihm2H9xiueSwuKg4WWNC/c390T+yuFHF+\\\n",
              "8osn8cl3n2iGc1/c/SJOVp+Es8GphD91EWgxx1AEy41HNsLhcqC2oRad4jrBFmVDbUOtMndwzPtj\\\n",
              "8OLuF5XhY1eDC8WniuGW3JpeQzX18K63xS7Fp4qxadImPHj1g0iKTcKFugscDiZqZ+phWzWxgCMz\\\n",
              "e4ThMc4LF1BbfQ71LhcAKIWX927+GK6aGjn8SRbUnj+PepcTDXV1qD1/HmWlh9Bv+EhYrFZ07CrP\\\n",
              "JxZDvqNm3N84PKzq96l3uXD9pT1wWVQDaqurUVt9TunNE8PLH614BrFfF+G24dcavk71MLB62Jvz\\\n",
              "A0MbAyCZhpgrWHyqWAlNkzMno1NcJ0iQcKb2DDZN2qQERLfkRrRVniXRv3N/AI119GobapVdQtS9\\\n",
              "eyIUirApdv8QC1JE0JMgKWHNcvF/gNwzqF/UoqcOffpj9b9PzpyMxJhEOFyOVln8QkRazVkFO/7B\\\n",
              "32Luu3/32JcXALYVvCX31Fks6HfdT2CxWgFJwpcb3se2grfknT2qq9H7qsGI69ABcYkdkZk9Qglg\\\n",
              "4tpK7c+Lq4YH3XQLRs98QL4eAFgsiOvQQXMPEQzFvEQR4MTcRG9Bztv8RM4PDG2cA0imoB4q1c+f\\\n",
              "U/++vnS90ttntVgRZYlCHepwuPIwxrw/Bpd0vASOH+SFGFWuKizftRxRlijUS/UY2GUgCn5a4DEs\\\n",
              "q6cuJF1xpEIJnBuPbMSIHiM0RaSNqNurP9bo3PYooE1kVt7m+QVCs5uHJAe3uIQOGP/gb3FJ/yxs\\\n",
              "e/dPcNVekId7AUCS5CLPuv14P1rxDArfeAWZ2SOU+YEifL2WMwPXTpiEUTPuR+Ebr0ByuxEbl6C5\\\n",
              "R+2F84AkoXTHNlzSPwvXTpgk39tZA0mSlGAo2my0z7D+vr5ea6gNC5sNewDJFNS9ZqInEJCHYAEo\\\n",
              "q4hf3/+6Zi6fLcoGQO7lO1l9EgfPHNRc19ngRL0k7+xxpvaMx72AxpIu87fOV2oCvr7/dWw/sV0Z\\\n",
              "6m1q2FfNqKafelhYvwKYNQCJ2k5r9HKpQ+SIO+9CXGJH1Ne7kD/jTgBAbHw8as+fR3RsDOISOyKu\\\n",
              "QwfN/UQv5KF//T9IbjcObd+Kbe/+SQlZ+pA6asb9Hm2OjY9XegMltxvbCt6Se/wsEtz19UroVLdZ\\\n",
              "vc+w4K030Oi1UnAxAJIpGA2rqoPa+tL1GP7ucHxf8z0ssGBc73GYnDkZl3S8BACUIJiakIq4qDgA\\\n",
              "8v7AN/e5WZlDKEq96O+18chGzTxCcV8JkseQcXN76cQ1V+xegSe/eDKgotdGWEaGyD/e5vn5oh82\\\n",
              "VofIQTfdgtj4eNQ7ncp8vPTMfrBYreg96GrkvPEuctYUaO4nQlV0bKzyWG31OXy29lU8d+fPEZ+U\\\n",
              "pJmjJ6755Yb3lV7Dqu9Poaz0kDI/sd5Vh6rvTwGSBdE2+b9/F845lDanZ/YDLPJz3sKvUTjmsHDo\\\n",
              "4CrgFuAqotDR1LBrU+eoVwMDcrjrFNcJ5dXlyrw9QB4W3jt1r+Y6YnWx6DXU31+UiImyRCEhJgEj\\\n",
              "eozAthPbYIEFD179YEA9c95ep3i8uq4aVa4q5XH1iuZA7iNeE1cPk9n5M2QZ6LCmt1Wz6uuJlcAj\\\n",
              "7rxLCXhxiR0RGx/vcR/NEDKA/339Jc31xGrjbe/+CbXV57Q3u7giWL0iWawyjo1L0JSaAaC0WVmN\\\n",
              "bNAmfXtCcciXn9/sAaQI0VRhZCPqodF7rrgHSbGN/xEQQ762KBusFiu6J3aH1WLV1PYT1LuMrNi9\\\n",
              "wmMP4uJTxUiKTUK9VI8qVxWKTxV7LMzwt8fN2+sUr0XsYXxLn1s0K5oDXQDS0h5Jokjhz5ClOGZb\\\n",
              "wVt+LQjxtmoWaAxPI6ZMVcJfemY/JHXtBlgkj7aI4+OTklD4xiv478ESxCV2BCDvCSxWG4shWz1r\\\n",
              "VJRmhxGxynjElKlKz+a1EyYhLrEjom02uGpqsHfzx8prMGqT+j3jkG/oYgCkiNDSwDI5czK237kd\\\n",
              "t/S5BVaLFQO6DED3xO545JpHsHfqXmyatAl7p+41rMsndhmxx9pR5aoyLMsiQdIMFQ/uNhhWixWD\\\n",
              "uw3G+tL1yrBtU0HN6HWqw6MIgk+PfFopA9Oc94XzBolk/gxZKmFIsvgVdnzNkzMKT2Wlh3DthEmo\\\n",
              "r6sDLBbNYgxxTMV/vlV2E+l91WBYrFb8aOh1ympjEeKs0dGAxSJ/B+Cur0d6Zj+lLbXV5wDJouwy\\\n",
              "Ito74s675HIzF4elxWsYMWWqz2FeDvmGLg4BtwC7kCNPS4Y+xbmAPIT8yDWPAIDHMHP3xO4AoBSl\\\n",
              "Pld3TrPwRF3QWT106234l8O1RKGhOStc9ed4Gz5VD8PGJXZEzhvvas6PT0rCqSP/UXYXEUPM6lW5\\\n",
              "g266RTN0K3oELVYr5r77d+VartoLqD1/XjNELc4TQ8WhNJzbHPz8Zg8gkYY/PYneVtyKoWBArhMo\\\n",
              "VhyL8De422CPRR8SJI/wBxgP9Xob/uVwLVFo8LYgxFetQP056t/F8KsYBm7c51fS7AF8b/4buOLG\\\n",
              "MejYuatSvkUd/tQ9jOK5EXfepRSNzsweobm3Ua+eWIgiilc3R3NqJlLbYQ9gC/BfEOFJvV3a9hPb\\\n",
              "IUFStmVr6nj19mpWixUdYjqgylWl9L6tL13vsbewWJhh1EOnv7b+uz89gEQUuvZu/lipuyd61AJZ\\\n",
              "WCJ648TuH/X1LkRHy6t9a6vPeSzKMNqOzaheX6CLW0SQ9LZwxR9NLX5pT/z8Zg8gmZB+m7YqV5VH\\\n",
              "r5rRdmsbj2xU5vOJRR8WWNA9sTsGdxus1BTcfud2bLtzm7LjiDhG30OnDnTi2I+/+1izlZu+yDPn\\\n",
              "5RGFly83vK/s+6se1vV3YQkkizK/sLb6nDIPr77eBYvVqswH9DbXTpSV0dfrU7fBaCHKazkz8Pmf\\\n",
              "1iiLW1pjLh/nA4YWBkCKWN5W1uq3aYuLivPYK9dou7Vxvcehe2J3PHT1Q1g0dBG6J3bHg1c/6LG9\\\n",
              "nP4+4hgAmvbo7yGGj60WK4dzicKUtxp/6nlzgSwsGXHnXbg3/w1lYUe33pciqWs3RMfEKPv8Ar7r\\\n",
              "EXqrxxfXoQNcNTXY9u6fDBeiiL2IIVkCqnfobai3OTUTqe1wCLgF2IUc2vxdHGF0nHoo159aff4M\\\n",
              "z+rvoz/Hn2uojwHAIWGiENNWw5z66way4MTbscqCEFXNP/VClPTMfsoK5EBCWygN9XrDz28GwBbh\\\n",
              "H1Bo83fOXHutrm2NOXzqNgHg6l+iENMae90aXaMl1/U1P7C1ijSHQ/FnNX5+MwC2CP+AwkdLdwpp\\\n",
              "jd06WuMe7AEkiny+etDUvXNH9hR7LO7QH1NWeiignrzm9iy2xiKR9sTPbwbAFuEfUPhoz1p5gdyr\\\n",
              "Je3iqmCiyOQrhIlwKLZwA+CxHZu6Zp969bE/93TV1GhWF/uiDqr6eoOhjp/fXARCJtGetfICuZd6\\\n",
              "R5BANWf7OyIKfb7qCbpqL8jbssXKpWBgsXhsxyYWfWRmj0BS125Iz+zXZP09ZdWxRTJcoGK0sEO9\\\n",
              "uIQLPMIPewBbgP+CoJYKpAewOYtGiChyeOtxA3zPufOnp66pod9wWNgRCH5+MwC2CP+AQke4hqH1\\\n",
              "peuxYveKJotRA9zyjcjsmrtoozXm6rXmgpFQwM9vBsAW4R9Q6AiFcNTcEOpv28M15BJR2/M3oEVa\\\n",
              "kGsufn5zDiBFiFDYD7e5c/L8bXtr7ATirTg2EYUHb0WWRc9e4Ruv+Jzr589cPe7Zaw4MgBQRQmGb\\\n",
              "NF9Bzlfwas+2c+EImU2khRlv28hdO2GSsurX1xZzLbkHRRYGQCIfAukx8xXkQiV4hUJPKVF7irQw\\\n",
              "42vP31Ez7m+VvXa5Z685cA5gC3AOQehr6by51ppbGOjWckTUOsJpzls4tVUIxzYD/PwG2ANIEa6l\\\n",
              "PW+t1WM2OXMyEmMS4XA5gt4LSGQm4VKfbu/mj1H4xith11sZaT2sZsIASBGtpQGuNefncfiViLz5\\\n",
              "csP7kNxuWKzWsBp65XBx+DL9EHB+fj6WL1+O8vJyDBo0CCtXrsS1117r17nsQiYiotYQrkOp4Yqf\\\n",
              "3yYPgH/5y18wdepUvPLKKxg6dCheeOEFvPfeeygtLUW3bt2aPJ9/QEREROGHn98mHwJ+7rnncO+9\\\n",
              "9+Luu+/GgAED8MorryAhIQFvvBH+29wQEREReWPaAOhyuVBUVITRo0crj1mtVowePRo7duwwPMfp\\\n",
              "dKKqqkrzRURERBRuTBsAv//+ezQ0NCA1NVXzeGpqKsrLyw3PWbZsGex2u/KVkZHRHk0lIiIialWm\\\n",
              "DYDNsXDhQjgcDuXr+PHjwW4SERERUcCig92AYOnatSuioqJQUVGhebyiogJpaWmG59hsNthstvZo\\\n",
              "HhEREVGbMW0PYGxsLIYMGYLCwkLlMbfbjcLCQmRnZwexZURERERty7Q9gAAwd+5cTJs2DT/+8Y9x\\\n",
              "7bXX4oUXXkB1dTXuvvvuYDeNiIiIqM2YOgD+4he/wOnTp/HYY4+hvLwcV111FTZu3OixMISIiIgo\\\n",
              "kpi6EHRLsZAkERFR+OHnt4nnABIRERGZFQMgERERkckwABIRERGZDAMgERERkckwABIRERGZDAMg\\\n",
              "ERERkckwABIRERGZDAMgERERkckwABIRERGZDAMgERERkckwABIRERGZDAMgERERkckwABIRERGZ\\\n",
              "DAMgERERkckwABIRERGZDAMgERERkckwABIRERGZDAMgERERkckwABIRERGZDAMgERERkckwABIR\\\n",
              "ERGZDAMgERERkckwABIRERGZDAMgERERkckwABIRERGZDAMgERERkckwABIRERGZDAMgERERkckw\\\n",
              "ABIRERGZDAMgERERkckwABIRERGZDAMgERERkckwABIRERGZDAMgERERkckwABIRERGZDAMgERER\\\n",
              "kckwABIRERGZTEQGwCeffBLXXXcdEhISkJycbHjMsWPHMH78eCQkJKBbt2545JFHUF9f374NJSIi\\\n",
              "IgqC6GA3oC24XC7ccccdyM7Oxpo1azyeb2howPjx45GWloZ//etfOHnyJKZOnYqYmBj84Q9/CEKL\\\n",
              "iYiIiNqPRZIkKdiNaCtr167Fww8/jMrKSs3jn3zyCX7605+irKwMqampAIBXXnkF8+fPx+nTpxEb\\\n",
              "G+vX9auqqmC32+FwOJCUlNTazSciIqI2wM/vCB0CbsqOHTtwxRVXKOEPAMaOHYuqqiocOHDA63lO\\\n",
              "pxNVVVWaLyIiIqJwY8oAWF5ergl/AJTfy8vLvZ63bNky2O125SsjI6NN20lERETUFsImAC5YsAAW\\\n",
              "i8Xn16FDh9q0DQsXLoTD4VC+jh8/3qb3IyIiImoLYbMIZN68eZg+fbrPYy699FK/rpWWloYvv/xS\\\n",
              "81hFRYXynDc2mw02m82vexARERGFqrAJgCkpKUhJSWmVa2VnZ+PJJ5/EqVOn0K1bNwDA5s2bkZSU\\\n",
              "hAEDBrTKPYiIiIhCVdgEwEAcO3YMZ86cwbFjx9DQ0IA9e/YAAC677DJ06NABY8aMwYABA3DXXXfh\\\n",
              "mWeeQXl5OR599FHk5OSwh4+IiIgiXkSWgZk+fTrWrVvn8fg///lPXH/99QCAo0eP4oEHHsDnn3+O\\\n",
              "xMRETJs2DU899RSio/3PxFxGTkREFH74+R2hAbC98A+IiIgo/PDzO4xWARMRERFR62AAJCIiIjIZ\\\n",
              "BkAiIiIik2EAJCIiIjIZBkAiIiIik2EAJCIiIjIZBkAiIiIik2EAJCIiIjIZBkAiIiIik2EAJCIi\\\n",
              "IjIZBkAiIiIik2EAJCIiIjIZBkAiIiIik2EAJCIiIjIZBkAiIiIik2EAJCIiIjIZBkAiIiIik2EA\\\n",
              "JCIiIjIZBkAiIiIik2EAJCIiIjIZBkAiIiIik2EAJCIiIjIZBkAiIiIik2EAJCIiIjIZBkAiIiIi\\\n",
              "k2EAJCIiIjIZBkAiIiIik2EAJCIiIjIZBkAiIiIik2EAJCIiIjIZBkAiIiIik2EAJCIiIjIZBkAi\\\n",
              "IiIik2EAJCIiMomSrSfw1u+2o2TriWA3hYKMAZCIiMgkdm88gnNnnNi98Uiwm0JBxgBIRERkEleP\\\n",
              "642OnW24elzvYDeFgiw62A0gIiKi9pE1sgeyRvYIdjMoBERkD+CRI0cwc+ZM9OnTB/Hx8ejbty+W\\\n",
              "LFkCl8ulOW7fvn34yU9+gri4OGRkZOCZZ54JUouJiIhCH+cQRo6I7AE8dOgQ3G43Vq9ejcsuuwwl\\\n",
              "JSW49957UV1djWeffRYAUFVVhTFjxmD06NF45ZVXsH//fsyYMQPJycm47777gvwKiIiIQo96DiF7\\\n",
              "EsObRZIkKdiNaA/Lly/Hyy+/jP/85z8AgJdffhmLFi1CeXk5YmNjAQALFizAhg0bcOjQIb+uWVVV\\\n",
              "BbvdDofDgaSkpDZrOxERUSgo2XoCuzcewdXjeod1AOTnd4T2ABpxOBzo3Lmz8vuOHTswcuRIJfwB\\\n",
              "wNixY/H000/j7Nmz6NSpk8c1nE4nnE6n8ntVVVXbNpqIiCiEcA5h5IjIOYB63377LVauXIlZs2Yp\\\n",
              "j5WXlyM1NVVznPi9vLzc8DrLli2D3W5XvjIyMtqu0URERERtJKwC4IIFC2CxWHx+6YdvT5w4gXHj\\\n",
              "xuGOO+7Avffe26L7L1y4EA6HQ/k6fvx4i65HREREFAxhNQQ8b948TJ8+3ecxl156qfJzWVkZbrjh\\\n",
              "Blx33XV49dVXNcelpaWhoqJC85j4PS0tzfDaNpsNNputGS0nIiIiCh1hFQBTUlKQkpLi17EnTpzA\\\n",
              "DTfcgCFDhuDNN9+E1art7MzOzsaiRYtQV1eHmJgYAMDmzZuRmZlpOP+PiIioPUXKggsjkfzawkVY\\\n",
              "DQH768SJE7j++uvRs2dPPPvsszh9+jTKy8s1c/t++ctfIjY2FjNnzsSBAwfwl7/8BS+++CLmzp0b\\\n",
              "xJYTERHJmrNtmz91+tqill+g1+SWdMEXkQFw8+bN+Pbbb1FYWIhLLrkE3bt3V74Eu92OTZs24bvv\\\n",
              "vsOQIUMwb948PPbYY6wBSEREIUFs25bWN9nvcOVPsFIf01phMNBAxy3pgs80dQDbAusIERFRSzU1\\\n",
              "HPrW77bj3BknLFZg5JRMw2PENdL6JqP8cKXPoVX1/URw69jZhql/GN7sNofbkC4/v8NsDiAREVG4\\\n",
              "8haSmtpd4+pxvbG1oBSSG16PEdcAKpsMcvpafqJNgdC3mfUBww8DIBERUTvwFvRET5y3ECaOFT18\\\n",
              "b/1uu0dPX1PX0Nu05gC+LarAZUNSA+r587fNFPoYAImIiNqQengWqPQITf70noljxHDw+coKpUcQ\\\n",
              "QMDDr98Wyed/81WFx5BxXl4eUlJSkJOT4/X8Lfs34HTsaUwdmad5nTs3HAYADJvQlz2CIY4BkIiI\\\n",
              "qA0FMjzbFNHzpu4BbGoI2chlQ1LxbVEFoqKsmnPz8vKwdOlS5TijEJifn4/c3Fzl97y8POV1Oi/U\\\n",
              "Kz8zAIa2iFwFTEREFCqau+LV1wrd9MuTMfUPw5Xh30CvP2bmQPz6pRsx/I7LlXP14S83Nxf5+fma\\\n",
              "8/Thb+nSpUoAvHpcb9gSomFLiFba0hYlZ6h1sAeQiIioDTV3gYRRz57RY829vnpRyvufvaYJf4II\\\n",
              "ezk5OR7hTxDnqXsC9a9h54bDYbVK2AzYA0hERBSCjHr2RC+bq7ZB06vWnJ42Ec4WL1psGP6E3Nxc\\\n",
              "DBgwwDD8CaInUF8PULwGACz8HGIYAImIiNpJIEEta2QPZZhX/VhsXBScF+oNe9oCCVginA34cV/v\\\n",
              "bUAWAODgwYOa342kpKR4hFbxGoZN6MvCzyGGhaBbgIUkiYgoEGIVry0hGrFxUYZDok0VVRarbRvq\\\n",
              "3YiKtmLYhL4o+6ZSKesyZubAgK4HAFPHzsWfNj2veWwapmE6pmM1VqMABZiCKZiFWViLtViHdZpj\\\n",
              "V61a5XPVcKjh5zfnABIREbUbsWrXVdvgMZdPBDVXbYOmh88ovLlq6yG5gXqXWzlOlHU5duAHpQxL\\\n",
              "ydYTHkWkjQLhbxfNAwAlBGYhC9MxHQAwC7MwBVNghx0AMB3TUYQilKAEQMvCX7jtIBJJOARMRESk\\\n",
              "01arV30NiTaWi4HynNHQ7s4NhyG55Z+jY6y4elzvizUGAUiA80I9trxTik1rDmD3xiOQ3IDFCuVe\\\n",
              "RtfMGtkDb336HO4aM0d+/SjBaqxWnhfhDwBWY3WT4c/f9685Q9fUOhgAiYiIdFoSTPThxygMGc3v\\\n",
              "E/Pnhk3oqzyX1jcZsAA15+sMw1R9vZwEyw9Xyg9YGp/75qsKuGobYEuI1uwhrJ6np2/bbxfNQ3qX\\\n",
              "3gCAAhTAAYfmfg44UIACAEB6l974nysmGL4H/rx/JVtPKO3j3MD2xwBIRESk09zafYBn+PE3TBqF\\\n",
              "wvLDlYCkHeodNqFvY9CTGoeIO3a24X/uzMTl16TCYgWio61wXqhHbFyUZph554bDcNU2AJB7E0WZ\\\n",
              "FkDe4aPsB/k+6mFfwQ47pmAKAKDshyNYlvesR7gt2XoCNefrAAsaeya9vE/69lH74RxAIiIinebW\\\n",
              "1gM898lt7r65oocsOsaKqItDvYItPlpZBJLWN1kzjy5rZA+MmTlQM79O/Fxzvg71LrnXUB9I1XX+\\\n",
              "spCFWZilPOeAQwmDszALJRf/984/X0CdqwHALzS1CsU9lJ5J1WsSbeJ+wsHFAEhERNSK9OGxJYWg\\\n",
              "nRfq0bGzTdlCTr2oQzwuVhbrt19TBzKxsETpObRo5wSW1nyOP+Q+qpxbghKsxVqvq4DFHEAAeG/7\\\n",
              "Slx+TSoAuY1Xj+ut9Cjqw526N1Tf20ntiwGQiIgoBKX1Tcb5ygqk9U3WrBDWL+rw1ZMmApctIRod\\\n",
              "O9s0ewiLFcH/W/RXjxIwALAO6zSrfQtQoPT86f3hBTk8Pvn8Ik3gFXMMxf3UbeUK4OBiACQiImoj\\\n",
              "zQk56uFayQ0cO/ADyg9XaoKcv9fT98bpz9m98Qi+/+EH7225GPYu7XU5/nP0G8PwJ3z91WGPx4y2\\\n",
              "rvPnOWp7DIBERERtRB9y/AmE6nIwANBQ58bVE/pqzivZegKvz92qHKOvG5jWNxnHDsjBrqHejXqX\\\n",
              "Gzs3HPa4Z1rfZIy/ZhoA4JOitwzbc9eYOfjtonnYsn+D1+3gfjZsOh5/8nGPx/W9k+r3Q/8cewTb\\\n",
              "FwMgERFRGxEhJ61vMt763XZNkWdvIUecIxZsRMVYPYZVxTxAAIiOtXrUDTxfWaE8ry4Now9Zxw78\\\n",
              "AEjA+B8bh8C7xszB0D4/xe6NR5DzB7nenz4E3jxkKn6efTd2bzyCsm8qNUPM+vmP6tCnf449gu2L\\\n",
              "AZCIiKiNiJCj3gLO3/IyfQalKGFKTRR3FqKircoiEfG86AFsqHPLAfDipq87NxyG80I9thaUApB7\\\n",
              "F4XpE3NhsQAffyWHwF/e8DCyL/sZ3G5JKeeSk5ODg/86ifx3ngQAPDB9DoZ1n6jsbCKCp7cQ52tB\\\n",
              "DFcFty/uBdwC3EuQiIj84c/wpn4rOLHKV3+u+F0s6NAv7FBfT/QUWqzyVnG2hGhlG7mOnW3KvWwJ\\\n",
              "0bjnuZEAgLy8PPxnRxWG9vmpci2LFUox6bd+tx3/2PoX1FnO44P/94am7eqhZ7EdXSji5zcDYIvw\\\n",
              "D4iIiJpLH+xen7sVzgv1iI6xIr5jjBKmnDX1gKQNYerz1YFR3YsmhlQtVuCyIamNPYIAomKsGDah\\\n",
              "L8q+qcS3RRW4bEgqxswcqGnbzg2H5fmDdW7N/QHj/YkF0dupb28o4ec3dwIhIiIKCm87hETFyEO6\\\n",
              "5Ycr5dp9F7tpxNCqsP39b3DujBN1zgaPOYBit4/oGCuioqxKr1x93cVAd/H+xw78AMktF2xWbwuX\\\n",
              "NbIH7nluJGatuB7/c2cmYJHvL1YUC5vWHMBLv/4Mm9YcUB4Tw8X69gaqrfZjJhkDIBERURBcPa73\\\n",
              "xSHZBpRsPYFhE/oqewGrn4+OsSI6xuqxZ64Icu6GxoG8tL7JsFjluX3OC/VoaJADn/NCPRrq3LAl\\\n",
              "RMOWIE//FyuN9eGxqdCmPu7bInnO37dFFcrz6n2JxWtrilHYa8l+zNQ0BkAiIqIgyBrZA7FxUZpV\\\n",
              "werdMUQvXHzHGCXs7dxwGK/P3YqSrSdw+Y8v7vkbY1WCUvnhSkhuoL5eDntdMzoq94uKseKe50bi\\\n",
              "nudGoufALrBYgZ4Duyj3FPsJixXLIozt3nhEGQIeNqGvZp/ky4akAhYgKsqqHC+et8VHa8rT+GIU\\\n",
              "9lqyHzM1jQGQiIioHRj1cvkKOeL4tL7J6NjZhoZ6uSdPhKoxMwfi1y/diOF3XK5c4+pxvWGxApCA\\\n",
              "2Lgo1J5zAWgMb4IIiscO/KAZ9r16XG98W1ShCWOijUbz+cbMHIiOnWyor3Mrx4sgK3o0/QlwRu+D\\\n",
              "PhBT62IZGCIionZgVOfOW1kUba2/Skz9w3C8Pncr6l1uzT6+3q4hFmmUfVOJc2crEBVlVa4rVuu6\\\n",
              "auUFJuoeSFFiRr3VnLd6faKUjLfyLYHsgdzc/ZKp+RgAiYiI2oE/de587fk7TLUbCACld9CoFIwo\\\n",
              "F/NtUQUgQdNDd+6ME+fOVCA6xqoM7RrtK+yrXp8Ip7s3HmEvXZhiACQiImoH/vRyid41fcHot363\\\n",
              "HVeP663UBdzybikgAefOyIsvjAowKwWjLYAtvnEByZZ35J47MU/QWxu91S4UP4uVxmL4mMILAyAR\\\n",
              "EVEQbVpzQKnFd/W43kqpFRG8RF090YO3taBUKQ0jdM3oiNpzLk3vorfevLJvKvHNVxWIjpaHhdU7\\\n",
              "gzS1NZt2CLne564fFNq4CISIiCiIRCmVb3bJvXnqlcHAxbp6FqDmXB12bjis2QZOqD3n8hiKFYs6\\\n",
              "dm88oll4kn55MiyWxjIyYpcQ/Wpdo4UZIhSKNquHjym8MAASEREF0WVDUpWfRY+duj5g+eFKZR5f\\\n",
              "Q50bFiuQ0qsjOna24fJrUjUhTb/SWF9eRb893LAJfTFySqbhal2jVbgiFF42JNXrymAjLOocejgE\\\n",
              "TEREFERjZg5E+uXJmuFadXBTDwsDchAUPX566p1AxFAtUKmEO/UqX3V4a+vVukbDyRRcDIBERERB\\\n",
              "pg9W+vl7RgszBPVj4jxXbQPOnXHifGWFJujpw6T+fG/hzJ9jfBH35aKR0MEhYCIiohDjrQiy0eP6\\\n",
              "3rWpfxiOngO7APCc26fffUR/vlCy9QRen7tV2XWkpduyGd2XgosBkIiIKEyVbD0BV22Dxz7BYj9e\\\n",
              "o0UaYr9geXjY+2IP9a4jrbEtG7d2Cy0cAiYiIgoT+qFYEdQ6drb5HEJWE9vAiZBoNK/PqBxNS4dt\\\n",
              "udtHaInYHsCf//zn6NmzJ+Li4tC9e3fcddddKCsr0xyzb98+/OQnP0FcXBwyMjLwzDPPBKm1REQU\\\n",
              "boKxslU/FKvuVVO3x9c+uv70xGWN7IF7nhuJe54bydAWoSI2AN5www1Yv349SktL8de//hWHDx/G\\\n",
              "pEmTlOerqqowZswY9OrVC0VFRVi+fDny8vLw6quvBrHVREQULlo6L6459OFNHfT8aU+gizlYviVy\\\n",
              "RewQ8Jw5c5Sfe/XqhQULFmDChAmoq6tDTEwM/vznP8PlcuGNN95AbGwsBg4ciD179uC5557Dfffd\\\n",
              "F8SWExFROPBnb9/W5msY1Z/2BFqOheVbIlfEBkC1M2fO4M9//jOuu+46xMTEAAB27NiBkSNHIjY2\\\n",
              "Vjlu7NixePrpp3H27Fl06tTJ4zpOpxNOp1P5vaqqqu0bT0REISnU5rT50x5/QqJRWZlAQm5LS8ZQ\\\n",
              "+4jYIWAAmD9/PhITE9GlSxccO3YMf/vb35TnysvLkZqaqjle/F5eXm54vWXLlsFutytfGRkZbdd4\\\n",
              "IiKiVuZrbqBgVFbG6Hhvw8PBGBqnwIVVAFywYAEsFovPr0OHDinHP/LIIyguLsamTZsQFRWFqVOn\\\n",
              "QpIkH3fwbeHChXA4HMrX8ePHW+NlERERhQx/y7V4C3os9xIewmoIeN68eZg+fbrPYy699FLl565d\\\n",
              "u6Jr16740Y9+hP79+yMjIwM7d+5EdnY20tLSUFFRoTlX/J6WlmZ4bZvNBpvN1rIXQUREphbqQ6Si\\\n",
              "TSLYBTrnMNSGxslYWAXAlJQUpKSkNOtct9sNAMocvuzsbCxatEhZFAIAmzdvRmZmpuH8PyIiotYQ\\\n",
              "qgsr1MHUnzYy6IW3sBoC9tcXX3yBVatWYc+ePTh69Cg+++wz3Hnnnejbty+ys7MBAL/85S8RGxuL\\\n",
              "mTNn4sCBA/jLX/6CF198EXPnzg1y64mIKJI1Z4i0PcqxqEMfh3Ejn0VqyaS4ELV//3489NBD2Lt3\\\n",
              "L6qrq9G9e3eMGzcOjz76KHr0aPzXyr59+5CTk4Ndu3aha9eumD17NubPn+/3faqqqmC32+FwOJCU\\\n",
              "lNQWL4WIiAhv/W47zp1xomNnG6b+YXib3CPUh6ZbEz+/IzQAthf+ARERUXswUzhrD/z8DrM5gERE\\\n",
              "RGbE+XbU2iJyDiAREREReccASERERGQyDIBEREREJsMASERERGQyDIBEREREJsMASERERGQyDIBE\\\n",
              "REREJsMASERERGQyDIBEREREJsMASERERGQyDIBEREREJsMASERERGQyDIBEREREJhMd7AaEM0mS\\\n",
              "AABVVVVBbgkRERH5S3xui89xM2IAbIFz584BADIyMoLcEiIiIgrUuXPnYLfbg92MoLBIZo6/LeR2\\\n",
              "u1FWVoaOHTvCYrEEuzmGqqqqkJGRgePHjyMpKSnYzQl5fL8Cw/crMHy/AsP3KzB8v/wnSRLOnTuH\\\n",
              "9PR0WK3mnA3HHsAWsFqtuOSSS4LdDL8kJSXxPwgB4PsVGL5fgeH7FRi+X4Hh++Ufs/b8CeaMvURE\\\n",
              "REQmxgBIREREZDIMgBHOZrNhyZIlsNlswW5KWOD7FRi+X4Hh+xUYvl+B4ftFgeAiECIiIiKTYQ8g\\\n",
              "ERERkckwABIRERGZDAMgERERkckwABIRERGZDANghDpy5AhmzpyJPn36ID4+Hn379sWSJUvgcrk0\\\n",
              "x+3btw8/+clPEBcXh4yMDDzzzDNBanHwPfnkk7juuuuQkJCA5ORkw2OOHTuG8ePHIyEhAd26dcMj\\\n",
              "jzyC+vr69m1oiMjPz0fv3r0RFxeHoUOH4ssvvwx2k0LG1q1b8bOf/Qzp6emwWCzYsGGD5nlJkvDY\\\n",
              "Y4+he/fuiI+Px+jRo/HNN98Ep7FBtmzZMlxzzTXo2LEjunXrhgkTJqC0tFRzTG1tLXJyctClSxd0\\\n",
              "6NABEydOREVFRZBaHFwvv/wyrrzySqXYc3Z2Nj755BPleb5X5C8GwAh16NAhuN1urF69GgcOHMDz\\\n",
              "zz+PV155Bb/73e+UY6qqqjBmzBj06tULRUVFWL58OfLy8vDqq68GseXB43K5cMcdd+CBBx4wfL6h\\\n",
              "oQHjx4+Hy+XCv/71L6xbtw5r167FY4891s4tDb6//OUvmDt3LpYsWYLdu3dj0KBBGDt2LE6dOhXs\\\n",
              "poWE6upqDBo0CPn5+YbPP/PMM1ixYgVeeeUVfPHFF0hMTMTYsWNRW1vbzi0Nvi1btiAnJwc7d+7E\\\n",
              "5s2bUVdXhzFjxqC6ulo5Zs6cOfjwww/x3nvvYcuWLSgrK8Ptt98exFYHzyWXXIKnnnoKRUVF+Oqr\\\n",
              "r3DjjTfi1ltvxYEDBwDwvaIASGQazzzzjNSnTx/l95deeknq1KmT5HQ6lcfmz58vZWZmBqN5IePN\\\n",
              "N9+U7Ha7x+Mff/yxZLVapfLycuWxl19+WUpKStK8h2Zw7bXXSjk5OcrvDQ0NUnp6urRs2bIgtio0\\\n",
              "AZA++OAD5Xe32y2lpaVJy5cvVx6rrKyUbDab9O677wahhaHl1KlTEgBpy5YtkiTJ701MTIz03nvv\\\n",
              "KcccPHhQAiDt2LEjWM0MKZ06dZJef/11vlcUEPYAmojD4UDnzp2V33fs2IGRI0ciNjZWeWzs2LEo\\\n",
              "LS3F2bNng9HEkLZjxw5cccUVSE1NVR4bO3YsqqqqlH99m4HL5UJRURFGjx6tPGa1WjF69Gjs2LEj\\\n",
              "iC0LD9999x3Ky8s175/dbsfQoUP5/kH+7xQA5b9VRUVFqKur07xf/fr1Q8+ePU3/fjU0NKCgoADV\\\n",
              "1dXIzs7me0UBYQA0iW+//RYrV67ErFmzlMfKy8s1YQaA8nt5eXm7ti8c8P2Sff/992hoaDB8L8z0\\\n",
              "PjSXeI/4/nlyu914+OGHMXz4cGRlZQGQ36/Y2FiPeblmfr/279+PDh06wGaz4f7778cHH3yAAQMG\\\n",
              "8L2igDAAhpkFCxbAYrH4/Dp06JDmnBMnTmDcuHG44447cO+99wap5cHRnPeLiIIjJycHJSUlKCgo\\\n",
              "CHZTQlpmZib27NmDL774Ag888ACmTZuGr7/+OtjNojATHewGUGDmzZuH6dOn+zzm0ksvVX4uKyvD\\\n",
              "DTfcgOuuu85jcUdaWprH6jDxe1paWus0OMgCfb98SUtL81jpGmnvlz+6du2KqKgow78dM70PzSXe\\\n",
              "o4qKCnTv3l15vKKiAldddVWQWhV8ubm5+Mc//oGtW7fikksuUR5PS0uDy+VCZWWlpmfLzH9vsbGx\\\n",
              "uOyyywAAQ4YMwa5du/Diiy/iF7/4Bd8r8hsDYJhJSUlBSkqKX8eeOHECN9xwA4YMGYI333wTVqu2\\\n",
              "wzc7OxuLFi1CXV0dYmJiAACbN29GZmYmOnXq1OptD4ZA3q+mZGdn48knn8SpU6fQrVs3APL7lZSU\\\n",
              "hAEDBrTKPcJBbGwshgwZgsLCQkyYMAGAPHRXWFiI3Nzc4DYuDPTp0wdpaWkoLCxUAl9VVZXSm2M2\\\n",
              "kiRh9uzZ+OCDD/D555+jT58+mueHDBmCmJgYFBYWYuLEiQCA0tJSHDt2DNnZ2cFocshxu91wOp18\\\n",
              "rygwwV6FQm3jv//9r3TZZZdJo0aNkv773/9KJ0+eVL6EyspKKTU1VbrrrrukkpISqaCgQEpISJBW\\\n",
              "r14dxJYHz9GjR6Xi4mJp6dKlUocOHaTi4mKpuLhYOnfunCRJklRfXy9lZWVJY8aMkfbs2SNt3LhR\\\n",
              "SklJkRYuXBjklre/goICyWazSWvXrpW+/vpr6b777pOSk5M1K6TN7Ny5c8rfDwDpueeek4qLi6Wj\\\n",
              "R49KkiRJTz31lJScnCz97W9/k/bt2yfdeuutUp8+faSampogt7z9PfDAA5Ldbpc+//xzzX+nLly4\\\n",
              "oBxz//33Sz179pQ+++wz6auvvpKys7Ol7OzsILY6eBYsWCBt2bJF+u6776R9+/ZJCxYskCwWi7Rp\\\n",
              "0yZJkvhekf8YACPUm2++KQEw/FLbu3evNGLECMlms0k9evSQnnrqqSC1OPimTZtm+H7985//VI45\\\n",
              "cuSIdPPNN0vx8fFS165dpXnz5kl1dXXBa3QQrVy5UurZs6cUGxsrXXvttdLOnTuD3aSQ8c9//tPw\\\n",
              "b2natGmSJMmlYBYvXiylpqZKNptNGjVqlFRaWhrcRgeJt/9Ovfnmm8oxNTU10q9//WupU6dOUkJC\\\n",
              "gnTbbbdp/jFrJjNmzJB69eolxcbGSikpKdKoUaOU8CdJfK/IfxZJkqR27HAkIiIioiDjKmAiIiIi\\\n",
              "k2EAJCIiIjIZBkAiIiIik2EAJCIiIjIZBkAiIiIik2EAJCIiIjIZBkAiIiIik2EAJCIiIjIZBkAi\\\n",
              "IiIik2EAJCIiIjIZBkAiIiIik2EAJCIiIjIZBkAiIiIik2EAJCIiIjIZBkAiIiIik2EAJCIiIjIZ\\\n",
              "BkAiIiIik2EAJCIiIjIZBkAiIiIik2EAJCIiIjIZBkAiIiIik2EAJCIiIjIZBkAiIiIik2EAJCIi\\\n",
              "IjIZBkAiIiIik2EAJCIiIjIZBkAiIiIik2EAJCIiIjIZBkAiIiIik2EAJCIiIjIZBkAiIiIik/n/\\\n",
              "ziYIO3fAFmUAAAAASUVORK5CYII=\\\n",
              "\"\n",
              "  frames[1] = \"data:image/png;base64,iVBORw0KGgoAAAANSUhEUgAAAoAAAAHgCAYAAAA10dzkAAAAOXRFWHRTb2Z0d2FyZQBNYXRwbG90\\\n",
              "bGliIHZlcnNpb24zLjcuMSwgaHR0cHM6Ly9tYXRwbG90bGliLm9yZy/bCgiHAAAACXBIWXMAAA9h\\\n",
              "AAAPYQGoP6dpAAA24klEQVR4nO3de3hU9aHv/8+EJJMEmAEkJCBBUXZj2FG0VDBKPV4oaNndZgtq\\\n",
              "2tMaFDDSxB7F7SPUS8JpLRTd9QIRsViie/80Xp6f6bYqhYMCWwUvCEogyVG3CBISYiszGCHXdf4Y\\\n",
              "Z5GZTEJCLpOZ7/vlM08ya76z8mU9cdYn36vDsixLAAAAMEZMuCsAAACA/kUABAAAMAwBEAAAwDAE\\\n",
              "QAAAAMMQAAEAAAxDAAQAADAMARAAAMAwBEAAAADDEAABAAAMQwAEAAAwDAEQAADAMARAAAAAwxAA\\\n",
              "AQAADEMABAAAMAwBEAAAwDAEQAAAAMMQAAEAAAxDAAQAADAMARAAAMAwBEAAAADDEAABAAAMQwAE\\\n",
              "AAAwDAEQAADAMARAAAAAwxAAAQAADEMABAAAMAwBEAAAwDAEQAAAAMMQAAEAAAxDAAQAADAMARAA\\\n",
              "AMAwBEAAAADDEAABAAAMQwAEAAAwDAEQAADAMARAAAAAwxAAAQAADEMABAAAMAwBEAAAwDAEQAAA\\\n",
              "AMMQAAEAAAxDAAQAADAMARAAAMAwBEAAAADDEAABAAAMQwAEAAAwDAEQAADAMARAAAAAwxAAAQAA\\\n",
              "DEMABAAAMAwBEAAAwDAEQAAAAMMQAAEAAAxDAAQAADAMARAAAMAwBEAAAADDxIa7ApGstbVV1dXV\\\n",
              "Gjp0qBwOR7irAwAAusCyLB09elRjxoxRTIyZbWEEwB6orq5WWlpauKsBAABOwYEDBzR27NhwVyMs\\\n",
              "CIA9MHToUEm+XyCXyxXm2gAAgK7wer1KS0uz7+MmIgD2gL/b1+VyEQABAIgwJg/fMrPjGwAAwGAE\\\n",
              "QAAAAMMQAAEAAAxDAAQAADAMARAAAMAwBECgm4qKilRcXNxpmeLiYhUVFfVPhQAA6CaWgQG6oaio\\\n",
              "SEuXLrWf5+fntytTXFysgoKCgPcAADCQ0AIIdFFw+CsoKGjXEhgc/pYuXUoABAAMOARAoAuCw59f\\\n",
              "2xAYHP78CIEAgIHGYVmWFe5KRCqv1yu32y2Px8NOIFGso/DXVkZGhioqKjotU1hYSBAEgAGA+zct\\\n",
              "gMBJJScnd/hapjIlyQ5//ufdPQ8AAP2JAAicRH5+vlatWtXueK5ytVIrlaMcSVKOcrRSK5Wr3HZl\\\n",
              "V61aFXLCCAAA4UAAhBnef0p6ONP39RQEh8BMZWqu5kqS8pSnMpUpT3mSpLmaG9ASSPgDAAw0BECY\\\n",
              "4a2HJc8B39dTlD8lQauuTZUklatca7TGfs0tt/39Gq1RucolEf4AAAMTARBmmHaH5E7zfT1Vbz2s\\\n",
              "/HO/VUaKU5JUqlJ55Ako4pFHpSqV5JsYQvgDAAxEBEBEp+Au3wvnSXeU+76eqml3qHh3kipqGyT5\\\n",
              "xvy1bfmTfC2B/jGBFRUVJ90xBACAcCAAIjqdrMu3bUDs4vjA4veOq+D/r5HkGwPoH/MnKaAlME95\\\n",
              "9hjAUItFAwAQbgRARKeTdflu+o0vIG76TZfGBwYv8lyucpWoRJJvzF+2su0xgSUqsccASoRAAMDA\\\n",
              "w17AiE4Xzuu8u9fR5uu0O3zhr21YfP8p+1jxe8dD7vDxtJ7WDu2ww16pSlX+3X/B/O9nTCAAYCAg\\\n",
              "AMIc/lCXNlWyJMUl+b5KvvGBbbVpFazzzOnwlP6w598JJFT486urq+vhPwAAgN5BAET08we/xm+k\\\n",
              "Y1/7gp0kOQZJTd9Kr90lffGO9NkmXyC88r6AVsGi71oSO9oOzr/US0d7AUtsAwcAGFjYC7gH2Esw\\\n",
              "Qjyc6Qt9CcOl40fkS3kOKXO2VP5S+/KJw6W797U7HGpP4OB1/kKFQMIfAAws3L+ZBAIT+CeEXHmf\\\n",
              "FJfoOzYoVqp6LXT5Y19LRcOklwLHEBYVFamwsNB+HmqR5+AdQwh/AAaqoqKik05QKy4u5jMsStEF\\\n",
              "jOjXdkLIhnt9X1uafI8OWdKel6UzLj4xQeTCefYHYXJycocTOvzH6+rq+OAEMCAF92iE+jwL7tHg\\\n",
              "8yy60AXcAzQhR5j3n5JeXdT18gnDpQavZLX4WhCDJ4oAQARiOAv3b4kuYESz4AWe3/hN995//Gtf\\\n",
              "+HMM6tkWcgAwQIQKf1LgeqUdTWhbunRp1ARA0AWMaOZfyuW1u3zPmxpO4SQO6ccP9mwLOQAYADoK\\\n",
              "f37+EFhRUdFhGf/7CYKRjxZARB9/y1/aVF/rndXiC4Nxzu6fKyaW8AcgKiQnJ3f4mn/7Sn/48z/v\\\n",
              "7nkQOQiAiD7+lr8D7/pa79xpJxZ/trcA6aLW5r6oIQD0u+BVCvxylauVWqkc5UiScpSjlVqpXOW2\\\n",
              "Kxtq9QNEJgIgok+ofYA/2+Qb0+dfBqZLvlsrEACiRHAIzFSm5mquJClPeSpTmfKUJ0maq7kBLYGE\\\n",
              "v+jCLOAeYBbRANBmz96QXbX+RaBj4qTWphNfO+SQ3GNPhEf/1nEH3j3xtaOfBQARou1Ejxzl2KGv\\\n",
              "rTVao1KVSoq+8Mf9mwDYI/wCDQD+gNfRMi3+gOj5UvYOIAnD2uwIEiQuSbrnUOC5/eMI/V9ZEgZA\\\n",
              "FJg4caI95q9MZXLLbb/mkUfZypbk2+t879694ahin+H+TRcwIl2o7t62LpznC2v+rt+4RGnxPmnW\\\n",
              "v/neF5f03fEk3/MZv21/7n/8l8CvLAkDIMK1ne2bo5yA8CdJbrntMYEVFRUn3TEEkSdqA+Dq1at1\\\n",
              "3nnnyeVyyeVyKSsrS6+//rr9+vHjx5Wfn6/TTjtNQ4YM0ezZs1VbWxvGGuOU+APeybpkZ/y2fcCT\\\n",
              "pPQfnzgefB7/uec8FfiV7l8AEaxt92+mMgO6fz3y2N/nKc8eA9h2ncCT+Y/tX+iS5W/oP7Z/0Yu1\\\n",
              "Rm+L2gA4duxYLV++XDt27NAHH3ygK664Qtdcc4327NkjSbrjjjv0yiuv6MUXX9SWLVtUXV2ta6+9\\\n",
              "Nsy1Rp8JDoptZwoT6gAYIniR53KVq0Qlknxj/rKVrTVaI0kqUYnKdWK4S1dD4OrNn+ngkWNavfmz\\\n",
              "3q08epVRYwBHjBihBx98UHPmzFFycrKeffZZzZkzR5JUWVmpjIwMbdu2TRdddFGXzscYggjkHxPI\\\n",
              "hA4Ahulohw/J1xLYNuwFP2/rZBNC/mP7F1q9+TMtvOxs/fyiM3pW6T7C/duQnUBaWlr04osvqr6+\\\n",
              "XllZWdqxY4eampo0ffp0u8w555yjcePGdRoAGxoa1NBwYjcJr9fb53VHL/O3/ElM5ABglLq6ug5f\\\n",
              "84e9jIwMVVRUdBj+TnYeSfr5RWcM2OCHE6K2C1iSdu/erSFDhsjpdOrWW2/Vyy+/rIkTJ6qmpkbx\\\n",
              "8fEaNmxYQPmUlBTV1NR0eL5ly5bJ7Xbbj7S0tD7+F+CUBO8B3FbwpBF/2ZfmdfweABjA2o65839/\\\n",
              "yfJNOnPxq/rnlW9Jkn713E79e8OFmnLtLR2eZ9WqVdq7d2/IxaL9CgsL2QYuSkR1F3BjY6P2798v\\\n",
              "j8ejl156SWvXrtWWLVu0a9cu3XTTTQGteZI0ZcoUXX755fr9738f8nyhWgDT0tKMbkIeUPzduw3f\\\n",
              "+BZ97spyLcFLvbDEC4ABqqOu1fOXbtCRY01KjItRY3OrWoLu6sMS4+Q51uRfCEvNH7ygLzc9E1Am\\\n",
              "uFs3VHdxNIU/uoCjvAs4Pj5eEyZMkCRNnjxZ77//vh599FHdcMMNamxs1JEjRwJaAWtra5Wamtrh\\\n",
              "+ZxOp5zOU9hPFv3D372bOLzry7VMu6P9mEAAGED8wa++oVlHjjXpvrJyPfTXKv3rzHRJkueYb3H7\\\n",
              "Y02tId9/5NiJxe9jYxyyfnC9Tmts0d/+6/+TFHpMn/+5PwRGU/iDT1QHwGCtra1qaGjQ5MmTFRcX\\\n",
              "p02bNmn2bN9WX1VVVdq/f7+ysrLCXEucMn+Y687EjgvnMQkEwIARqpXPP6vWv5O5JV+ou7es+70V\\\n",
              "g52xGuyMVfXFP1Vza6tik9wdTujwH6+rqyP8RaGoDYBLlizR1VdfrXHjxuno0aN69tlntXnzZv31\\\n",
              "r3+V2+3WvHnztGjRIo0YMUIul0u33XabsrKyujwDGAMQYQ5AhGu7hIo/AC687GzdV1Yeau+ibnFI\\\n",
              "uvR7ydrxxdc693S39vzwf2rWeWM6fU80bf+GQFEbAA8fPqwbb7xRhw4dktvt1nnnnae//vWv+tGP\\\n",
              "fiRJevjhhxUTE6PZs2eroaFBM2fO1OOPPx7mWgMATPUf279QfUOzhiXGaeFlZ9vHf37RGXrg1b0d\\\n",
              "dvF21U8mjdGOL77WwSPHJEmfLZvVo/MhskX1JJC+xiBSAEBvuWT5Gzp45JhOH5aotxdfEfCaf6JH\\\n",
              "TyTGxcgZO0iS9K8z041eqoX7d5QvA4Mo09nyLgAQ4RZedrZOH5YY0Prnd+n3kk/pnKcPS7C/P9bU\\\n",
              "qiPHmjTYGWt0+IMPARCRwz/L962Hw10TAOh1P7/oDL29+IqQ4Wzr/z2x+HKMo93LIf3zpDF6e/GV\\\n",
              "+m12pgZ9955BDoUMmDAPARCRI3gRZwAwjEPS/74mU/88aYza5sDThyXYxxLjYvTb7Ew99tMLJPmC\\\n",
              "5dJrMnX6sEQtvSaT1j9IYgxgjzCGAADQHyJhf91Iwv2bANgj/AIBABB5uH/TBQwAAGAcAiAAAIBh\\\n",
              "CIAAAACGIQACAAAYhgAIAABgGAIgAACAYQiAAAAAhiEAAgAAGIYACAAAYBgCIAAAgGEIgAAAAIYh\\\n",
              "AAIAABiGAAgAAGAYAiAAAIBhCIAAAACGIQACAAAYhgAIAABgGAIgAACAYQiAOGVfl5bqkyuu1Nel\\\n",
              "peGuCgAA6AYCIE7ZV0/+Uc3V1frqyT+GuyoAAKAbCICGKyoqUnFxcadliouLVVRU1O74yFsWKHbM\\\n",
              "GI28ZUEf1Q4AAPSF2HBXAOFTVFSkpUuX2s/z8/PblSkuLlZBQUHAe/yG5+RoeE5On9YRAAD0PloA\\\n",
              "DRUc/goKCtq1BAaHv6VLl4ZsCQQAAJGFAGig4PDn1zYEBoc/P0IgAACRz2FZlhXuSkQqr9crt9st\\\n",
              "j8cjl8sV7up0SUfhr62MjAxVVFR0WqawsJAgCACISJF4/+5ttAAOUH21xEpycnKHr2UqU5Ls8Od/\\\n",
              "3t3zAACAgY0AOED11RIr+fn5WrVqVbvjucrVSq1UjnyTOnKUo5VaqVzltiu7atWqkBNGAABAZCAA\\\n",
              "DlB9ucRKcAjMVKbmaq4kKU95KlOZ8pQnSZqruQEtgYQ/AAAiH2MAeyDSxxC0neiRoxw79LW1RmtU\\\n",
              "Kl83NOEPABANIv3+3RsIgD0QDb9AEydOtMf8lalMbrnt1zzyKFvZknwTQ/bu3RuOKgIA0Kui4f7d\\\n",
              "U3QBG6y4uNgOfznKCQh/kuSW2x4TWFFRcdIdQwAAQGQgABqqbfdvpjIDun898tjf5ynPHgMYarFo\\\n",
              "AAAQeQiABgpe5Llc5SpRiSTfmL9sZWuN1kiSSlSicpXbZQmBAABEPsYA9kAkjiHoaIcPydcS2Dbs\\\n",
              "BT9viwkhAIBIFYn3795GC2AU6mwR6bq6ug7f5w97GRkZAc9D6ew8AABgYCMARiB/wDt457+qaupF\\\n",
              "qjz/AlVNvcgOfJ0tIl1UVKTCwsIOz71q1Srt3bs35GLRfmwDBwBAZKMLuAfC1YT8yRVXqrm6Who0\\\n",
              "SGppsY/HuN2KGTxYSRdcoG/eektWQ4McTqdG3XG7hufkBJwj1J7Awd26obqLCX8AgEhHFzAtgBHn\\\n",
              "69JStdbXK8btluuqqwJea/V41FxdLe+rr0qSrOPH1erx6PDDj7Q7T3BLYKgxfcE7hhD+AACIDrHh\\\n",
              "rgC656sn/6hWj2+ZFn/QC8VfRpJa6+tDlvGHueTk5A4ndPiP19XVEf4AAIgSUdsCuGzZMl144YUa\\\n",
              "OnSoRo0apezsbFVVVQWUOX78uPLz83XaaadpyJAhmj17tmpra8NU4461ndQx8pYFvq7f7mhuVuX5\\\n",
              "F4ScFFJUVHTS2bz5+fmEPwAAokjUBsAtW7YoPz9f27dv18aNG9XU1KQZM2aovk1r2B133KFXXnlF\\\n",
              "L774orZs2aLq6mpde+21Yax1aG0ndQzPyVHqffd2+xzW8eOq+c1vQ4ZAAABgFmMmgdTV1WnUqFHa\\\n",
              "smWLLr30Unk8HiUnJ+vZZ5/VnDlzJEmVlZXKyMjQtm3bdNFFF530nH05iPTgnf8q7/r1cl11lZIu\\\n",
              "/IEOP/yIPaljyLRpnXb/noxr1iyd/m8P9WJtAQCIHEwCieIWwGCe78bEjRgxQpK0Y8cONTU1afr0\\\n",
              "6XaZc845R+PGjdO2bdtCnqOhoUFerzfg0Ve869dLLS3yrl+v4Tk5ihk82J7U4V2/vmfnfvVVWgIB\\\n",
              "ADCYEQGwtbVVt99+uy655BJlZvr2ta2pqVF8fLyGDRsWUDYlJUU1NTUhz7Ns2TK53W77kZaW1md1\\\n",
              "dl11lTRokD3Td+QtC3zLvLjdik1J6fH56Q4GAMBcRgTA/Px8lZeXq7SHgWfJkiXyeDz248CBA71U\\\n",
              "w/ZO/7eHlLGn3O6qHZ6To/R3tyv93e1qPnSo6yeK7WCid0tLyIWiAQBA9Iv6AFhQUKC//OUvevPN\\\n",
              "NzV27Fj7eGpqqhobG3XkyJGA8rW1tUpNTQ15LqfTKZfLFfDoL21nAjuczoDXEjIz5UhICPm+mMGD\\\n",
              "FeN2y5GYaH+VJDkcvhnFAADAOFEbAC3LUkFBgV5++WW98cYbGj9+fMDrkydPVlxcnDZt2mQfq6qq\\\n",
              "0v79+5WVldXf1T0p/0zgww8/IofTKUdCgmLcbqUWFWr8Sy/qnF07lVpUqNgxY+SaNcvuLh51x+1K\\\n",
              "f3e7ztn5odLf3S5HfLwkKcblarc7CAAAMEPUzgL+5S9/qWeffVZ//vOflZ6ebh93u91K/K4VbOHC\\\n",
              "hXrttddUUlIil8ul2267TZL0zjvvdOln9Ocsoq9LS32LQNfXq9XjUeyYMfqHNzad/I0dnGfkLQsI\\\n",
              "gAAAIzELOIoDoMPhCHl83bp1mjt3riTfQtB33nmnnnvuOTU0NGjmzJl6/PHHO+wCDhaOXyACHAAA\\\n",
              "PUMAjOIA2B8i+ReIIAkAMFUk3797S9SOAUTn2u4uAgAAzEIANNTIWxYodswYZgIDAGAguoB7gCZk\\\n",
              "AAAiD/dvWgABAACMQwAEAAAwDAEQAADAMARAAAAAwxAAAQAADEMABAAAMAwBEAAAwDAEQAAAAMMQ\\\n",
              "AAEAAAxDAAQAADAMARAAAMAwBEAAAADDEAABAAAMQwAEAAAwDAEQAADAMARAAAAAwxAAAQAADEMA\\\n",
              "BAAAMAwBEAAAwDAEQAAAAMMQAAEAAAxDAAQAADAMARAAAMAwBEAAAADDEAABAAAMQwAEAAAwDAEQ\\\n",
              "AADAMARAAAAAwxAAAQAADEMABAAAMAwBEAAAwDAEQAAAAMMQAAEAAAxDAAQAADAMARAAAMAwBEAA\\\n",
              "AADDEAABAAAMQwBERHuh6gXNeGmGXqh6IdxVAQAgYhAAEdHW7l6rQ/WHtHb32nBXBQCAiEEARESb\\\n",
              "f+58jR48WvPPnd/t99J6CAAwlcOyLCvclYhUXq9XbrdbHo9HLpcr3NVBN814aYYO1R/S6MGjtWHO\\\n",
              "hnBXBwDQT7h/R3EL4NatW/WTn/xEY8aMkcPhUFlZWcDrlmXp/vvv1+jRo5WYmKjp06frk08+CU9l\\\n",
              "ERY9aT0MVlRUpOLi4k7LFBcXq6ioqMc/CwCAnooNdwX6Sn19vSZNmqSbb75Z1157bbvXV6xYocce\\\n",
              "e0xPP/20xo8fr/vuu08zZ87U3r17lZCQEIYao79dn369rk+/vsfnKSoq0tKlS+3n+fn57coUFxer\\\n",
              "oKAg4D0AAIRL1AbAq6++WldffXXI1yzL0iOPPKJ7771X11xzjSTpmWeeUUpKisrKypSTk9OfVUUE\\\n",
              "Cw5//pDXNgQGhz9/eUIgACBcorYLuDOff/65ampqNH36dPuY2+3W1KlTtW3btg7f19DQIK/XG/CA\\\n",
              "uYLDn19BQYHdHRwc/vyWLl1KAARgPIbPhE/UtgB2pqamRpKUkpIScDwlJcV+LZRly5aFvOHDPB2F\\\n",
              "Pz9/CKyoqOiwDC2BAEzG8JnwMrIF8FQtWbJEHo/Hfhw4cCDcVUKYJCcnd/hapjIlyQ5//ufdPQ8A\\\n",
              "RKtQw2eCWwJDDZ8hAPYeIwNgamqqJKm2tjbgeG1trf1aKE6nUy6XK+ABM+Xn52vVqlXtjucqVyu1\\\n",
              "UjnyjSPNUY5WaqVylduu7KpVq0L+xQsA0YzhMwODkQFw/PjxSk1N1aZNm+xjXq9X7777rrKyssJY\\\n",
              "M0SS4BCYqUzN1VxJUp7yVKYy5SlPkjRXcwNaAgl/AEzUleEzEydODBn+/AiBvSNqA+A333yjXbt2\\\n",
              "adeuXZJ8Ez927dql/fv3y+Fw6Pbbb9dvf/tb/ed//qd2796tG2+8UWPGjFF2dnZY643I0jYElqtc\\\n",
              "a7TGfs0tt/39Gq1RucolEf4AmIvhMwNH1O4EsnnzZl1++eXtjufm5qqkpESWZamwsFBPPvmkjhw5\\\n",
              "omnTpunxxx/X9773vS7/DFYSh9/EiRPtD60ylQWEP488yla2JCkjI0N79+4NRxUBYEAI1b2bq1zN\\\n",
              "1Vyt0RqVqlQ5ylGe8lSiEj2tpwPK9sYf0dy/ozgA9gd+gSAFfpj5P7SC+T/UJFoAAaDt52amMrVS\\\n",
              "K+3XPPIE/BF9m27r9R4U7t9R3AUM9IfgD7G24c8jj/19nvLs7oxQs90AwCQMnwk/AiAQ5IWqFzTj\\\n",
              "pRl6oeqFTssFd2OUq1wlKpHk+9DKVrb9oVaiEvtDTCIEAkB+fr4yMjIkSaUqDfijWfL9Ee3vOcnI\\\n",
              "yCD89TICIBBk7e61OlR/SGt3r+2wTEdLFDytp3WbbrM/tEpVqtt0W7sxLBIhEEB0+Wjja/pj/s36\\\n",
              "aONrXSrfdrH8HOUEtPxJvpZA/5JaFRUVfF72MgIgEGREwgj7+45aAuvq6jp8v7+l7/SzTw94Hkpn\\\n",
              "5wGASPJe2UvyfnVY75W9dNKyDJ8JPwIgjNNZF+8LVS9oz9/2SJIO1R/SofpDeuzDxzTjpRm6e+vd\\\n",
              "9vuKiopUWFjY4c8Y/fPRmrh8YsjFov0KCwtZywpAxPO3/I1JP0eukaM0JXtOp+UZPjMwGLkXMMzz\\\n",
              "QtULWrt7reafOz+gi/f69OslSXdvvVvr961XTIi/iTyNHnkaPardV6tWq1UPvPuApBN7UgYvanrz\\\n",
              "fTfrwHkHNP/c+bp+ju/8wd3FhD8A0cLf8idJC4r/1GnZzobP7NAOO+yVqlTl3/0XzP9+xgT2DC2A\\\n",
              "MELb0Df/3PkaPXi05p87324NfO3z19RqtarZau7wHClJKYpxxKjVarXHBxYVFWlO/om/dletWqWn\\\n",
              "/vdT2jBngx0ug3cMIfwBiHSvPrZCf/jpP+vVx1ZoSvacdi1/HY0H3L39nQ7P6Q97/okhDJ/pW7QA\\\n",
              "wggXjLpAtftqdcGoC3R9+vV2OJv23DR5Gj0nebdP7be1umfqPXaI9PNc5lHyl8k6beRpHf5F6j9e\\\n",
              "V1dH+AMw4H208TW9V/aSpmTP0aQf/bjd65Xv/JdkWap85780NsM3Rm/3Gxu06U9PKD1rmvZ99KGO\\\n",
              "f/ONNv/7UwHnmexy6kcT/0Eb934S8uf6l3rpqKVQ4o/o3kIAhBF2Ht6pVqtVbx98WzNemqELRl2g\\\n",
              "nYd3qr6pvsvnSElKCXl8/rnztfbngaEwFLorAESKthM6QgXAmEGD1NrcLIfDof+z9nFJsruBK9/e\\\n",
              "qth4pySpubFR3q8O663n/l3vlb2kMenn6DpJsfHxen3XnoBztl3nz/+V4TN9h51AeoCVxCOHfwxg\\\n",
              "fVO9vI1euyu3u1zxLnkbvXLHu5UUl+Qb5/ddayIARItQLYBtj23+96fU3NDQ4ftjnU4lDXUr0eVS\\\n",
              "7eefSd9FDdfIUVpQ/Cd9tPE13fvre/SXD3ZJ6niR57Ytgb0Z/rh/EwB7hF+gyBMcBLsr1hGrVrUq\\\n",
              "PiZex1uOa/Tg0dowZ0Mf1BQABpY/5t8s71eH5YiJ0aDYODU3dhwAQ3HExOjKm28NaFEsKipScnJy\\\n",
              "pz0kxcXFvT58hvs3XcAw1KmEP0lqsVpkyfc3U4wjRheMuqA3qwUAA46/5c//2We1tnY7/MnhUHrW\\\n",
              "tHbdyV0JdQyf6RvMAoZR/LOB42LiuvyeWEesEgYlyB3v1sTTJirG4fvfptVq1c7DO/uqqgAwIPjH\\\n",
              "Ax79qgczby1L1VWVAbOHEV4EQBhl/rnz5Y53KzE2UQmDErr0nharRcdbjsvb6NWBowfUarUqflC8\\\n",
              "vZQMAESjtgs8JwweqpjYWMnhUMpZE07pfGPSz1HlO/8lq7XVN4sYYUUAhFGuT79eSXFJ8jZ61dDi\\\n",
              "68JIGJQghxwB5dqGw9gY30gJS5YaWxrlkEONLY1MAAEQ1fwtf9VVlYpPTFRrc7NcpyXr58se8YXB\\\n",
              "bqquqlRsfLwk2V8RPgRAGMe/EPTV46/W6MGjddeFd+nei+7V6MGj5Y73bUYePyjeDoWDHIPkjnfL\\\n",
              "Fe9S/KB4WbJ0vOW4vRg0AESjKdlzlDBkiBqPHVOiyyVHTIzGpJ8jSbpi7i1yxHQxQjgcio13qvH4\\\n",
              "t5rwg6lyjRylCT+YGnKhaPQfAiCiXvDev9enX68Nczbo95f+3t6xw3/sV9//lVzxLjnkkHOQbx0r\\\n",
              "5yCn3vrpW3r7p2/rf33/f8kV75I73k33L4CoNulHP1Z8QpKO1x/V4X3/Lau1VdVVlfZrQ0eMPOk5\\\n",
              "XCNH6c7SV5Tkcuv4N9+ouqpSC4r/pOqqSnudQYQHARBRr+02cCdzffr1Ghw3WJ5Gj5yDnBo9eLR+\\\n",
              "9f1fBbz+9k/f1ls/fYvuXwBRz7/NW3rWtIDt3j7a+Joaj38b8j0Jg4dq+vxfBpQP3i4u1PZx6F+s\\\n",
              "A9gDrCMUGfxr/3V1zF53ywOAafxrAsY6nWppatKguDg1NzS0W+vvZFvKhQv3bwJgj/ALNPAR5gCg\\\n",
              "9wUHu46Cnj8o+ncAGSi4fxMAe4RfoIFvxkszdKj+EDt2AEAY0AI4cLETCKLa/HPn2y2AAID+NelH\\\n",
              "Px5QwQ8n0ALYA/wFAQBA5OH+zSxgAAAA4xAAAQAADEMABAAggvn37GVXDXQHARAAgAjm37OXXTXQ\\\n",
              "HQRAAAAiGLtq4FQwC7gHmEUEAEDk4f5NCyAAAIBxCIAAAACGIQACAAAYhgAIAABgGAIgAACAYQiA\\\n",
              "AAAAhiEAAgAAGIYACAAAYBgCIAAAgGEIgAAAAIYhAAIAABiGAAgAAGAYAiAAAIBhCIAAAACGMT4A\\\n",
              "FhcX68wzz1RCQoKmTp2q9957L9xVAgAA6FNGB8Dnn39eixYtUmFhoT788ENNmjRJM2fO1OHDh8Nd\\\n",
              "NQAAgD5jdAD8wx/+oAULFuimm27SxIkT9cQTTygpKUl/+tOfwl01AACAPmNsAGxsbNSOHTs0ffp0\\\n",
              "+1hMTIymT5+ubdu2hbFmAAAAfSs23BUIl6+++kotLS1KSUkJOJ6SkqLKysqQ72loaFBDQ4P93Ov1\\\n",
              "9mkdAQAA+oKxLYCnYtmyZXK73fYjLS0t3FUCAADoNmMD4MiRIzVo0CDV1tYGHK+trVVqamrI9yxZ\\\n",
              "skQej8d+HDhwoD+qCgAA0KuMDYDx8fGaPHmyNm3aZB9rbW3Vpk2blJWVFfI9TqdTLpcr4AEAABBp\\\n",
              "jB0DKEmLFi1Sbm6ufvCDH2jKlCl65JFHVF9fr5tuuincVQMAAOgzRgfAG264QXV1dbr//vtVU1Oj\\\n",
              "888/X+vXr283MQQAACCaOCzLssJdiUjl9Xrldrvl8XjoDgYAIEJw/zZ4DCAAAICpCIAAAACGIQAC\\\n",
              "AAAYhgAIAABgGAIgAACAYQiAAAAAhiEAAgAAGIYACAAAYBgCIAAAgGEIgAAAAIYhAAIAABiGAAgA\\\n",
              "AGAYAiAAAIBhCIAAAACGIQACAAAYhgAIAABgGAIgAACAYQiAAAAAhiEAAgAAGIYACAAAYBgCIAAA\\\n",
              "gGEIgAAAAIYhAAIAABiGAAgAAGAYAiAAAIBhCIAAAACGIQACAAAYhgAIAABgGAIgAACAYQiAAAAA\\\n",
              "hiEAAgAAGIYACAAAYBgCIAAAgGEIgAAAAIYhAAIAABiGAAgAAGAYAiAAAIBhCIAAAACGIQACAAAY\\\n",
              "hgAIAABgGAIgAACAYQiAAAAAhiEAAgAAGIYACAAAYJioDIAPPPCALr74YiUlJWnYsGEhy+zfv1+z\\\n",
              "Zs1SUlKSRo0apbvuukvNzc39W1EAAIAwiA13BfpCY2OjrrvuOmVlZempp55q93pLS4tmzZql1NRU\\\n",
              "vfPOOzp06JBuvPFGxcXF6Xe/+10YagwAANB/HJZlWeGuRF8pKSnR7bffriNHjgQcf/311/VP//RP\\\n",
              "qq6uVkpKiiTpiSee0N133626ujrFx8d36fxer1dut1sej0cul6u3qw8AAPoA9+8o7QI+mW3btunc\\\n",
              "c8+1w58kzZw5U16vV3v27AljzQAAAPpeVHYBn0xNTU1A+JNkP6+pqenwfQ0NDWpoaLCfe73evqkg\\\n",
              "AABAH4qYFsDFixfL4XB0+qisrOzTOixbtkxut9t+pKWl9enPAwAA6AsR0wJ45513au7cuZ2WOeus\\\n",
              "s7p0rtTUVL333nsBx2pra+3XOrJkyRItWrTIfu71egmBAAAg4kRMAExOTlZycnKvnCsrK0sPPPCA\\\n",
              "Dh8+rFGjRkmSNm7cKJfLpYkTJ3b4PqfTKafT2St1AAAACJeICYDdsX//fv3973/X/v371dLSol27\\\n",
              "dkmSJkyYoCFDhmjGjBmaOHGifvGLX2jFihWqqanRvffeq/z8fAIeAACIelG5DMzcuXP19NNPtzv+\\\n",
              "5ptv6rLLLpMkffHFF1q4cKE2b96swYMHKzc3V8uXL1dsbNczMdPIAQCIPNy/ozQA9hd+gQAAiDzc\\\n",
              "vyNoFjAAAAB6BwEQAADAMARAAAAAwxAAAQAADEMABAAAMAwBEAAAwDAEQAAAAMMQAAEAAAxDAAQA\\\n",
              "ADAMARAAAMAwBEAAAADDEAABAAAMQwAEAAAwDAEQAADAMARAAAAAwxAAAQAADEMABAAAMAwBEAAA\\\n",
              "wDAEQAAAAMMQAAEAAAxDAAQAADAMARAAAMAwBEAAAADDEAABAAAMQwAEAAAwDAEQAADAMARAAAAA\\\n",
              "wxAAAQAADEMABAAAMAwBEAAAwDAEQAAAAMMQAAEAAAxDAAQAADAMARAAAMAwBEAAAADDEAABAAAM\\\n",
              "QwAEAAAwDAEQAADAMARAAAAAwxAAAQAADEMABAAAMAwBEAAAwDAEQAAAAMMQAAEAAAwTlQFw3759\\\n",
              "mjdvnsaPH6/ExESdffbZKiwsVGNjY0C5jz/+WD/84Q+VkJCgtLQ0rVixIkw1BgAA6D+x4a5AX6is\\\n",
              "rFRra6vWrFmjCRMmqLy8XAsWLFB9fb0eeughSZLX69WMGTM0ffp0PfHEE9q9e7duvvlmDRs2TLfc\\\n",
              "ckuY/wUAAAB9x2FZlhXuSvSHBx98UKtXr9Z///d/S5JWr16te+65RzU1NYqPj5ckLV68WGVlZaqs\\\n",
              "rOzSOb1er9xutzwej1wuV5/VHQAA9B7u31HaBRyKx+PRiBEj7Ofbtm3TpZdeaoc/SZo5c6aqqqr0\\\n",
              "9ddfh6OKAAAA/cKIAPjpp59q5cqVysvLs4/V1NQoJSUloJz/eU1NTcjzNDQ0yOv1BjwAAAAiTUQF\\\n",
              "wMWLF8vhcHT6CO6+PXjwoK666ipdd911WrBgQY9+/rJly+R2u+1HWlpaj84HAAAQDhE1BrCurk5/\\\n",
              "+9vfOi1z1lln2d261dXVuuyyy3TRRReppKREMTEn8u6NN94or9ersrIy+9ibb76pK664Qn//+981\\\n",
              "fPjwduduaGhQQ0OD/dzr9SotLc3oMQQAAEQaxgBG2Czg5ORkJScnd6nswYMHdfnll2vy5Mlat25d\\\n",
              "QPiTpKysLN1zzz1qampSXFycJGnjxo1KT08PGf4kyel0yul09uwfAQAAEGYR1QXcVQcPHtRll12m\\\n",
              "cePG6aGHHlJdXZ1qamoCxvb97Gc/U3x8vObNm6c9e/bo+eef16OPPqpFixaFseYAAAB9L6JaALtq\\\n",
              "48aN+vTTT/Xpp59q7NixAa/5e7zdbrc2bNig/Px8TZ48WSNHjtT999/PGoAAACDqRdQYwIGGMQQA\\\n",
              "AEQe7t9R2gUMAACAjhEAAQAADEMABAAAMAwBEAAAwDAEQAAAAMMQAAEAQNgVFRWpuLi40zLFxcUq\\\n",
              "KirqnwpFuahcBxAAAESOoqIiLV261H6en5/frkxxcbEKCgoC3oNTRwsgAAAIm+DwV1BQ0K4lMDj8\\\n",
              "LV26lADYQwRAAAAQFsHhz69tCAwOf36EwJ5hJ5AeYCVxAABOTUfhr62MjAxVVFR0WqawsLDbQZD7\\\n",
              "Ny2AAAAgDJKTkzt8LVOZkmSHP//z7p4HHSMAAgCAfpefn69Vq1a1O56rXK3USuUoR5KUoxyt1Erl\\\n",
              "Krdd2VWrVoWcMIKTowu4B2hCBgCgZ9qO8ctUplZqpf2aRx655baf36bbVK5yST0Lf9y/aQEEAAD9\\\n",
              "rHzrQT3z67dVvvVgQEtgucq1Rmvscm3D3xqt6ZXwBx8CIAAA6Fcfrt+no39v0Ifr90nydQdnZGRI\\\n",
              "kkpVKo88AeU98qhUpZJ8E0MIfz1HAAQAAP3q+1edqaEjnPr+VWdK8nUD+yd85CgnoOVP8rUE+scE\\\n",
              "VlRUnHTHEJwcO4EAAIB+lXnp6cq89HRJ7ccA5inPLtd2DGCe8lT+3X/+8rQEnjpaAAEAQJe0HbvX\\\n",
              "ndc6ErzIc7nKVaISSb4xf9nKtscElqjEHgMohd4xBF1HCyAAAOiStmP3/C14nb1WvvWgPly/T9+/\\\n",
              "6sx25Tva4eNpPa0d2mGHvVKV2i1/wWgJPHUEQAAA0CXfv+pMfbh+n1LPHqZnfv12QLA7drQp4Kt0\\\n",
              "IhRuLa2yj20v+0yStOfrzzr8Of6w598JJFT486urqzv1f5DBWAewB1hHCAAQrTprvVu7aKsavm2W\\\n",
              "MylW8/9wqTY8tUefvF/b6fmcSbGKTxiko39vsJ9/6Xqjw+3g/Eu9dNRSKJ3aNnAS92+JMYAAACCE\\\n",
              "4KVaQmk41qzyrQf16Y7Ow58kNXzbrISh8QHH5lyxQNnTbmpXtu06fx3tGHKq4Q8+BEAAANBO8FIt\\\n",
              "0omJHuP+8TQ5YiRZ0pZnq2S1du2cdV8ctb9v+LZZb7/4iab/488DQmCoRZ6DQyDhr+cYAwgAANpp\\\n",
              "u1SLn79VUDqiCZNTTtrtezLNTa0aOsKp3zzwG016Y5ySk5M7nNDhP15XV0f46wWMAewBxhAAAExS\\\n",
              "vvWgPYmjpalVzU1dbPrrRP4TV7T7GR2NPewt3L/pAgYAAF2Ueenpik8YpIZvm9Xc3PPw9w8XprQ7\\\n",
              "1pWxh+g5AiAAAOgy/9jA5HFDe3YihzRj3j92eP62Yw/R+xgDCAAAusw/NvCZX7/d/Tc7JH038Owf\\\n",
              "ftC+9a/t+dG3aAEEAADdUr71oBqPtyg2LkYxMQ7J4VvXT5JiBjn0P36Wrv/xs3RfS+EZQ+WIkZLP\\\n",
              "ONFi6EyKDdn6h/5DCyAAAOiWD9fvU8O3zRo6wqkbf3eJJOmZX7+thm+b1dpi6cP1+3Tj7y4J2BJu\\\n",
              "a2mVZEmOGOmi7LP7ZbIHOkYLIAAA6JZQ4/S+f9WZcibFypkU22783ofr98lq9YW/S3PSJUlbS6uY\\\n",
              "7BFGtAACAIBuCTVOr7Oxe/49hP2tfc/8+m07EDLZIzwIgAAAoE8Fh8PgQIj+RwAEAAD9ipm+4ccY\\\n",
              "QAAAAMMQAAEAAAxDAAQAADAMARAAAMAwBEAAAADDEAABAAAMQwAEAAAwDAEQAADAMARAAAAAwxAA\\\n",
              "AQAADEMABAAAMAwBEAAAwDAEQAAAAMPEhrsCkcyyLEmS1+sNc00AAEBX+e/b/vu4iQiAPXD06FFJ\\\n",
              "UlpaWphrAgAAuuvo0aNyu93hrkZYOCyT428Ptba2qrq6WkOHDpXD4QhZxuv1Ki0tTQcOHJDL5ern\\\n",
              "GkY/rm/f4vr2La5v3+L69p1Iv7aWZeno0aMaM2aMYmLMHA1HC2APxMTEaOzYsV0q63K5IvJ/kkjB\\\n",
              "9e1bXN++xfXtW1zfvhPJ19bUlj8/M2MvAACAwQiAAAAAhiEA9jGn06nCwkI5nc5wVyUqcX37Fte3\\\n",
              "b3F9+xbXt+9wbSMfk0AAAAAMQwsgAACAYQiAAAAAhiEAAgAAGIYACAAAYBgCYB/Zt2+f5s2bp/Hj\\\n",
              "xysxMVFnn322CgsL1djYGFDu448/1g9/+EMlJCQoLS1NK1asCFONI88DDzygiy++WElJSRo2bFjI\\\n",
              "Mvv379esWbOUlJSkUaNG6a677lJzc3P/VjRCFRcX68wzz1RCQoKmTp2q9957L9xVikhbt27VT37y\\\n",
              "E40ZM0YOh0NlZWUBr1uWpfvvv1+jR49WYmKipk+frk8++SQ8lY1Ay5Yt04UXXqihQ4dq1KhRys7O\\\n",
              "VlVVVUCZ48ePKz8/X6eddpqGDBmi2bNnq7a2Nkw1jiyrV6/WeeedZy/4nJWVpddff91+nWsbuQiA\\\n",
              "faSyslKtra1as2aN9uzZo4cfflhPPPGEfv3rX9tlvF6vZsyYoTPOOEM7duzQgw8+qKKiIj355JNh\\\n",
              "rHnkaGxs1HXXXaeFCxeGfL2lpUWzZs1SY2Oj3nnnHT399NMqKSnR/fff3881jTzPP/+8Fi1apMLC\\\n",
              "Qn344YeaNGmSZs6cqcOHD4e7ahGnvr5ekyZNUnFxccjXV6xYoccee0xPPPGE3n33XQ0ePFgzZ87U\\\n",
              "8ePH+7mmkWnLli3Kz8/X9u3btXHjRjU1NWnGjBmqr6+3y9xxxx165ZVX9OKLL2rLli2qrq7Wtdde\\\n",
              "G8ZaR46xY8dq+fLl2rFjhz744ANdccUVuuaaa7Rnzx5JXNuIZqHfrFixwho/frz9/PHHH7eGDx9u\\\n",
              "NTQ02MfuvvtuKz09PRzVi1jr1q2z3G53u+OvvfaaFRMTY9XU1NjHVq9ebblcroBrjvamTJli5efn\\\n",
              "289bWlqsMWPGWMuWLQtjrSKfJOvll1+2n7e2tlqpqanWgw8+aB87cuSI5XQ6reeeey4MNYx8hw8f\\\n",
              "tiRZW7ZssSzLdz3j4uKsF1980S5TUVFhSbK2bdsWrmpGtOHDh1tr167l2kY4WgD7kcfj0YgRI+zn\\\n",
              "27Zt06WXXqr4+Hj72MyZM1VVVaWvv/46HFWMKtu2bdO5556rlJQU+9jMmTPl9Xrtv17RXmNjo3bs\\\n",
              "2KHp06fbx2JiYjR9+nRt27YtjDWLPp9//rlqamoCrrXb7dbUqVO51qfI4/FIkv1Zu2PHDjU1NQVc\\\n",
              "43POOUfjxo3jGndTS0uLSktLVV9fr6ysLK5thCMA9pNPP/1UK1euVF5enn2spqYmIJxIsp/X1NT0\\\n",
              "a/2iEdf31Hz11VdqaWkJee24br3Lfz251r2jtbVVt99+uy655BJlZmZK8l3j+Pj4duOEucZdt3v3\\\n",
              "bg0ZMkROp1O33nqrXn75ZU2cOJFrG+EIgN20ePFiORyOTh+VlZUB7zl48KCuuuoqXXfddVqwYEGY\\\n",
              "ah4ZTuX6AoAk5efnq7y8XKWlpeGuSlRJT0/Xrl279O6772rhwoXKzc3V3r17w10t9FBsuCsQae68\\\n",
              "807NnTu30zJnnXWW/X11dbUuv/xyXXzxxe0md6SmprabLeV/npqa2jsVjjDdvb6dSU1NbTdz1fTr\\\n",
              "2xUjR47UoEGDQv5uct16l/961tbWavTo0fbx2tpanX/++WGqVWQqKCjQX/7yF23dulVjx461j6em\\\n",
              "pqqxsVFHjhwJaKni97nr4uPjNWHCBEnS5MmT9f777+vRRx/VDTfcwLWNYATAbkpOTlZycnKXyh48\\\n",
              "eFCXX365Jk+erHXr1ikmJrDBNSsrS/fcc4+ampoUFxcnSdq4caPS09M1fPjwXq97JOjO9T2ZrKws\\\n",
              "PfDAAzp8+LBGjRolyXd9XS6XJk6c2Cs/IxrFx8dr8uTJ2rRpk7KzsyX5utY2bdqkgoKC8FYuyowf\\\n",
              "P16pqanatGmTHfi8Xq/d0oKTsyxLt912m15++WVt3rxZ48ePD3h98uTJiouL06ZNmzR79mxJUlVV\\\n",
              "lfbv36+srKxwVDnitba2qqGhgWsb6cI9CyVaffnll9aECROsK6+80vryyy+tQ4cO2Q+/I0eOWCkp\\\n",
              "KdYvfvELq7y83CotLbWSkpKsNWvWhLHmkeOLL76wdu7caS1dutQaMmSItXPnTmvnzp3W0aNHLcuy\\\n",
              "rObmZiszM9OaMWOGtWvXLmv9+vVWcnKytWTJkjDXfOArLS21nE6nVVJSYu3du9e65ZZbrGHDhgXM\\\n",
              "qEbXHD161P7dlGT94Q9/sHbu3Gl98cUXlmVZ1vLly61hw4ZZf/7zn62PP/7Yuuaaa6zx48dbx44d\\\n",
              "C3PNI8PChQstt9ttbd68OeBz9ttvv7XL3Hrrrda4ceOsN954w/rggw+srKwsKysrK4y1jhyLFy+2\\\n",
              "tmzZYn3++efWxx9/bC1evNhyOBzWhg0bLMvi2kYyAmAfWbdunSUp5KOtjz76yJo2bZrldDqt008/\\\n",
              "3Vq+fHmYahx5cnNzQ17fN9980y6zb98+6+qrr7YSExOtkSNHWnfeeafV1NQUvkpHkJUrV1rjxo2z\\\n",
              "4uPjrSlTpljbt28Pd5Ui0ptvvhny9zQ3N9eyLN9SMPfdd5+VkpJiOZ1O68orr7SqqqrCW+kI0tHn\\\n",
              "7Lp16+wyx44ds375y19aw4cPt5KSkqx/+Zd/CfhjHB27+eabrTPOOMOKj4+3kpOTrSuvvNIOf5bF\\\n",
              "tY1kDsuyrH5scAQAAECYMQsYAADAMARAAAAAwxAAAQAADEMABAAAMAwBEAAAwDAEQAAAAMMQAAEA\\\n",
              "AAxDAAQAADAMARAAAMAwBEAAAADDEAABAAAMQwAEAAAwDAEQAADAMARAAAAAwxAAAQAADEMABAAA\\\n",
              "MAwBEAAAwDAEQAAAAMMQAAEAAAxDAAQAADAMARAAAMAwBEAAAADDEAABAAAMQwAEAAAwDAEQAADA\\\n",
              "MARAAAAAwxAAAQAADEMABAAAMAwBEAAAwDAEQAAAAMMQAAEAAAzz/wCwaWvtcwpE+AAAAABJRU5E\\\n",
              "rkJggg==\\\n",
              "\"\n",
              "  frames[2] = \"data:image/png;base64,iVBORw0KGgoAAAANSUhEUgAAAoAAAAHgCAYAAAA10dzkAAAAOXRFWHRTb2Z0d2FyZQBNYXRwbG90\\\n",
              "bGliIHZlcnNpb24zLjcuMSwgaHR0cHM6Ly9tYXRwbG90bGliLm9yZy/bCgiHAAAACXBIWXMAAA9h\\\n",
              "AAAPYQGoP6dpAAAmw0lEQVR4nO3df4yVd4HH+w/YzpT+mKnYKVMCrLg1LQRbDdo6NWv8wZZtukbW\\\n",
              "H5FsooM2yu0O3FQad0vUzpDo0q3eXZUZWza7W7p/VJomW7x61x8NKv1DrCte7pYCjc3WhYgzHeN2\\\n",
              "ppJlQDj3D3bOzgwzlBaGwznf16s5Cec8zxy+fULOec/3fJ/nzKhUKpUAAFCMmbUeAAAA55cABAAo\\\n",
              "jAAEACiMAAQAKIwABAAojAAEACiMAAQAKIwABAAojAAEACiMAAQAKIwABAAojAAEACiMAAQAKIwA\\\n",
              "BAAojAAEACiMAAQAKIwABAAojAAEACiMAAQAKIwABAAojAAEACiMAAQAKIwABAAojAAEACiMAAQA\\\n",
              "KIwABAAojAAEACiMAAQAKIwABAAojAAEACiMAAQAKIwABAAojAAEACiMAAQAKIwABAAojAAEACiM\\\n",
              "AAQAKIwABAAojAAEACiMAAQAKIwABAAojAAEACiMAAQAKIwABAAojAAEACiMAAQAKIwABAAojAAE\\\n",
              "ACiMAAQAKIwABAAojAAEACiMAAQAKIwABAAojAAEACiMAAQAKIwABAAozEW1HkA9O3HiRA4dOpQr\\\n",
              "rrgiM2bMqPVwAIAzUKlU8tJLL2Xu3LmZObPMuTABeBYOHTqU+fPn13oYAMCrcPDgwcybN6/Ww6gJ\\\n",
              "AXgWrrjiiiQn/wG1tLTUeDQAwJkYHh7O/Pnzq+/jJRKAZ2H0Y9+WlhYBCAB1puTlW2V+8A0AUDAB\\\n",
              "CABQGAEIAFAYAQgAUBgBCP+jp6cnfX19p92nr68vPT0952dAADBNnAUMORl/GzZsqN7v6uo6ZZ++\\\n",
              "vr6sWbNm3M8AQD0yA0jxJsbfmjVrTpkJnBh/GzZsEIAA1C0BSNEmxt+osRE4Mf5GiUAA6tWMSqVS\\\n",
              "qfUg6tXw8HBaW1szNDTkQtB1aKr4G2vRokXZt2/faffp7u4WggB1xPu3GUAK1tbWNuW2JVmSJNX4\\\n",
              "G73/Sp8HAC5EApBidXV1pbe395THO9OZTdmUlVmZJFmZldmUTelM5yn79vb2TnrCCABcyHwEfBZM\\\n",
              "ITeGsWv8lmRJNmVTddtQhtKa1ur9tVmbPdmTRPwB1Cvv32YAYdxM4J7syeZsrm4bG3+bs1n8AdAQ\\\n",
              "zACeBb9BNJbFixdX1/xty7Zx8TeUoazIiiQnTwzZu3dvLYYIwDng/dsMICQ5+THwaPytzMpx8Zec\\\n",
              "nAkcXRO4b9++l/3GEAC4kAlAijdxDeDqrK5uG8pQ9c+rs7p6NvBkF4sGgHohACnaxIs878mebMmW\\\n",
              "JCfX/K3IiuqawC3ZUl0DmIhAAOqXNYBnwRqC+jbVN3wkJ2cCx8bexPtjOSEEoL54/zYDSMEGBwen\\\n",
              "3DYae4sWLRp3/5U+DwBciAQgxerp6Ul3d/eU23t7e7N3795JLxY9ytfAAVCPBCBFmyoCx36sO9U3\\\n",
              "hog/AOqVAKR4EyNwsjV9EyNQ/AFQzy6q9QDgQjAac21tbVOe0DH6+ODgoPgD6lpPT89pX++SkyfK\\\n",
              "eb1rXAIQ/seZvMg52xeodz09PdmwYUP1/mSvaxOvkiACG48ApPH0jPkWj56hqfcDKMzE+BuNvLER\\\n",
              "ODH+RvcXgY3FGkAAKMDE+Bs19qL2U10fdcOGDQKwwZgBBIAGN1X8jRqNwNHvRJ+MmcDGYgYQABpc\\\n",
              "W1vblNtGv+N8NP5G77/S56G+CEAaT8/Q/94AmPJ6pp3pzKZsysqsTJKszMpsyqZ0pvOUfX3tZWPx\\\n",
              "XcBnwXcJAlBPxq7xW5Il2ZRN1W1DGUpr/vckurVZW/0azEaLP+/fZgABoBhjZwL3ZE82Z3N129j4\\\n",
              "25zNDRt/nGQG8Cz4DQKAerR48eLqmr9t2TYu/oYylBVZkSRZtGhR9u7dW4shTivv3w08A/jAAw/k\\\n",
              "hhtuSEtLS1paWtLR0ZHvfOc71e1HjhxJV1dXXve61+Xyyy/PBz/4wQwMDNRwxAAw/cae7bsyK8fF\\\n",
              "X3JyJnB0TeC+ffuql4ihsTRsAM6bNy/33Xdfdu3alZ/97Gd5z3vek/e///155plnkiSf/vSn861v\\\n",
              "fSuPPfZYduzYkUOHDuUDH/hAjUcNANNn4hrA1Vld3TaU/z1xbnVWV88GHnudQBpHUR8Bz549O1/6\\\n",
              "0pfyoQ99KG1tbXnkkUfyoQ99KEmyf//+LFq0KDt37szb3/72M3o+U8gA1IvJLvLcmc6syqpszuZs\\\n",
              "zdaszMqszupsyZY8nIfH7dtIawG9fxdyIejjx4/nsccey+HDh9PR0ZFdu3bl2LFjWbZsWXWf66+/\\\n",
              "PgsWLHhFAQgA9WCqb/h4OA9nV3ZVT/jYmq3Z8z//TTTZ18ZRvxo6AJ9++ul0dHTkyJEjufzyy/P4\\\n",
              "449n8eLF2b17d5qamnLllVeO23/OnDnp7++f8vlGRkYyMjJSvT88PDxdQweAc2ZwcHDKbaOxt2jR\\\n",
              "ouzbt2/S+DuT56G+NOwawCS57rrrsnv37jz11FO5884709nZeVZnM23cuDGtra3V2/z588/haAFg\\\n",
              "evT09KS7u3vK7b29vdm7d++kF4se1d3d7WvgGkhDB2BTU1OuvfbaLF26NBs3bsyNN96Yr371q2lv\\\n",
              "b8/Ro0fz4osvjtt/YGAg7e3tUz7f+vXrMzQ0VL0dPHhwmv8PAODcmCoCx67tm+obQ8Rf42noAJzo\\\n",
              "xIkTGRkZydKlS3PxxRdn+/bt1W3PPvtsDhw4kI6Ojil/vrm5uXpZmdEbANSLiRE42YkdEyNQ/DWm\\\n",
              "hl0DuH79+tx2221ZsGBBXnrppTzyyCP50Y9+lO9973tpbW3NHXfckXXr1mX27NlpaWnJ2rVr09HR\\\n",
              "4QQQABraaMy1tbVNeULH6OODg4Pir0E1bAC+8MIL+djHPpZf//rXaW1tzQ033JDvfe97+eM//uMk\\\n",
              "yd/93d9l5syZ+eAHP5iRkZEsX748X//612s8agA4c//nN/7f/N//36Hq/V/ed/sZ/dyZRJ2zfRtb\\\n",
              "UdcBPNdcRwiAWvrD9f9Pjo95Fz/TACyd9+/C1gACQCO5/Ya5tR4CdcoM4FnwGwQA1B/v32YAAQCK\\\n",
              "IwABAAojAAEACiMAAQAKIwABAAojAAEACiMAAQAKIwABAAojAAEACiMAAQAKIwABAAojAAEACiMA\\\n",
              "AQAKIwABAAojAAEACiMAAQAKIwABAAojAAEACiMAAQAKIwABAAojAAEACiMAAQAKIwABAAojAAEA\\\n",
              "CiMAAQAKIwAbSE9PT/r6+k67T19fX3p6es7PgACAC9JFtR4A50ZPT082bNhQvd/V1XXKPn19fVmz\\\n",
              "Zs24nwEAymMGsAFMjL81a9acMhM4Mf42bNggAAGgUAKwzk2Mv1FjI3Bi/I0SgQBQphmVSqVS60HU\\\n",
              "q+Hh4bS2tmZoaCgtLS3n/e+fKv7GWrRoUfbt23fafbq7u4UgAMWo9fv3hcAMYB1ra2ubctuSLEmS\\\n",
              "avyN3n+lzwMANB4BWMe6urrS29t7yuOd6cymbMrKrEySrMzKbMqmdKbzlH17e3snPWEEAGhcPgI+\\\n",
              "CxfKFPLYNX5LsiSbsqm6bShDaU1r9f7arM2e7Eki/gAo04Xy/l1LZgAbwNiZwD3Zk83ZXN02Nv42\\\n",
              "Z7P4AwDMAJ6NC+03iMWLF1fX/G3LtnHxN5ShrMiKJCdPDNm7d28thggANXehvX/XghnABtHX11eN\\\n",
              "v5VZOS7+kpMzgaNrAvft2/ey3xgCADQuAdgAJq4BXJ3V1W1DGar+eXVWV88Gnuxi0QBAGQRgnZt4\\\n",
              "kec92ZMt2ZLk5Jq/FVlRXRO4JVuqawATEQgApbIG8CzUeg3BVN/wkZycCRwbexPvj+WEEABKUuv3\\\n",
              "7wuBGcA6Njg4OOW20dhbtGjRuPuv9HkAgMYjAOtYT09Puru7p9ze29ubvXv3Tnqx6FG+Bg4AyiMA\\\n",
              "69xUETj2Y92pvjFE/AFAmQRgA5gYgZOt6ZsYgeIPAMp1Ua0HwLkxGnNtbW1TntAx+vjg4KD4A4CC\\\n",
              "NexZwBs3bsy//Mu/ZP/+/Zk1a1ZuueWW/M3f/E2uu+666j5HjhzJ3Xffna1bt2ZkZCTLly/P17/+\\\n",
              "9cyZM+eM/g5nEQFA/fH+3cAfAe/YsSNdXV35yU9+kieeeCLHjh3LrbfemsOHD1f3+fSnP51vfetb\\\n",
              "eeyxx7Jjx44cOnQoH/jAB2o46v+17/pF1RsAwLnUsDOAEw0ODubqq6/Ojh078s53vjNDQ0Npa2vL\\\n",
              "I488kg996ENJkv3792fRokXZuXNn3v72t7/sc07nbxBjw2/R/n3n9LkBoGRmABt4BnCioaGTX4k2\\\n",
              "e/bsJMmuXbty7NixLFu2rLrP9ddfnwULFmTnzp2TPsfIyEiGh4fH3QAA6k0RJ4GcOHEid911V97x\\\n",
              "jndkyZKT34Xb39+fpqamXHnlleP2nTNnTvr7+yd9no0bN2bDhg3TPdwkZv0AgOlTxAxgV1dX9uzZ\\\n",
              "k61bt57V86xfvz5DQ0PV28GDB8/RCAEAzp+GnwFcs2ZNvv3tb+fJJ5/MvHnzqo+3t7fn6NGjefHF\\\n",
              "F8fNAg4MDKS9vX3S52pubk5zc/N0DxkAYFo17AxgpVLJmjVr8vjjj+cHP/hBFi5cOG770qVLc/HF\\\n",
              "F2f79u3Vx5599tkcOHAgHR0d53u4AADnTcPOAHZ1deWRRx7JN7/5zVxxxRXVdX2tra2ZNWtWWltb\\\n",
              "c8cdd2TdunWZPXt2Wlpasnbt2nR0dJzRGcAAAPWqYS8DM2PGjEkff+ihh7Jq1aok/3sh6G984xvj\\\n",
              "LgQ91UfAEzmNHADqj/fvBg7A88E/IACoP96/G3gNIAAAkxOAAACFEYAAAIURgAAAhRGAAACFEYAA\\\n",
              "AIURgAAAhRGAAACFEYAAAIURgAAAhRGAAACFEYAAAIURgAAAhRGAAACFEYAAAIURgAAAhRGAAACF\\\n",
              "EYAAAIURgAAAhRGAAACFEYAAAIURgAAAhRGAAACFEYAAAIURgAAAhRGAAACFEYAAAIURgAAAhRGA\\\n",
              "AACFEYAAAIURgAAAhRGAAACFEYAAAIURgAAAhRGAAACFEYAAAIURgAAAhRGAAACFEYAAAIURgAAA\\\n",
              "hRGAAACFEYAAAIURgAAAhRGAAACFEYAAAIVp2AB88skn8773vS9z587NjBkzsm3btnHbK5VK7r33\\\n",
              "3lxzzTWZNWtWli1bll/84he1GSwAwHnUsAF4+PDh3Hjjjenr65t0+/3335+vfe1refDBB/PUU0/l\\\n",
              "sssuy/Lly3PkyJHzPFIuZD09PVP+GxrV19eXnp6e8zMgADgHLqr1AKbLbbfdlttuu23SbZVKJV/5\\\n",
              "ylfyuc99Lu9///uTJP/8z/+cOXPmZNu2bVm5cuX5HCoXqJ6enmzYsKF6v6ur65R9+vr6smbNmnE/\\\n",
              "AwAXuoadATyd559/Pv39/Vm2bFn1sdbW1tx8883ZuXPnlD83MjKS4eHhcTca08T4W7NmzSkzgRPj\\\n",
              "b8OGDQIQgLpQZAD29/cnSebMmTPu8Tlz5lS3TWbjxo1pbW2t3ubPnz+t46Q2JsbfqLERODH+RolA\\\n",
              "gDNnmU3tNOxHwNNh/fr1WbduXfX+8PCwCGwwU8XfqNEI3Ldv35T7jP68FyyAqVlmU1tFzgC2t7cn\\\n",
              "SQYGBsY9PjAwUN02mebm5rS0tIy70Vja2tqm3LYkS5KkGn+j91/p8wCUzjKb2isyABcuXJj29vZs\\\n",
              "3769+tjw8HCeeuqpdHR01HBk1FpXV1d6e3tPebwzndmUTVmZkycIrczKbMqmdKbzlH17e3sn/U0W\\\n",
              "AMtsLhQN+xHw7373uzz33HPV+88//3x2796d2bNnZ8GCBbnrrrvyhS98IW984xuzcOHCfP7zn8/c\\\n",
              "uXOzYsWK2g2aC8JovI2++CzJkqzKqiTJ6qzOyqxMa1qTJKuyKruyK3uyJ4n4Azgdy2wuHA07A/iz\\\n",
              "n/0sb3nLW/KWt7wlSbJu3bq85S1vyb333psk+cu//MusXbs2n/rUp/K2t70tv/vd7/Ld7343l1xy\\\n",
              "SS2HzQVi7EzgnuzJ5myubhuNvyTZnM3iD+AMWWZz4ZhRqVQqtR5EvRoeHk5ra2uGhoasB2xQixcv\\\n",
              "rr4Ybcu2cfE3lKGsyIokyaJFi7J3795aDBGgrkz28W5nOrMqq7I5m7M1W7MyK7M6q7MlW/JwHh63\\\n",
              "77n4Zdv7dwPPAMLZGvsxxNiPfUe1prW6JnDfvn0veykDAE5daz1xmc22bMvqrE5ycpnN2JlAn7Sc\\\n",
              "OwIQJjH2N9QlWVJ9MUpOzvyNWp3V1Renyc5iA+BUltnUngCECSZ+PLEne7IlW5KcfDFakRXVF6st\\\n",
              "2VJ9cUpEIMCZ6urqyqJFi5IkW7N13C/Xyclftrdma5KTy2zE37klAGGMqS498HAeztqsrb4Ybc3W\\\n",
              "rM3aU9amJCIQ4ExYZlNbAhDGGBwcnHLb6Ezf6G+sY2f+XsnzAJTOMpvaE4AwRk9PT7q7u6fc3tvb\\\n",
              "m7179056sehR3d3drk8FMAXLbC4MLgNzFpxG3rgmu1jpxAXIk31cLP4ApjbVMpvk5Ezg2NibeH+s\\\n",
              "sz0hxPu3GUCY1MSZwMlebCZeykD8AZyeZTYXjob9Kjg4W6Mx19bWNuVvmqOPDw4Oij+AlzH6OjnV\\\n",
              "18GN/rJ9uplCv2yfGz4CPgumkOvDmx5+07j7T3c+XaORAJDUfpmN928fAQMA55llNrXnI2AA4Lyz\\\n",
              "zKa2BCBFueaya2o9BICG8n995E/H3b/70W+f8c+eSdT5BpDpIQBpeNb8AcB41gACABRGAAIAFMZH\\\n",
              "wADAq/ZK1vxx4TADCABQGAEIAFAYAQgAUBgBCABQGAEIAFAYAQgAUBgBCABQGAEIAFAYAQgAUBgB\\\n",
              "CABQGAEIAFAYAQgAUBgBCABQGAEIAFAYAQgAUBgBCABQGAEIAFAYAQgAUBgBCABQGAEIAFAYAQgA\\\n",
              "UBgBCABQGAEIAFAYAQgAUBgBCABQGAEIAFAYAQgAUBgBCABQmOIDsK+vL69//etzySWX5Oabb85P\\\n",
              "f/rTWg8JAGBaFR2Ajz76aNatW5fu7u78/Oc/z4033pjly5fnhRdeqPXQAACmTdEB+Ld/+7f55Cc/\\\n",
              "mY9//ONZvHhxHnzwwVx66aX5p3/6p1oPDQBg2hQbgEePHs2uXbuybNmy6mMzZ87MsmXLsnPnzhqO\\\n",
              "DABgel1U6wHUym9+85scP348c+bMGff4nDlzsn///kl/ZmRkJCMjI9X7w8PD0zpGAIDpUOwM4Kux\\\n",
              "cePGtLa2Vm/z58+v9ZAAAF6xYgPwqquuymte85oMDAyMe3xgYCDt7e2T/sz69eszNDRUvR08ePB8\\\n",
              "DBUA4JwqNgCbmpqydOnSbN++vfrYiRMnsn379nR0dEz6M83NzWlpaRl3AwCoN8WuAUySdevWpbOz\\\n",
              "M29961tz00035Stf+UoOHz6cj3/847UeGgDAtCk6AD/ykY9kcHAw9957b/r7+/PmN7853/3ud085\\\n",
              "MQQAoJHMqFQqlVoPol4NDw+ntbU1Q0NDPg4GgDrh/bvgNYAAAKUSgAAAhRGAAACFEYAAAIURgAAA\\\n",
              "hRGAAACFEYAAAIURgAAAhRGAAACFEYAAAIURgAAAhRGAAACFEYAAAIURgAAAhRGAAACFEYAAAIUR\\\n",
              "gAAAhRGAAACFEYAAAIURgAAAhRGAAACFEYAAAIURgAAAhRGAAACFEYAAAIURgAAAhRGAAACFEYAA\\\n",
              "AIURgAAAhRGAAACFEYAAAIURgAAAhRGAAACFEYAAAIURgAAAhRGAAACFEYAAAIURgAAAhRGAAACF\\\n",
              "EYAAAIURgAAAhRGAAACFEYAAAIURgAAAhRGAAACFEYAAAIVpyAD84he/mFtuuSWXXnpprrzyykn3\\\n",
              "OXDgQG6//fZceumlufrqq/OZz3wmv//978/vQAEAauCiWg9gOhw9ejQf/vCH09HRkX/8x388Zfvx\\\n",
              "48dz++23p729PT/+8Y/z61//Oh/72Mdy8cUX56//+q9rMGIAgPNnRqVSqdR6ENNly5Ytueuuu/Li\\\n",
              "iy+Oe/w73/lO/vRP/zSHDh3KnDlzkiQPPvhg/uqv/iqDg4Npamo6o+cfHh5Oa2trhoaG0tLScq6H\\\n",
              "DwBMA+/fDfoR8MvZuXNn3vSmN1XjL0mWL1+e4eHhPPPMM1P+3MjISIaHh8fdAADqTZEB2N/fPy7+\\\n",
              "klTv9/f3T/lzGzduTGtra/U2f/78aR0nAMB0qJsAvOeeezJjxozT3vbv3z+tY1i/fn2Ghoaqt4MH\\\n",
              "D07r3wcAMB3q5iSQu+++O6tWrTrtPm94wxvO6Lna29vz05/+dNxjAwMD1W1TaW5uTnNz8xn9HQAA\\\n",
              "F6q6CcC2tra0tbWdk+fq6OjIF7/4xbzwwgu5+uqrkyRPPPFEWlpasnjx4nPydwAAXKjqJgBfiQMH\\\n",
              "DuS3v/1tDhw4kOPHj2f37t1JkmuvvTaXX355br311ixevDgf/ehHc//996e/vz+f+9zn0tXVZYYP\\\n",
              "AGh4DXkZmFWrVuXhhx8+5fEf/vCHede73pUk+c///M/ceeed+dGPfpTLLrssnZ2due+++3LRRWfe\\\n",
              "xE4jB4D64/27QQPwfPEPCADqj/fvOjoLGACAc0MAAgAURgACABRGAAIAFEYAAgAURgACABRGAAIA\\\n",
              "FEYAAgAURgACABRGAAIAFEYAAgAURgACABRGAAIAFEYAAgAURgACABRGAAIAFEYAAgAURgACABRG\\\n",
              "AAIAFEYAAgAURgACABRGAAIAFEYAAgAURgACABRGAAIAFEYAAgAURgACABRGAAIAFEYAAgAURgAC\\\n",
              "ABRGAAIAFEYAAgAURgACABRGAAIAFEYAAgAURgACABRGAAIAFEYAAgAURgACABRGAAIAFEYAAgAU\\\n",
              "RgACABRGAAIAFEYAAgAURgACABSmIQPwl7/8Ze64444sXLgws2bNyh/+4R+mu7s7R48eHbffv//7\\\n",
              "v+eP/uiPcskll2T+/Pm5//77azRiAIDz56JaD2A67N+/PydOnMjmzZtz7bXXZs+ePfnkJz+Zw4cP\\\n",
              "58tf/nKSZHh4OLfeemuWLVuWBx98ME8//XQ+8YlP5Morr8ynPvWpGv8fAABMnxmVSqVS60GcD1/6\\\n",
              "0pfywAMP5D/+4z+SJA888EA++9nPpr+/P01NTUmSe+65J9u2bcv+/fvP6DmHh4fT2tqaoaGhtLS0\\\n",
              "TNvYAYBzx/t3g34EPJmhoaHMnj27en/nzp155zvfWY2/JFm+fHmeffbZ/Nd//dekzzEyMpLh4eFx\\\n",
              "NwCAelNEAD733HPZtGlTVq9eXX2sv78/c+bMGbff6P3+/v5Jn2fjxo1pbW2t3ubPnz99gwYAmCZ1\\\n",
              "FYD33HNPZsyYcdrbxI9vf/WrX+VP/uRP8uEPfzif/OQnz+rvX79+fYaGhqq3gwcPntXzAQDUQl2d\\\n",
              "BHL33Xdn1apVp93nDW94Q/XPhw4dyrvf/e7ccsst+fu///tx+7W3t2dgYGDcY6P329vbJ33u5ubm\\\n",
              "NDc3v4qRAwBcOOoqANva2tLW1nZG+/7qV7/Ku9/97ixdujQPPfRQZs4cP9nZ0dGRz372szl27Fgu\\\n",
              "vvjiJMkTTzyR6667Lq997WvP+dgBAC4UdfUR8Jn61a9+lXe9611ZsGBBvvzlL2dwcDD9/f3j1vb9\\\n",
              "+Z//eZqamnLHHXfkmWeeyaOPPpqvfvWrWbduXQ1HDgAw/epqBvBMPfHEE3nuuefy3HPPZd68eeO2\\\n",
              "jV71prW1Nd///vfT1dWVpUuX5qqrrsq9997rGoAAQMMr5jqA08F1hACg/nj/btCPgAEAmJoABAAo\\\n",
              "jAAEACiMAAQAKIwABAAojAAEAGqup6cnfX19p92nr68vPT0952dADa4hrwMIANSPnp6ebNiwoXq/\\\n",
              "q6vrlH36+vqyZs2acT/Dq2cGEAComYnxt2bNmlNmAifG34YNGwTgWRKAAEBNTIy/UWMjcGL8jRKB\\\n",
              "Z8c3gZwFVxIHgFdnqvgba9GiRdm3b99p9+nu7n7FIej92wwgAFADbW1tU25bkiVJUo2/0fuv9HmY\\\n",
              "mgAEAM67rq6u9Pb2nvJ4ZzqzKZuyMiuTJCuzMpuyKZ3pPGXf3t7eSU8Y4eX5CPgsmEIGgLMzdo3f\\\n",
              "kizJpmyqbhvKUFrTWr2/NmuzJ3uSnF38ef82AwgA1NDYmcA92ZPN2VzdNjb+NmfzOYk/TjIDeBb8\\\n",
              "BgEA58bixYura/62Zdu4+BvKUFZkRZKTJ4bs3bv3rP4u799mAAGAGuvr66vG38qsHBd/ycmZwNE1\\\n",
              "gfv27XvZbwzh5QlAAKBmJq4BXJ3V1W1DGar+eXVWV88Gnuxi0bwyAhAAqImJF3nekz3Zki1JTq75\\\n",
              "W5EV1TWBW7KlugYwEYFnyxrAs2ANAQC8OlN9w0dyciZwbOxNvD/WqzkhxPu3GUAAoAYGBwen3DYa\\\n",
              "e4sWLRp3/5U+D1MTgADAedfT05Pu7u4pt/f29mbv3r2TXix61Kv5GjhOEoAAQE1MFYFjP9ad6htD\\\n",
              "xN/ZEYAAQM1MjMDJ1vRNjEDxd/YuqvUAAIDG0vd//GDc/a4H33Pa/Udjrq2tbcoTOkYfHxwcFH/n\\\n",
              "gAAEAGruTKLO17+dOz4CBgAojBlAAOCcermPfKk9M4AAAIURgAAAhRGAAACFEYAAAIURgAAAhRGA\\\n",
              "AACFEYAAAIURgAAAhRGAAACFEYAAAIURgAAAhRGAAACFEYAAAIW5qNYDqGeVSiVJMjw8XOORAABn\\\n",
              "avR9e/R9vEQC8Cy89NJLSZL58+fXeCQAwCv10ksvpbW1tdbDqIkZlZLz9yydOHEihw4dyhVXXJEZ\\\n",
              "M2bUejgNY3h4OPPnz8/BgwfT0tJS6+E0LMf5/HGszw/H+fyp92NdqVTy0ksvZe7cuZk5s8zVcGYA\\\n",
              "z8LMmTMzb968Wg+jYbW0tNTlC0u9cZzPH8f6/HCcz596PtalzvyNKjN7AQAKJgABAAojALngNDc3\\\n",
              "p7u7O83NzbUeSkNznM8fx/r8cJzPH8e6/jkJBACgMGYAAQAKIwABAAojAAEACiMAAQAKIwC5oHzx\\\n",
              "i1/MLbfckksvvTRXXnnlpPscOHAgt99+ey699NJcffXV+cxnPpPf//7353egDaCvry+vf/3rc8kl\\\n",
              "l+Tmm2/OT3/601oPqe49+eSTed/73pe5c+dmxowZ2bZt27jtlUol9957b6655prMmjUry5Ytyy9+\\\n",
              "8YvaDLZObdy4MW9729tyxRVX5Oqrr86KFSvy7LPPjtvnyJEj6erqyute97pcfvnl+eAHP5iBgYEa\\\n",
              "jbh+PfDAA7nhhhuqF3vu6OjId77znep2x7m+CUAuKEePHs2HP/zh3HnnnZNuP378eG6//fYcPXo0\\\n",
              "P/7xj/Pwww9ny5Ytuffee8/zSOvbo48+mnXr1qW7uzs///nPc+ONN2b58uV54YUXaj20unb48OHc\\\n",
              "eOON6evrm3T7/fffn6997Wt58MEH89RTT+Wyyy7L8uXLc+TIkfM80vq1Y8eOdHV15Sc/+UmeeOKJ\\\n",
              "HDt2LLfeemsOHz5c3efTn/50vvWtb+Wxxx7Ljh07cujQoXzgAx+o4ajr07x583Lfffdl165d+dnP\\\n",
              "fpb3vOc9ef/7359nnnkmieNc9ypwAXrooYcqra2tpzz+r//6r5WZM2dW+vv7q4898MADlZaWlsrI\\\n",
              "yMh5HGF9u+mmmypdXV3V+8ePH6/MnTu3snHjxhqOqrEkqTz++OPV+ydOnKi0t7dXvvSlL1Ufe/HF\\\n",
              "FyvNzc2Vb3zjGzUYYWN44YUXKkkqO3bsqFQqJ4/pxRdfXHnssceq++zbt6+SpLJz585aDbNhvPa1\\\n",
              "r638wz/8g+PcAMwAUld27tyZN73pTZkzZ071seXLl2d4eLj6Wymnd/To0ezatSvLli2rPjZz5sws\\\n",
              "W7YsO3furOHIGtvzzz+f/v7+cce9tbU1N998s+N+FoaGhpIks2fPTpLs2rUrx44dG3ecr7/++ixY\\\n",
              "sMBxPgvHjx/P1q1bc/jw4XR0dDjODeCiWg8AXon+/v5x8Zeker+/v78WQ6o7v/nNb3L8+PFJj+P+\\\n",
              "/ftrNKrGN/rvc7Lj7t/uq3PixIncddddecc73pElS5YkOXmcm5qaTllD7Di/Ok8//XQ6Ojpy5MiR\\\n",
              "XH755Xn88cezePHi7N6923Guc2YAmXb33HNPZsyYcdqb8ABeqa6uruzZsydbt26t9VAa1nXXXZfd\\\n",
              "u3fnqaeeyp133pnOzs7s3bu31sPiHDADyLS7++67s2rVqtPu84Y3vOGMnqu9vf2Us1VHzzprb29/\\\n",
              "VeMrzVVXXZXXvOY1p5ytNzAw4BhOo9FjOzAwkGuuuab6+MDAQN785jfXaFT1a82aNfn2t7+dJ598\\\n",
              "MvPmzas+3t7enqNHj+bFF18cNzvl3/er09TUlGuvvTZJsnTp0vzbv/1bvvrVr+YjH/mI41znzAAy\\\n",
              "7dra2nL99def9tbU1HRGz9XR0ZGnn3563NmqTzzxRFpaWrJ48eLp+l9oKE1NTVm6dGm2b99efezE\\\n",
              "iRPZvn17Ojo6ajiyxrZw4cK0t7ePO+7Dw8N56qmnHPdXoFKpZM2aNXn88cfzgx/8IAsXLhy3fenS\\\n",
              "pbn44ovHHednn302Bw4ccJzPgRMnTmRkZMRxbgBmALmgHDhwIL/97W9z4MCBHD9+PLt3706SXHvt\\\n",
              "tbn88stz6623ZvHixfnoRz+a+++/P/39/fnc5z6Xrq6uNDc313bwdWTdunXp7OzMW9/61tx00035\\\n",
              "yle+ksOHD+fjH/94rYdW1373u9/lueeeq95//vnns3v37syePTsLFizIXXfdlS984Qt54xvfmIUL\\\n",
              "F+bzn/985s6dmxUrVtRu0HWmq6srjzzySL75zW/miiuuqK43a21tzaxZs9La2po77rgj69aty+zZ\\\n",
              "s9PS0pK1a9emo6Mjb3/722s8+vqyfv363HbbbVmwYEFeeumlPPLII/nRj36U733ve45zI6j1acgw\\\n",
              "VmdnZyXJKbcf/vCH1X1++ctfVm677bbKrFmzKldddVXl7rvvrhw7dqx2g65TmzZtqixYsKDS1NRU\\\n",
              "uemmmyo/+clPaj2kuvfDH/5w0n+/nZ2dlUrl5KVgPv/5z1fmzJlTaW5urrz3ve+tPPvss7UddJ2Z\\\n",
              "7PgmqTz00EPVff77v/+78hd/8ReV1772tZVLL7208md/9meVX//617UbdJ36xCc+UfmDP/iDSlNT\\\n",
              "U6Wtra3y3ve+t/L973+/ut1xrm8zKpVK5fxnJwAAtWINIABAYQQgAEBhBCAAQGEEIABAYQQgAEBh\\\n",
              "BCAAQGEEIABAYQQgAEBhBCAAQGEEIABAYQQgAEBhBCAAQGEEIABAYQQgAEBhBCAAQGEEIABAYQQg\\\n",
              "AEBhBCAAQGEEIABAYQQgAEBhBCAAQGEEIABAYQQgAEBhBCAAQGEEIABAYQQgAEBhBCAAQGEEIABA\\\n",
              "YQQgAEBhBCAAQGEEIABAYf5/5lv9Xa9JqGEAAAAASUVORK5CYII=\\\n",
              "\"\n",
              "  frames[3] = \"data:image/png;base64,iVBORw0KGgoAAAANSUhEUgAAAoAAAAHgCAYAAAA10dzkAAAAOXRFWHRTb2Z0d2FyZQBNYXRwbG90\\\n",
              "bGliIHZlcnNpb24zLjcuMSwgaHR0cHM6Ly9tYXRwbG90bGliLm9yZy/bCgiHAAAACXBIWXMAAA9h\\\n",
              "AAAPYQGoP6dpAAAmwUlEQVR4nO3df4zUd4H/8RfY7pba7lTslpUAJ15NC0GrQduu5oynXLmmZ+T8\\\n",
              "EcklumijfHsLSaXxrkTtLokever3TmXXluTuSu+PStPkitHv+aPBSv8Q64khVwo0NlePRly6ntfd\\\n",
              "So4FYb5/cDvuLrstFJZh5v14NJMw8/ns8O4nZOa573l/PjOjWq1WAwBAMWbWewAAAJxfAhAAoDAC\\\n",
              "EACgMAIQAKAwAhAAoDACEACgMAIQAKAwAhAAoDACEACgMAIQAKAwAhAAoDACEACgMAIQAKAwAhAA\\\n",
              "oDACEACgMAIQAKAwAhAAoDACEACgMAIQAKAwAhAAoDACEACgMAIQAKAwAhAAoDACEACgMAIQAKAw\\\n",
              "AhAAoDACEACgMAIQAKAwAhAAoDACEACgMAIQAKAwAhAAoDACEACgMAIQAKAwAhAAoDACEACgMAIQ\\\n",
              "AKAwAhAAoDACEACgMAIQAKAwAhAAoDACEACgMAIQAKAwAhAAoDACEACgMAIQAKAwAhAAoDACEACg\\\n",
              "MAIQAKAwAhAAoDACEACgMAIQAKAwAhAAoDACEACgMAIQAKAwAhAAoDAX1XsAjezEiRM5ePBgLr/8\\\n",
              "8syYMaPewwEATkO1Ws2LL76YuXPnZubMMufCBOBZOHjwYObPn1/vYQAAr8Bzzz2XefPm1XsYdSEA\\\n",
              "z8Lll1+e5OQ/oLa2tjqPBgA4HcPDw5k/f37tfbxEAvAsjH7s29bWJgABoMGUvHyrzA++AQAKJgAB\\\n",
              "AAojAAEACiMAAQAKIwDhf/X29qa/v/8l9+nv709vb+/5GRAATBNnAUNOxt+GDRtq97u7u0/Zp7+/\\\n",
              "P2vWrBn3MwDQiMwAUryJ8bdmzZpTZgInxt+GDRsEIAANSwBStInxN2psBE6Mv1EiEIBGNaNarVbr\\\n",
              "PYhGNTw8nEqlkqGhIReCbkBTxd9YixYtyr59+15yn56eHiEI0EC8f5sBpGDt7e1TbluSJUlSi7/R\\\n",
              "+2f6PABwIRKAFKu7uzt9fX2nPN6VrmzKpqzMyiTJyqzMpmxKV7pO2bevr2/SE0YA4ELmI+CzYAq5\\\n",
              "OYxd47ckS7Ipm2rbhjKUSiq1+2uzNnuyJ4n4A2hU3r/NAMK4mcA92ZPN2VzbNjb+Nmez+AOgKZgB\\\n",
              "PAt+g2guixcvrq3525Zt4+JvKENZkRVJTp4Ysnfv3noMEYBzwPu3GUBIcvJj4NH4W5mV4+IvOTkT\\\n",
              "OLomcN++fS/7jSEAcCETgBRv4hrA1Vld2zaUodqfV2d17WzgyS4WDQCNQgBStIkXed6TPdmSLUlO\\\n",
              "rvlbkRW1NYFbsqW2BjARgQA0LmsAz4I1BI1tqm/4SE7OBI6NvYn3x3JCCEBj8f5tBpCCDQ4OTrlt\\\n",
              "NPYWLVo07v6ZPg8AXIgEIMXq7e1NT0/PlNv7+vqyd+/eSS8WPcrXwAHQiAQgRZsqAsd+rDvVN4aI\\\n",
              "PwAalQCkeBMjcLI1fRMjUPwB0MguqvcA4EIwGnPt7e1TntAx+vjg4KD4Axpab2/vS77eJSdPlPN6\\\n",
              "17wEIPyv03mRc7Yv0Oh6e3uzYcOG2v3JXtcmXiVBBDYfHwEDQCEmxt9k1zOdGH8bNmwQgE3IDCDN\\\n",
              "p3fM17j1Dk29H0BBJsbfqNHY6+7unvL6qKM/JwSbhwAEgCY3VfyNGp0JHP1O9MmIwObiI2AAaHLt\\\n",
              "7e1Tbhv9jvPR+Bu9f6bPQ2MRgDSf3qHf3wCY8nqmXenKpmzKyqxMkqzMymzKpnSl65R9fe1lc/Fd\\\n",
              "wGfBdwkC0EjGrvFbkiXZlE21bUMZSiW/X0O9NmtrX4PZbPHn/dsMIAAUY+xM4J7syeZsrm0bG3+b\\\n",
              "s7lp44+TzACeBb9BANCIFi9eXFvzty3bxsXfUIayIiuSJIsWLcrevXvrMcRp5f27iWcA77333rz5\\\n",
              "zW9OW1tb2tra0tnZme985zu17UeOHEl3d3de+9rX5rLLLssHP/jBHDp0qI4jBoDpN/Zs35VZOS7+\\\n",
              "kpMzgaNrAvft23fKdQJpDk0bgPPmzcvdd9+dXbt25ac//Wne85735P3vf3+eeuqpJMmnP/3pfOtb\\\n",
              "38rDDz+cHTt25ODBg/nABz5Q51EDwPSZuAZwdVbXtg3l9yfOrc7q2tnAk10smsZX1EfAs2fPzpe+\\\n",
              "9KV86EMfSnt7ex588MF86EMfSpLs378/ixYtys6dO3PjjTee1vOZQgagUUx2keeudGVVVmVzNmdr\\\n",
              "tmZlVmZ1VmdLtuSBPDBu32ZaC+j9u5ALQR8/fjwPP/xwDh8+nM7OzuzatSvHjh3LsmXLavtce+21\\\n",
              "WbBgwRkFIAA0gqm+4eOBPJBd2VU74WNrtmbP//430dhvDKHxNXUAPvnkk+ns7MyRI0dy2WWX5ZFH\\\n",
              "HsnixYuze/futLS05Iorrhi3/5w5czIwMDDl842MjGRkZKR2f3h4eLqGDgDnzODg4JTbRmNv0aJF\\\n",
              "2bdv36TxdzrPQ2Np2jWASXLNNddk9+7deeKJJ3Lbbbelq6vrrM5m2rhxYyqVSu02f/78czhaAJge\\\n",
              "vb296enpmXJ7X19f9u7dO+nFokf19PT4Grgm0tQB2NLSkquvvjpLly7Nxo0bc9111+WrX/1qOjo6\\\n",
              "cvTo0bzwwgvj9j906FA6OjqmfL7169dnaGiodnvuueem+f8AAM6NqSJw7Nq+qb4xRPw1n6YOwIlO\\\n",
              "nDiRkZGRLF26NBdffHG2b99e2/b000/nwIED6ezsnPLnW1tba5eVGb0BQKOYGIGTndgxMQLFX3Nq\\\n",
              "2jWA69evz80335wFCxbkxRdfzIMPPpgf/vCH+d73vpdKpZJbb70169aty+zZs9PW1pa1a9ems7PT\\\n",
              "CSAANLXRmGtvb5/yhI7RxwcHB8Vfk2raAHz++efzsY99LL/61a9SqVTy5je/Od/73vfyJ3/yJ0mS\\\n",
              "v//7v8/MmTPzwQ9+MCMjI1m+fHm+/vWv13nUAHBmXn/n/6v9+Rd333JaP3M6Ueds3+ZW1HUAzzXX\\\n",
              "EQKg3l5JAJbO+3dhawABAGjij4ABoARm/XglzAACABRGAAIAFEYAAgAURgACABRGAAIAFEYAAgAU\\\n",
              "RgACABRGAAIAFEYAAgAURgACABRGAAIAFEYAAgAURgACABRGAAIAFEYAAgAURgACABRGAAIAFEYA\\\n",
              "AgAURgACABRGAAIAFEYAAgAURgACABRGAAIAFEYAAgAURgACABRGADaR3t7e9Pf3v+Q+/f396e3t\\\n",
              "PT8DAgAuSBfVewCcG729vdmwYUPtfnd39yn79Pf3Z82aNeN+BgAojxnAJjAx/tasWXPKTODE+Nuw\\\n",
              "YYMABIBCCcAGNzH+Ro2NwInxN0oEAkCZZlSr1Wq9B9GohoeHU6lUMjQ0lLa2tvP+908Vf2MtWrQo\\\n",
              "+/bte8l9enp6hCAAxaj3+/eFwAxgA2tvb59y25IsSZJa/I3eP9PnAQCajwBsYN3d3enr6zvl8a50\\\n",
              "ZVM2ZWVWJklWZmU2ZVO60nXKvn19fZOeMAIANC8fAZ+FC2UKeewavyVZkk3ZVNs2lKFUUqndX5u1\\\n",
              "2ZM9ScQfAGW6UN6/68kMYBMYOxO4J3uyOZtr28bG3+ZsFn8AgBnAs3Gh/QaxePHi2pq/bdk2Lv6G\\\n",
              "MpQVWZHk5Ikhe/furccQAaDuLrT373owA9gk+vv7a/G3MivHxV9yciZwdE3gvn37XvYbQwCA5iUA\\\n",
              "m8DENYCrs7q2bShDtT+vzura2cCTXSwaACiDAGxwEy/yvCd7siVbkpxc87ciK2prArdkS20NYCIC\\\n",
              "AaBU1gCehXqvIZjqGz6SkzOBY2Nv4v2xnBACQEnq/f59ITAD2MAGBwen3DYae4sWLRp3/0yfBwBo\\\n",
              "PgKwgfX29qanp2fK7X19fdm7d++kF4se5WvgAKA8ArDBTRWBYz/WneobQ8QfAJRJADaBiRE42Zq+\\\n",
              "iREo/gCgXBfVewCcG6Mx197ePuUJHaOPDw4Oij8AKFjTngW8cePG/Mu//Ev279+fWbNm5R3veEf+\\\n",
              "9m//Ntdcc01tnyNHjuSOO+7I1q1bMzIykuXLl+frX/965syZc1p/h7OIAKDxeP9u4o+Ad+zYke7u\\\n",
              "7vz4xz/Oo48+mmPHjuWmm27K4cOHa/t8+tOfzre+9a08/PDD2bFjRw4ePJgPfOADdRz17+27dlHt\\\n",
              "BgBwLjXtDOBEg4ODueqqq7Jjx468613vytDQUNrb2/Pggw/mQx/6UJJk//79WbRoUXbu3Jkbb7zx\\\n",
              "ZZ9zOn+DGBt+i/bvO6fPDQAlMwPYxDOAEw0NnfxKtNmzZydJdu3alWPHjmXZsmW1fa699tosWLAg\\\n",
              "O3funPQ5RkZGMjw8PO4GANBoijgJ5MSJE7n99tvzzne+M0uWnPwu3IGBgbS0tOSKK64Yt++cOXMy\\\n",
              "MDAw6fNs3LgxGzZsmO7hJjHrBwBMnyJmALu7u7Nnz55s3br1rJ5n/fr1GRoaqt2ee+65czRCAIDz\\\n",
              "p+lnANesWZNvf/vbefzxxzNv3rza4x0dHTl69GheeOGFcbOAhw4dSkdHx6TP1dramtbW1ukeMgDA\\\n",
              "tGraGcBqtZo1a9bkkUceyQ9+8IMsXLhw3PalS5fm4osvzvbt22uPPf300zlw4EA6OzvP93ABAM6b\\\n",
              "pp0B7O7uzoMPPphvfvObufzyy2vr+iqVSmbNmpVKpZJbb70169aty+zZs9PW1pa1a9ems7PztM4A\\\n",
              "BgBoVE17GZgZM2ZM+vj999+fVatWJfn9haC/8Y1vjLsQ9FQfAU/kNHIAaDzev5s4AM8H/4AAoPF4\\\n",
              "/27iNYAAAExOAAIAFEYAAgAURgACABRGAAIAFEYAAgAURgACABRGAAIAFEYAAgAURgACABRGAAIA\\\n",
              "FEYAAgAURgACABRGAAIAFEYAAgAURgACABRGAAIAFEYAAgAURgACABRGAAIAFEYAAgAURgACABRG\\\n",
              "AAIAFEYAAgAURgACABRGAAIAFEYAAgAURgACABRGAAIAFEYAAgAURgACABRGAAIAFEYAAgAURgAC\\\n",
              "ABRGAAIAFEYAAgAURgACABRGAAIAFEYAAgAURgACABRGAAIAFEYAAgAURgACABRGAAIAFEYAAgAU\\\n",
              "pmkD8PHHH8/73ve+zJ07NzNmzMi2bdvGba9Wq7nrrrvyute9LrNmzcqyZcvy85//vD6DBQA4j5o2\\\n",
              "AA8fPpzrrrsu/f39k26/55578rWvfS333Xdfnnjiibz61a/O8uXLc+TIkfM8Ui5kvb29U/4bGtXf\\\n",
              "35/e3t7zMyAAOAcuqvcApsvNN9+cm2++edJt1Wo1X/nKV/K5z30u73//+5Mk//zP/5w5c+Zk27Zt\\\n",
              "Wbly5fkcKheo3t7ebNiwoXa/u7v7lH36+/uzZs2acT8DABe6pp0BfCnPPvtsBgYGsmzZstpjlUol\\\n",
              "N9xwQ3bu3Dnlz42MjGR4eHjcjeY0Mf7WrFlzykzgxPjbsGGDAASgIRQZgAMDA0mSOXPmjHt8zpw5\\\n",
              "tW2T2bhxYyqVSu02f/78aR0n9TEx/kaNjcCJ8TdKBAKcPsts6qdpPwKeDuvXr8+6detq94eHh0Vg\\\n",
              "k5kq/kaNRuC+ffum3Gf0571gAUzNMpv6KnIGsKOjI0ly6NChcY8fOnSotm0yra2taWtrG3ejubS3\\\n",
              "t0+5bUmWJEkt/kbvn+nzAJTOMpv6KzIAFy5cmI6Ojmzfvr322PDwcJ544ol0dnbWcWTUW3d3d/r6\\\n",
              "+k55vCtd2ZRNWZmTJwitzMpsyqZ0peuUffv6+ib9TRYAy2wuFE37EfBvf/vbPPPMM7X7zz77bHbv\\\n",
              "3p3Zs2dnwYIFuf322/OFL3whb3zjG7Nw4cJ8/vOfz9y5c7NixYr6DZoLwmi8jb74LMmSrMqqJMnq\\\n",
              "rM7KrEwllSTJqqzKruzKnuxJIv4AXoplNheOpp0B/OlPf5q3vvWteetb35okWbduXd761rfmrrvu\\\n",
              "SpL81V/9VdauXZtPfepTefvb357f/va3+e53v5tLLrmknsPmAjF2JnBP9mRzNte2jcZfkmzOZvEH\\\n",
              "cJoss7lwzKhWq9V6D6JRDQ8Pp1KpZGhoyHrAJrV48eLai9G2bBsXf0MZyoqsSJIsWrQoe/furccQ\\\n",
              "ARrKZB/vdqUrq7Iqm7M5W7M1K7Myq7M6W7IlD+SBcfuei1+2vX838QwgnK2xH0OM/dh3VCWV2prA\\\n",
              "ffv2veylDAA4da31xGU227Itq7M6ycllNmNnAn3Scu4IQJjE2N9Ql2RJ7cUoOTnzN2p1VtdenCY7\\\n",
              "iw2AU1lmU38CECaY+PHEnuzJlmxJcvLFaEVW1F6stmRL7cUpEYEAp6u7uzuLFi1KkmzN1nG/XCcn\\\n",
              "f9nemq1JTi6zEX/nlgCEMaa69MADeSBrs7b2YrQ1W7M2a09Zm5KIQIDTYZlNfQlAGGNwcHDKbaMz\\\n",
              "faO/sY6d+TuT5wEonWU29ScAYYze3t709PRMub2vry979+6d9GLRo3p6elyfCmAKltlcGFwG5iw4\\\n",
              "jbx5TXax0okLkCf7uFj8AUxtqmU2ycmZwLGxN/H+WGd7Qoj3bzOAMKmJM4GTvdhMvJSB+AN4aZbZ\\\n",
              "XDia9qvg4GyNxlx7e/uUv2mOPj44OCj+AF7G6OvkVF8HN/rL9kvNFPpl+9zwEfBZMIUMAGeu3sts\\\n",
              "vH+bAaQAb3rgTbU/P9n1ZB1HAkBy6kzgVMtsktQi0MzfuSUAAYDzzjKb+hKAAMAr9n8/8me1P9/x\\\n",
              "0LfP6GdPJ+p8A8j0EIA0PR/7AsB4LgMDAFAYAQgAUBgfAQMAr9iZrvvjwmAGEACgMAIQAKAwAhAA\\\n",
              "oDACEACgMAIQAKAwAhAAoDACEACgMAIQAKAwAhAAoDACEACgMAIQAKAwAhAAoDACEACgMAIQAKAw\\\n",
              "AhAAoDACEACgMAIQAKAwAhAAoDACEACgMAIQAKAwAhAAoDACEACgMAIQAKAwAhAAoDACEACgMAIQ\\\n",
              "AKAwAhAAoDACEACgMMUHYH9/f17/+tfnkksuyQ033JCf/OQn9R4SAMC0KjoAH3rooaxbty49PT35\\\n",
              "2c9+luuuuy7Lly/P888/X++hAQBMm6ID8O/+7u/yyU9+Mh//+MezePHi3Hfffbn00kvzT//0T/Ue\\\n",
              "GgDAtCk2AI8ePZpdu3Zl2bJltcdmzpyZZcuWZefOnXUcGQDA9Lqo3gOol1//+tc5fvx45syZM+7x\\\n",
              "OXPmZP/+/ZP+zMjISEZGRmr3h4eHp3WMAADTodgZwFdi48aNqVQqtdv8+fPrPSQAgDNWbABeeeWV\\\n",
              "edWrXpVDhw6Ne/zQoUPp6OiY9GfWr1+foaGh2u255547H0MFADinig3AlpaWLF26NNu3b689duLE\\\n",
              "iWzfvj2dnZ2T/kxra2va2trG3QAAGk2xawCTZN26denq6srb3va2XH/99fnKV76Sw4cP5+Mf/3i9\\\n",
              "hwYAMG2KDsCPfOQjGRwczF133ZWBgYG85S1vyXe/+91TTgwBAGgmM6rVarXeg2hUw8PDqVQqGRoa\\\n",
              "8nEwADQI798FrwEEACiVAAQAKIwABAAojAAEACiMAAQAKIwABAAojAAEACiMAAQAKIwABAAojAAE\\\n",
              "ACiMAAQAKIwABAAojAAEACiMAAQAKIwABAAojAAEACiMAAQAKIwABAAojAAEACiMAAQAKIwABAAo\\\n",
              "jAAEACiMAAQAKIwABAAojAAEACiMAAQAKIwABAAojAAEACiMAAQAKIwABAAojAAEACiMAAQAKIwA\\\n",
              "BAAojAAEACiMAAQAKIwABAAojAAEACiMAAQAKIwABAAojAAEACiMAAQAKIwABAAojAAEACiMAAQA\\\n",
              "KIwABAAojAAEAChMUwbgF7/4xbzjHe/IpZdemiuuuGLSfQ4cOJBbbrkll156aa666qp85jOfye9+\\\n",
              "97vzO1AAgDq4qN4DmA5Hjx7Nhz/84XR2duYf//EfT9l+/Pjx3HLLLeno6MiPfvSj/OpXv8rHPvax\\\n",
              "XHzxxfmbv/mbOowYAOD8mVGtVqv1HsR02bJlS26//fa88MIL4x7/zne+kz/7sz/LwYMHM2fOnCTJ\\\n",
              "fffdl7/+67/O4OBgWlpaTuv5h4eHU6lUMjQ0lLa2tnM9fABgGnj/btKPgF/Ozp0786Y3vakWf0my\\\n",
              "fPnyDA8P56mnnpry50ZGRjI8PDzuBgDQaIoMwIGBgXHxl6R2f2BgYMqf27hxYyqVSu02f/78aR0n\\\n",
              "AMB0aJgAvPPOOzNjxoyXvO3fv39ax7B+/foMDQ3Vbs8999y0/n0AANOhYU4CueOOO7Jq1aqX3OcN\\\n",
              "b3jDaT1XR0dHfvKTn4x77NChQ7VtU2ltbU1ra+tp/R0AABeqhgnA9vb2tLe3n5Pn6uzszBe/+MU8\\\n",
              "//zzueqqq5Ikjz76aNra2rJ48eJz8ncAAFyoGiYAz8SBAwfym9/8JgcOHMjx48eze/fuJMnVV1+d\\\n",
              "yy67LDfddFMWL16cj370o7nnnnsyMDCQz33uc+nu7jbDBwA0vaa8DMyqVavywAMPnPL4Y489lne/\\\n",
              "+91Jkv/8z//Mbbfdlh/+8Id59atfna6urtx999256KLTb2KnkQNA4/H+3aQBeL74BwQAjcf7dwOd\\\n",
              "BQwAwLkhAAEACiMAAQAKIwABAAojAAEACiMAAQAKIwABAAojAAEACiMAAQAKIwABAAojAAEACiMA\\\n",
              "AQAKIwABAAojAAEACiMAAQAKIwABAAojAAEACiMAAQAKIwABAAojAAEACiMAAQAKIwABAAojAAEA\\\n",
              "CiMAAQAKIwABAAojAAEACiMAAQAKIwABAAojAAEACiMAAQAKIwABAAojAAEACiMAAQAKIwABAAoj\\\n",
              "AAEACiMAAQAKIwABAAojAAEACiMAAQAKIwABAAojAAEACiMAAQAKIwABAAojAAEACiMAAQAK05QB\\\n",
              "+Itf/CK33nprFi5cmFmzZuUP//AP09PTk6NHj47b79///d/zR3/0R7nkkksyf/783HPPPXUaMQDA\\\n",
              "+XNRvQcwHfbv358TJ05k8+bNufrqq7Nnz5588pOfzOHDh/PlL385STI8PJybbropy5Yty3333Zcn\\\n",
              "n3wyn/jEJ3LFFVfkU5/6VJ3/DwAAps+MarVarfcgzocvfelLuffee/Mf//EfSZJ77703n/3sZzMw\\\n",
              "MJCWlpYkyZ133plt27Zl//79p/Wcw8PDqVQqGRoaSltb27SNHQA4d7x/N+lHwJMZGhrK7Nmza/d3\\\n",
              "7tyZd73rXbX4S5Lly5fn6aefzn//93/XY4gAAOdFEQH4zDPPZNOmTVm9enXtsYGBgcyZM2fcfqP3\\\n",
              "BwYGJn2ekZGRDA8Pj7sBADSahgrAO++8MzNmzHjJ28SPb3/5y1/mT//0T/PhD384n/zkJ8/q79+4\\\n",
              "cWMqlUrtNn/+/LN6PgCAemioNYCDg4P5r//6r5fc5w1veEPtY92DBw/m3e9+d2688cZs2bIlM2f+\\\n",
              "vnc/9rGPZXh4ONu2bas99thjj+U973lPfvOb3+Q1r3nNKc89MjKSkZGR2v3h4eHMnz+/6DUEANBo\\\n",
              "rAFssLOA29vb097eflr7/vKXv8wf//EfZ+nSpbn//vvHxV+SdHZ25rOf/WyOHTuWiy++OEny6KOP\\\n",
              "5pprrpk0/pKktbU1ra2tZ/c/AQBQZw31EfDp+uUvf5l3v/vdWbBgQb785S9ncHAwAwMD49b2/cVf\\\n",
              "/EVaWlpy66235qmnnspDDz2Ur371q1m3bl0dRw4AMP0aagbwdD366KN55pln8swzz2TevHnjto1+\\\n",
              "4l2pVPL9738/3d3dWbp0aa688srcddddrgEIADS9hloDeKGxhgAAGo/37yb9CBgAgKkJQACAwghA\\\n",
              "AIDCCEAAgMIIQACAwghAAKDuent709/f/5L79Pf3p7e39/wMqMk15XUAAYDG0dvbmw0bNtTud3d3\\\n",
              "n7JPf39/1qxZM+5neOXMAAIAdTMx/tasWXPKTODE+NuwYYMAPEsCEACoi4nxN2psBE6Mv1Ei8Oz4\\\n",
              "JpCz4EriAPDKTBV/Yy1atCj79u17yX16enrOOAS9f5sBBADqoL29fcptS7IkSWrxN3r/TJ+HqQlA\\\n",
              "AOC86+7uTl9f3ymPd6Urm7IpK7MySbIyK7Mpm9KVrlP27evrm/SEEV6ej4DPgilkADg7Y9f4LcmS\\\n",
              "bMqm2rahDKWSSu3+2qzNnuxJcnbx5/3bDCAAUEdjZwL3ZE82Z3Nt29j425zN5yT+OMkM4FnwGwQA\\\n",
              "nBuLFy+urfnblm3j4m8oQ1mRFUlOnhiyd+/es/q7vH+bAQQA6qy/v78Wfyuzclz8JSdnAkfXBO7b\\\n",
              "t+9lvzGElycAAYC6mbgGcHVW17YNZaj259VZXTsbeLKLRXNmBCAAUBcTL/K8J3uyJVuSnFzztyIr\\\n",
              "amsCt2RLbQ1gIgLPljWAZ8EaAgB4Zab6ho/k5Ezg2NibeH+sV3JCiPdvM4AAQB0MDg5OuW009hYt\\\n",
              "WjTu/pk+D1MTgADAedfb25uenp4pt/f19WXv3r2TXix61Cv5GjhOEoAAQF1MFYFjP9ad6htDxN/Z\\\n",
              "EYAAQN1MjMDJ1vRNjEDxd/YuqvcAAIDm0v9/flD7c/d973nZ/Udjrr29fcoTOkYfHxwcFH/ngAAE\\\n",
              "AOrudKLO17+dOz4CBgAojBlAAOCcOp2PfakvM4AAAIURgAAAhRGAAACFEYAAAIURgAAAhRGAAACF\\\n",
              "EYAAAIURgAAAhRGAAACFEYAAAIURgAAAhRGAAACFEYAAAIW5qN4DaGTVajVJMjw8XOeRAACna/R9\\\n",
              "e/R9vEQC8Cy8+OKLSZL58+fXeSQAwJl68cUXU6lU6j2MuphRLTl/z9KJEydy8ODBXH755ZkxY0a9\\\n",
              "h9M0hoeHM3/+/Dz33HNpa2ur93CaluN8/jjW54fjfP40+rGuVqt58cUXM3fu3MycWeZqODOAZ2Hm\\\n",
              "zJmZN29evYfRtNra2hryhaXROM7nj2N9fjjO508jH+tSZ/5GlZm9AAAFE4AAAIURgFxwWltb09PT\\\n",
              "k9bW1noPpak5zuePY31+OM7nj2Pd+JwEAgBQGDOAAACFEYAAAIURgAAAhRGAAACFEYBcML74xS/m\\\n",
              "He94Ry699NJcccUVk+5z4MCB3HLLLbn00ktz1VVX5TOf+Ux+97vfnd+BNon+/v68/vWvzyWXXJIb\\\n",
              "brghP/nJT+o9pIb2+OOP533ve1/mzp2bGTNmZNu2beO2V6vV3HXXXXnd616XWbNmZdmyZfn5z39e\\\n",
              "n8E2sI0bN+btb397Lr/88lx11VVZsWJFnn766XH7HDlyJN3d3Xnta1+byy67LB/84Adz6NChOo24\\\n",
              "cd17771585vfXLvYc2dnZ77zne/UtjvOjU0AcsE4evRoPvzhD+e2226bdPvx48dzyy235OjRo/nR\\\n",
              "j36UBx54IFu2bMldd911nkfa+B566KGsW7cuPT09+dnPfpbrrrsuy5cvz/PPP1/voTWsw4cP57rr\\\n",
              "rkt/f/+k2++555587Wtfy3333Zcnnngir371q7N8+fIcOXLkPI+0se3YsSPd3d358Y9/nEcffTTH\\\n",
              "jh3LTTfdlMOHD9f2+fSnP51vfetbefjhh7Njx44cPHgwH/jAB+o46sY0b9683H333dm1a1d++tOf\\\n",
              "5j3veU/e//7356mnnkriODe8Klxg7r///mqlUjnl8X/913+tzpw5szowMFB77N577622tbVVR0ZG\\\n",
              "zuMIG9/1119f7e7urt0/fvx4de7cudWNGzfWcVTNI0n1kUceqd0/ceJEtaOjo/qlL32p9tgLL7xQ\\\n",
              "bW1trX7jG9+owwibx/PPP19NUt2xY0e1Wj15XC+++OLqww8/XNtn37591STVnTt31muYTeM1r3lN\\\n",
              "9R/+4R8c5yZgBpCGsXPnzrzpTW/KnDlzao8tX748w8PDtd9IeXlHjx7Nrl27smzZstpjM2fOzLJl\\\n",
              "y7Jz5846jqx5PfvssxkYGBh3zCuVSm644QbH/CwNDQ0lSWbPnp0k2bVrV44dOzbuWF977bVZsGCB\\\n",
              "Y30Wjh8/nq1bt+bw4cPp7Ox0nJvARfUeAJyugYGBcfGXpHZ/YGCgHkNqSL/+9a9z/PjxSY/l/v37\\\n",
              "6zSq5jb673OyY+7f7it34sSJ3H777XnnO9+ZJUuWJDl5rFtaWk5ZR+xYvzJPPvlkOjs7c+TIkVx2\\\n",
              "2WV55JFHsnjx4uzevdtxbnBmAJlWd955Z2bMmPGSN9EBvBLd3d3Zs2dPtm7dWu+hNK1rrrkmu3fv\\\n",
              "zhNPPJHbbrstXV1d2bt3b72HxTlgBpBpdccdd2TVqlUvuc8b3vCG03qujo6OU85UHT3jrKOj4xWN\\\n",
              "r0RXXnllXvWqV51ytt6hQ4ccx2kyelwPHTqU173udbXHDx06lLe85S11GlVjW7NmTb797W/n8ccf\\\n",
              "z7x582qPd3R05OjRo3nhhRfGzU759/3KtLS05Oqrr06SLF26NP/2b/+Wr371q/nIRz7iODc4M4BM\\\n",
              "q/b29lx77bUveWtpaTmt5+rs7MyTTz457kzVRx99NG1tbVm8ePF0/S80nZaWlixdujTbt2+vPXbi\\\n",
              "xIls3749nZ2ddRxZ81q4cGE6OjrGHfPh4eE88cQTjvkZqlarWbNmTR555JH84Ac/yMKFC8dtX7p0\\\n",
              "aS6++OJxx/rpp5/OgQMHHOtz4MSJExkZGXGcm4AZQC4YBw4cyG9+85scOHAgx48fz+7du5MkV199\\\n",
              "dS677LLcdNNNWbx4cT760Y/mnnvuycDAQD73uc+lu7s7ra2t9R18g1m3bl26urrytre9Lddff32+\\\n",
              "8pWv5PDhw/n4xz9e76E1rN/+9rd55plnavefffbZ7N69O7Nnz86CBQty++235wtf+ELe+MY3ZuHC\\\n",
              "hfn85z+fuXPnZsWKFfUbdAPq7u7Ogw8+mG9+85u5/PLLa+vNKpVKZs2alUqlkltvvTXr1q3L7Nmz\\\n",
              "09bWlrVr16azszM33nhjnUffWNavX5+bb745CxYsyIsvvpgHH3wwP/zhD/O9733PcW4G9T4NGUZ1\\\n",
              "dXVVk5xye+yxx2r7/OIXv6jefPPN1VmzZlWvvPLK6h133FE9duxY/QbdwDZt2lRdsGBBtaWlpXr9\\\n",
              "9ddXf/zjH9d7SA3tsccem/Tfb1dXV7VaPXkpmM9//vPVOXPmVFtbW6vvfe97q08//XR9B92AJjvG\\\n",
              "Sar3339/bZ//+Z//qf7lX/5l9TWveU310ksvrf75n/959Ve/+lX9Bt2gPvGJT1T/4A/+oNrS0lJt\\\n",
              "b2+vvve9761+//vfr213nBvbjGq1Wj3/2QkAQL1YAwgAUBgBCABQGAEIAFAYAQgAUBgBCABQGAEI\\\n",
              "AFAYAQgAUBgBCABQGAEIAFAYAQgAUBgBCABQGAEIAFAYAQgAUBgBCABQGAEIAFAYAQgAUBgBCABQ\\\n",
              "GAEIAFAYAQgAUBgBCABQGAEIAFAYAQgAUBgBCABQGAEIAFAYAQgAUBgBCABQGAEIAFAYAQgAUBgB\\\n",
              "CABQGAEIAFAYAQgAUJj/D+wQ+22N9YPSAAAAAElFTkSuQmCC\\\n",
              "\"\n",
              "  frames[4] = \"data:image/png;base64,iVBORw0KGgoAAAANSUhEUgAAAoAAAAHgCAYAAAA10dzkAAAAOXRFWHRTb2Z0d2FyZQBNYXRwbG90\\\n",
              "bGliIHZlcnNpb24zLjcuMSwgaHR0cHM6Ly9tYXRwbG90bGliLm9yZy/bCgiHAAAACXBIWXMAAA9h\\\n",
              "AAAPYQGoP6dpAAAmwUlEQVR4nO3df4zUd4H/8RfY7pba7lTslpUAJ15NC0GrQduu5oynXLmmZ+T8\\\n",
              "EcklumijfHsLSaXxrkTtLokever3TmXXluTuSu+PStPkitHv+aPBSv8Q64khVwo0NlePRly6ntfd\\\n",
              "So4FYb5/cDvuLrstFJZh5v14NJMw8/ns8O4nZOa573l/PjOjWq1WAwBAMWbWewAAAJxfAhAAoDAC\\\n",
              "EACgMAIQAKAwAhAAoDACEACgMAIQAKAwAhAAoDACEACgMAIQAKAwAhAAoDACEACgMAIQAKAwAhAA\\\n",
              "oDACEACgMAIQAKAwAhAAoDACEACgMAIQAKAwAhAAoDACEACgMAIQAKAwAhAAoDACEACgMAIQAKAw\\\n",
              "AhAAoDACEACgMAIQAKAwAhAAoDACEACgMAIQAKAwAhAAoDACEACgMAIQAKAwAhAAoDACEACgMAIQ\\\n",
              "AKAwAhAAoDACEACgMAIQAKAwAhAAoDACEACgMAIQAKAwAhAAoDACEACgMAIQAKAwAhAAoDACEACg\\\n",
              "MAIQAKAwAhAAoDACEACgMAIQAKAwAhAAoDACEACgMAIQAKAwAhAAoDAX1XsAjezEiRM5ePBgLr/8\\\n",
              "8syYMaPewwEATkO1Ws2LL76YuXPnZubMMufCBOBZOHjwYObPn1/vYQAAr8Bzzz2XefPm1XsYdSEA\\\n",
              "z8Lll1+e5OQ/oLa2tjqPBgA4HcPDw5k/f37tfbxEAvAsjH7s29bWJgABoMGUvHyrzA++AQAKJgAB\\\n",
              "AAojAAEACiMAAQAKIwDhf/X29qa/v/8l9+nv709vb+/5GRAATBNnAUNOxt+GDRtq97u7u0/Zp7+/\\\n",
              "P2vWrBn3MwDQiMwAUryJ8bdmzZpTZgInxt+GDRsEIAANSwBStInxN2psBE6Mv1EiEIBGNaNarVbr\\\n",
              "PYhGNTw8nEqlkqGhIReCbkBTxd9YixYtyr59+15yn56eHiEI0EC8f5sBpGDt7e1TbluSJUlSi7/R\\\n",
              "+2f6PABwIRKAFKu7uzt9fX2nPN6VrmzKpqzMyiTJyqzMpmxKV7pO2bevr2/SE0YA4ELmI+CzYAq5\\\n",
              "OYxd47ckS7Ipm2rbhjKUSiq1+2uzNnuyJ4n4A2hU3r/NAMK4mcA92ZPN2VzbNjb+Nmez+AOgKZgB\\\n",
              "PAt+g2guixcvrq3525Zt4+JvKENZkRVJTp4Ysnfv3noMEYBzwPu3GUBIcvJj4NH4W5mV4+IvOTkT\\\n",
              "OLomcN++fS/7jSEAcCETgBRv4hrA1Vld2zaUodqfV2d17WzgyS4WDQCNQgBStIkXed6TPdmSLUlO\\\n",
              "rvlbkRW1NYFbsqW2BjARgQA0LmsAz4I1BI1tqm/4SE7OBI6NvYn3x3JCCEBj8f5tBpCCDQ4OTrlt\\\n",
              "NPYWLVo07v6ZPg8AXIgEIMXq7e1NT0/PlNv7+vqyd+/eSS8WPcrXwAHQiAQgRZsqAsd+rDvVN4aI\\\n",
              "PwAalQCkeBMjcLI1fRMjUPwB0MguqvcA4EIwGnPt7e1TntAx+vjg4KD4Axpab2/vS77eJSdPlPN6\\\n",
              "17wEIPyv03mRc7Yv0Oh6e3uzYcOG2v3JXtcmXiVBBDYfHwEDQCEmxt9k1zOdGH8bNmwQgE3IDCDN\\\n",
              "p3fM17j1Dk29H0BBJsbfqNHY6+7unvL6qKM/JwSbhwAEgCY3VfyNGp0JHP1O9MmIwObiI2AAaHLt\\\n",
              "7e1Tbhv9jvPR+Bu9f6bPQ2MRgDSf3qHf3wCY8nqmXenKpmzKyqxMkqzMymzKpnSl65R9fe1lc/Fd\\\n",
              "wGfBdwkC0EjGrvFbkiXZlE21bUMZSiW/X0O9NmtrX4PZbPHn/dsMIAAUY+xM4J7syeZsrm0bG3+b\\\n",
              "s7lp44+TzACeBb9BANCIFi9eXFvzty3bxsXfUIayIiuSJIsWLcrevXvrMcRp5f27iWcA77333rz5\\\n",
              "zW9OW1tb2tra0tnZme985zu17UeOHEl3d3de+9rX5rLLLssHP/jBHDp0qI4jBoDpN/Zs35VZOS7+\\\n",
              "kpMzgaNrAvft23fKdQJpDk0bgPPmzcvdd9+dXbt25ac//Wne85735P3vf3+eeuqpJMmnP/3pfOtb\\\n",
              "38rDDz+cHTt25ODBg/nABz5Q51EDwPSZuAZwdVbXtg3l9yfOrc7q2tnAk10smsZX1EfAs2fPzpe+\\\n",
              "9KV86EMfSnt7ex588MF86EMfSpLs378/ixYtys6dO3PjjTee1vOZQgagUUx2keeudGVVVmVzNmdr\\\n",
              "tmZlVmZ1VmdLtuSBPDBu32ZaC+j9u5ALQR8/fjwPP/xwDh8+nM7OzuzatSvHjh3LsmXLavtce+21\\\n",
              "WbBgwRkFIAA0gqm+4eOBPJBd2VU74WNrtmbP//430dhvDKHxNXUAPvnkk+ns7MyRI0dy2WWX5ZFH\\\n",
              "HsnixYuze/futLS05Iorrhi3/5w5czIwMDDl842MjGRkZKR2f3h4eLqGDgDnzODg4JTbRmNv0aJF\\\n",
              "2bdv36TxdzrPQ2Np2jWASXLNNddk9+7deeKJJ3Lbbbelq6vrrM5m2rhxYyqVSu02f/78czhaAJge\\\n",
              "vb296enpmXJ7X19f9u7dO+nFokf19PT4Grgm0tQB2NLSkquvvjpLly7Nxo0bc9111+WrX/1qOjo6\\\n",
              "cvTo0bzwwgvj9j906FA6OjqmfL7169dnaGiodnvuueem+f8AAM6NqSJw7Nq+qb4xRPw1n6YOwIlO\\\n",
              "nDiRkZGRLF26NBdffHG2b99e2/b000/nwIED6ezsnPLnW1tba5eVGb0BQKOYGIGTndgxMQLFX3Nq\\\n",
              "2jWA69evz80335wFCxbkxRdfzIMPPpgf/vCH+d73vpdKpZJbb70169aty+zZs9PW1pa1a9ems7PT\\\n",
              "CSAANLXRmGtvb5/yhI7RxwcHB8Vfk2raAHz++efzsY99LL/61a9SqVTy5je/Od/73vfyJ3/yJ0mS\\\n",
              "v//7v8/MmTPzwQ9+MCMjI1m+fHm+/vWv13nUAHBmXn/n/6v9+Rd333JaP3M6Ueds3+ZW1HUAzzXX\\\n",
              "EQKg3l5JAJbO+3dhawABAGjij4ABoARm/XglzAACABRGAAIAFEYAAgAURgACABRGAAIAFEYAAgAU\\\n",
              "RgACABRGAAIAFEYAAgAURgACABRGAAIAFEYAAgAURgACABRGAAIAFEYAAgAURgACABRGAAIAFEYA\\\n",
              "AgAURgACABRGAAIAFEYAAgAURgACABRGAAIAFEYAAgAURgACABRGADaR3t7e9Pf3v+Q+/f396e3t\\\n",
              "PT8DAgAuSBfVewCcG729vdmwYUPtfnd39yn79Pf3Z82aNeN+BgAojxnAJjAx/tasWXPKTODE+Nuw\\\n",
              "YYMABIBCCcAGNzH+Ro2NwInxN0oEAkCZZlSr1Wq9B9GohoeHU6lUMjQ0lLa2tvP+908Vf2MtWrQo\\\n",
              "+/bte8l9enp6hCAAxaj3+/eFwAxgA2tvb59y25IsSZJa/I3eP9PnAQCajwBsYN3d3enr6zvl8a50\\\n",
              "ZVM2ZWVWJklWZmU2ZVO60nXKvn19fZOeMAIANC8fAZ+FC2UKeewavyVZkk3ZVNs2lKFUUqndX5u1\\\n",
              "2ZM9ScQfAGW6UN6/68kMYBMYOxO4J3uyOZtr28bG3+ZsFn8AgBnAs3Gh/QaxePHi2pq/bdk2Lv6G\\\n",
              "MpQVWZHk5Ikhe/furccQAaDuLrT373owA9gk+vv7a/G3MivHxV9yciZwdE3gvn37XvYbQwCA5iUA\\\n",
              "m8DENYCrs7q2bShDtT+vzura2cCTXSwaACiDAGxwEy/yvCd7siVbkpxc87ciK2prArdkS20NYCIC\\\n",
              "AaBU1gCehXqvIZjqGz6SkzOBY2Nv4v2xnBACQEnq/f59ITAD2MAGBwen3DYae4sWLRp3/0yfBwBo\\\n",
              "PgKwgfX29qanp2fK7X19fdm7d++kF4se5WvgAKA8ArDBTRWBYz/WneobQ8QfAJRJADaBiRE42Zq+\\\n",
              "iREo/gCgXBfVewCcG6Mx197ePuUJHaOPDw4Oij8AKFjTngW8cePG/Mu//Ev279+fWbNm5R3veEf+\\\n",
              "9m//Ntdcc01tnyNHjuSOO+7I1q1bMzIykuXLl+frX/965syZc1p/h7OIAKDxeP9u4o+Ad+zYke7u\\\n",
              "7vz4xz/Oo48+mmPHjuWmm27K4cOHa/t8+tOfzre+9a08/PDD2bFjRw4ePJgPfOADdRz17+27dlHt\\\n",
              "BgBwLjXtDOBEg4ODueqqq7Jjx468613vytDQUNrb2/Pggw/mQx/6UJJk//79WbRoUXbu3Jkbb7zx\\\n",
              "ZZ9zOn+DGBt+i/bvO6fPDQAlMwPYxDOAEw0NnfxKtNmzZydJdu3alWPHjmXZsmW1fa699tosWLAg\\\n",
              "O3funPQ5RkZGMjw8PO4GANBoijgJ5MSJE7n99tvzzne+M0uWnPwu3IGBgbS0tOSKK64Yt++cOXMy\\\n",
              "MDAw6fNs3LgxGzZsmO7hJjHrBwBMnyJmALu7u7Nnz55s3br1rJ5n/fr1GRoaqt2ee+65czRCAIDz\\\n",
              "p+lnANesWZNvf/vbefzxxzNv3rza4x0dHTl69GheeOGFcbOAhw4dSkdHx6TP1dramtbW1ukeMgDA\\\n",
              "tGraGcBqtZo1a9bkkUceyQ9+8IMsXLhw3PalS5fm4osvzvbt22uPPf300zlw4EA6OzvP93ABAM6b\\\n",
              "pp0B7O7uzoMPPphvfvObufzyy2vr+iqVSmbNmpVKpZJbb70169aty+zZs9PW1pa1a9ems7PztM4A\\\n",
              "BgBoVE17GZgZM2ZM+vj999+fVatWJfn9haC/8Y1vjLsQ9FQfAU/kNHIAaDzev5s4AM8H/4AAoPF4\\\n",
              "/27iNYAAAExOAAIAFEYAAgAURgACABRGAAIAFEYAAgAURgACABRGAAIAFEYAAgAURgACABRGAAIA\\\n",
              "FEYAAgAURgACABRGAAIAFEYAAgAURgACABRGAAIAFEYAAgAURgACABRGAAIAFEYAAgAURgACABRG\\\n",
              "AAIAFEYAAgAURgACABRGAAIAFEYAAgAURgACABRGAAIAFEYAAgAURgACABRGAAIAFEYAAgAURgAC\\\n",
              "ABRGAAIAFEYAAgAURgACABRGAAIAFEYAAgAURgACABRGAAIAFEYAAgAURgACABRGAAIAFEYAAgAU\\\n",
              "pmkD8PHHH8/73ve+zJ07NzNmzMi2bdvGba9Wq7nrrrvyute9LrNmzcqyZcvy85//vD6DBQA4j5o2\\\n",
              "AA8fPpzrrrsu/f39k26/55578rWvfS333Xdfnnjiibz61a/O8uXLc+TIkfM8Ui5kvb29U/4bGtXf\\\n",
              "35/e3t7zMyAAOAcuqvcApsvNN9+cm2++edJt1Wo1X/nKV/K5z30u73//+5Mk//zP/5w5c+Zk27Zt\\\n",
              "Wbly5fkcKheo3t7ebNiwoXa/u7v7lH36+/uzZs2acT8DABe6pp0BfCnPPvtsBgYGsmzZstpjlUol\\\n",
              "N9xwQ3bu3Dnlz42MjGR4eHjcjeY0Mf7WrFlzykzgxPjbsGGDAASgIRQZgAMDA0mSOXPmjHt8zpw5\\\n",
              "tW2T2bhxYyqVSu02f/78aR0n9TEx/kaNjcCJ8TdKBAKcPsts6qdpPwKeDuvXr8+6detq94eHh0Vg\\\n",
              "k5kq/kaNRuC+ffum3Gf0571gAUzNMpv6KnIGsKOjI0ly6NChcY8fOnSotm0yra2taWtrG3ejubS3\\\n",
              "t0+5bUmWJEkt/kbvn+nzAJTOMpv6KzIAFy5cmI6Ojmzfvr322PDwcJ544ol0dnbWcWTUW3d3d/r6\\\n",
              "+k55vCtd2ZRNWZmTJwitzMpsyqZ0peuUffv6+ib9TRYAy2wuFE37EfBvf/vbPPPMM7X7zz77bHbv\\\n",
              "3p3Zs2dnwYIFuf322/OFL3whb3zjG7Nw4cJ8/vOfz9y5c7NixYr6DZoLwmi8jb74LMmSrMqqJMnq\\\n",
              "rM7KrEwllSTJqqzKruzKnuxJIv4AXoplNheOpp0B/OlPf5q3vvWteetb35okWbduXd761rfmrrvu\\\n",
              "SpL81V/9VdauXZtPfepTefvb357f/va3+e53v5tLLrmknsPmAjF2JnBP9mRzNte2jcZfkmzOZvEH\\\n",
              "cJoss7lwzKhWq9V6D6JRDQ8Pp1KpZGhoyHrAJrV48eLai9G2bBsXf0MZyoqsSJIsWrQoe/furccQ\\\n",
              "ARrKZB/vdqUrq7Iqm7M5W7M1K7Myq7M6W7IlD+SBcfuei1+2vX838QwgnK2xH0OM/dh3VCWV2prA\\\n",
              "ffv2veylDAA4da31xGU227Itq7M6ycllNmNnAn3Scu4IQJjE2N9Ql2RJ7cUoOTnzN2p1VtdenCY7\\\n",
              "iw2AU1lmU38CECaY+PHEnuzJlmxJcvLFaEVW1F6stmRL7cUpEYEAp6u7uzuLFi1KkmzN1nG/XCcn\\\n",
              "f9nemq1JTi6zEX/nlgCEMaa69MADeSBrs7b2YrQ1W7M2a09Zm5KIQIDTYZlNfQlAGGNwcHDKbaMz\\\n",
              "faO/sY6d+TuT5wEonWU29ScAYYze3t709PRMub2vry979+6d9GLRo3p6elyfCmAKltlcGFwG5iw4\\\n",
              "jbx5TXax0okLkCf7uFj8AUxtqmU2ycmZwLGxN/H+WGd7Qoj3bzOAMKmJM4GTvdhMvJSB+AN4aZbZ\\\n",
              "XDia9qvg4GyNxlx7e/uUv2mOPj44OCj+AF7G6OvkVF8HN/rL9kvNFPpl+9zwEfBZMIUMAGeu3sts\\\n",
              "vH+bAaQAb3rgTbU/P9n1ZB1HAkBy6kzgVMtsktQi0MzfuSUAAYDzzjKb+hKAAMAr9n8/8me1P9/x\\\n",
              "0LfP6GdPJ+p8A8j0EIA0PR/7AsB4LgMDAFAYM4AAwCt2ph/7cmEwAwgAUBgBCABQGAEIAFAYAQgA\\\n",
              "UBgBCABQGAEIAFAYAQgAUBgBCABQGAEIAFAYAQgAUBgBCABQGAEIAFAYAQgAUBgBCABQGAEIAFAY\\\n",
              "AQgAUBgBCABQGAEIAFAYAQgAUBgBCABQGAEIAFAYAQgAUBgBCABQGAEIAFAYAQgAUBgBCABQGAEI\\\n",
              "AFAYAQgAUBgBCABQmOIDsL+/P69//etzySWX5IYbbshPfvKTeg8JAGBaFR2ADz30UNatW5eenp78\\\n",
              "7Gc/y3XXXZfly5fn+eefr/fQAACmTdEB+Hd/93f55Cc/mY9//ONZvHhx7rvvvlx66aX5p3/6p3oP\\\n",
              "DQBg2hQbgEePHs2uXbuybNmy2mMzZ87MsmXLsnPnzjqODABgel1U7wHUy69//escP348c+bMGff4\\\n",
              "nDlzsn///kl/ZmRkJCMjI7X7w8PD0zpGAIDpUOwM4CuxcePGVCqV2m3+/Pn1HhIAwBkrNgCvvPLK\\\n",
              "vOpVr8qhQ4fGPX7o0KF0dHRM+jPr16/P0NBQ7fbcc8+dj6ECAJxTxQZgS0tLli5dmu3bt9ceO3Hi\\\n",
              "RLZv357Ozs5Jf6a1tTVtbW3jbgAAjabYNYBJsm7dunR1deVtb3tbrr/++nzlK1/J4cOH8/GPf7ze\\\n",
              "QwMAmDZFB+BHPvKRDA4O5q677srAwEDe8pa35Lvf/e4pJ4YAADSTGdVqtVrvQTSq4eHhVCqVDA0N\\\n",
              "+TgYABqE9++C1wACAJRKAAIAFEYAAgAURgACABRGAAIAFEYAAgAURgACABRGAAIAFEYAAgAURgAC\\\n",
              "ABRGAAIAFEYAAgAURgACABRGAAIAFEYAAgAURgACABRGAAIAFEYAAgAURgACABRGAAIAFEYAAgAU\\\n",
              "RgACABRGAAIAFEYAAgAURgACABRGAAIAFEYAAgAURgACABRGAAIAFEYAAgAURgACABRGAAIAFEYA\\\n",
              "AgAURgACABRGAAIAFEYAAgAURgACABRGAAIAFEYAAgAURgACABRGAAIAFEYAAgAURgACABRGAAIA\\\n",
              "FEYAAgAURgACABSmKQPwi1/8Yt7xjnfk0ksvzRVXXDHpPgcOHMgtt9ySSy+9NFdddVU+85nP5He/\\\n",
              "+935HSgAQB1cVO8BTIejR4/mwx/+cDo7O/OP//iPp2w/fvx4brnllnR0dORHP/pRfvWrX+VjH/tY\\\n",
              "Lr744vzN3/xNHUYMAHD+zKhWq9V6D2K6bNmyJbfffnteeOGFcY9/5zvfyZ/92Z/l4MGDmTNnTpLk\\\n",
              "vvvuy1//9V9ncHAwLS0tp/X8w8PDqVQqGRoaSltb27kePgAwDbx/N+lHwC9n586dedOb3lSLvyRZ\\\n",
              "vnx5hoeH89RTT035cyMjIxkeHh53AwBoNEUG4MDAwLj4S1K7PzAwMOXPbdy4MZVKpXabP3/+tI4T\\\n",
              "AGA6NEwA3nnnnZkxY8ZL3vbv3z+tY1i/fn2GhoZqt+eee25a/z4AgOnQMCeB3HHHHVm1atVL7vOG\\\n",
              "N7zhtJ6ro6MjP/nJT8Y9dujQodq2qbS2tqa1tfW0/g4AgAtVwwRge3t72tvbz8lzdXZ25otf/GKe\\\n",
              "f/75XHXVVUmSRx99NG1tbVm8ePE5+TsAAC5UDROAZ+LAgQP5zW9+kwMHDuT48ePZvXt3kuTqq6/O\\\n",
              "ZZddlptuuimLFy/ORz/60dxzzz0ZGBjI5z73uXR3d5vhAwCaXlNeBmbVqlV54IEHTnn8sccey7vf\\\n",
              "/e4kyX/+53/mtttuyw9/+MO8+tWvTldXV+6+++5cdNHpN7HTyAGg8Xj/btIAPF/8AwKAxuP9u4HO\\\n",
              "AgYA4NwQgAAAhRGAAACFEYAAAIURgAAAhRGAAACFEYAAAIURgAAAhRGAAACFEYAAAIURgAAAhRGA\\\n",
              "AACFEYAAAIURgAAAhRGAAACFEYAAAIURgAAAhRGAAACFEYAAAIURgAAAhRGAAACFEYAAAIURgAAA\\\n",
              "hRGAAACFEYAAAIURgAAAhRGAAACFEYAAAIURgAAAhRGAAACFEYAAAIURgAAAhRGAAACFEYAAAIUR\\\n",
              "gAAAhRGAAACFEYAAAIURgAAAhRGAAACFEYAAAIURgAAAhRGAAACFEYAAAIURgAAAhRGAAACFacoA\\\n",
              "/MUvfpFbb701CxcuzKxZs/KHf/iH6enpydGjR8ft9+///u/5oz/6o1xyySWZP39+7rnnnjqNGADg\\\n",
              "/Lmo3gOYDvv378+JEyeyefPmXH311dmzZ08++clP5vDhw/nyl7+cJBkeHs5NN92UZcuW5b777suT\\\n",
              "Tz6ZT3ziE7niiivyqU99qs7/BwAA02dGtVqt1nsQ58OXvvSl3HvvvfmP//iPJMm9996bz372sxkY\\\n",
              "GEhLS0uS5M4778y2bduyf//+03rO4eHhVCqVDA0Npa2tbdrGDgCcO96/m/Qj4MkMDQ1l9uzZtfs7\\\n",
              "d+7Mu971rlr8Jcny5cvz9NNP57//+7/rMUQAgPOiiAB85plnsmnTpqxevbr22MDAQObMmTNuv9H7\\\n",
              "AwMDkz7PyMhIhoeHx90AABpNQwXgnXfemRkzZrzkbeLHt7/85S/zp3/6p/nwhz+cT37yk2f192/c\\\n",
              "uDGVSqV2mz9//lk9HwBAPTTUGsDBwcH813/910vu84Y3vKH2se7Bgwfz7ne/OzfeeGO2bNmSmTN/\\\n",
              "37sf+9jHMjw8nG3bttUee+yxx/Ke97wnv/nNb/Ka17zmlOceGRnJyMhI7f7w8HDmz59f9BoCAGg0\\\n",
              "1gA22FnA7e3taW9vP619f/nLX+aP//iPs3Tp0tx///3j4i9JOjs789nPfjbHjh3LxRdfnCR59NFH\\\n",
              "c80110waf0nS2tqa1tbWs/ufAACos4b6CPh0/fKXv8y73/3uLFiwIF/+8pczODiYgYGBcWv7/uIv\\\n",
              "/iItLS259dZb89RTT+Whhx7KV7/61axbt66OIwcAmH4NNQN4uh599NE888wzeeaZZzJv3rxx20Y/\\\n",
              "8a5UKvn+97+f7u7uLF26NFdeeWXuuusu1wAEAJpeQ60BvNBYQwAAjcf7d5N+BAwAwNQEIABAYQQg\\\n",
              "AEBhBCAAQGEEIABAYQQgAFB3vb296e/vf8l9+vv709vbe34G1OSa8jqAAEDj6O3tzYYNG2r3u7u7\\\n",
              "T9mnv78/a9asGfczvHJmAAGAupkYf2vWrDllJnBi/G3YsEEAniUBCADUxcT4GzU2AifG3ygReHZ8\\\n",
              "E8hZcCVxAHhlpoq/sRYtWpR9+/a95D49PT1nHILev80AAgB10N7ePuW2JVmSJLX4G71/ps/D1AQg\\\n",
              "AHDedXd3p6+v75THu9KVTdmUlVmZJFmZldmUTelK1yn79vX1TXrCCC/PR8BnwRQyAJydsWv8lmRJ\\\n",
              "NmVTbdtQhlJJpXZ/bdZmT/YkObv48/5tBhAAqKOxM4F7siebs7m2bWz8bc7mcxJ/nGQG8Cz4DQIA\\\n",
              "zo3FixfX1vxty7Zx8TeUoazIiiQnTwzZu3fvWf1d3r/NAAIAddbf31+Lv5VZOS7+kpMzgaNrAvft\\\n",
              "2/ey3xjCyxOAAEDdTFwDuDqra9uGMlT78+qsrp0NPNnFojkzAhAAqIuJF3nekz3Zki1JTq75W5EV\\\n",
              "tTWBW7KltgYwEYFnyxrAs2ANAQC8MlN9w0dyciZwbOxNvD/WKzkhxPu3GUAAoA4GBwen3DYae4sW\\\n",
              "LRp3/0yfh6kJQADgvOvt7U1PT8+U2/v6+rJ3795JLxY96pV8DRwnCUAAoC6misCxH+tO9Y0h4u/s\\\n",
              "CEAAoG4mRuBka/omRqD4O3sX1XsAAEBz6f8/P6j9ufu+97zs/qMx197ePuUJHaOPDw4Oir9zQAAC\\\n",
              "AHV3OlHn69/OHR8BAwAUxgwgAHBOnc7HvtSXGUAAgMIIQACAwghAAIDCCEAAgMIIQACAwghAAIDC\\\n",
              "CEAAgMIIQACAwghAAIDCCEAAgMIIQACAwghAAIDCCEAAgMJcVO8BNLJqtZokGR4ervNIAIDTNfq+\\\n",
              "Pfo+XiIBeBZefPHFJMn8+fPrPBIA4Ey9+OKLqVQq9R5GXcyolpy/Z+nEiRM5ePBgLr/88syYMaPe\\\n",
              "w2kaw8PDmT9/fp577rm0tbXVezhNy3E+fxzr88NxPn8a/VhXq9W8+OKLmTt3bmbOLHM1nBnAszBz\\\n",
              "5szMmzev3sNoWm1tbQ35wtJoHOfzx7E+Pxzn86eRj3WpM3+jysxeAICCCUAAgMIIQC44ra2t6enp\\\n",
              "SWtra72H0tQc5/PHsT4/HOfzx7FufE4CAQAojBlAAIDCCEAAgMIIQACAwghAAIDCCEAuGF/84hfz\\\n",
              "jne8I5deemmuuOKKSfc5cOBAbrnlllx66aW56qqr8pnPfCa/+93vzu9Am0R/f39e//rX55JLLskN\\\n",
              "N9yQn/zkJ/UeUkN7/PHH8773vS9z587NjBkzsm3btnHbq9Vq7rrrrrzuda/LrFmzsmzZsvz85z+v\\\n",
              "z2Ab2MaNG/P2t789l19+ea666qqsWLEiTz/99Lh9jhw5ku7u7rz2ta/NZZddlg9+8IM5dOhQnUbc\\\n",
              "uO699968+c1vrl3subOzM9/5zndq2x3nxiYAuWAcPXo0H/7wh3PbbbdNuv348eO55ZZbcvTo0fzo\\\n",
              "Rz/KAw88kC1btuSuu+46zyNtfA899FDWrVuXnp6e/OxnP8t1112X5cuX5/nnn6/30BrW4cOHc911\\\n",
              "16W/v3/S7ffcc0++9rWv5b777ssTTzyRV7/61Vm+fHmOHDlynkfa2Hbs2JHu7u78+Mc/zqOPPppj\\\n",
              "x47lpptuyuHDh2v7fPrTn863vvWtPPzww9mxY0cOHjyYD3zgA3UcdWOaN29e7r777uzatSs//elP\\\n",
              "8573vCfvf//789RTTyVxnBteFS4w999/f7VSqZzy+L/+679WZ86cWR0YGKg9du+991bb2tqqIyMj\\\n",
              "53GEje/666+vdnd31+4fP368Onfu3OrGjRvrOKrmkaT6yCOP1O6fOHGi2tHRUf3Sl75Ue+yFF16o\\\n",
              "tra2Vr/xjW/UYYTN4/nnn68mqe7YsaNarZ48rhdffHH14Ycfru2zb9++apLqzp076zXMpvGa17ym\\\n",
              "+g//8A+OcxMwA0jD2LlzZ970pjdlzpw5tceWL1+e4eHh2m+kvLyjR49m165dWbZsWe2xmTNnZtmy\\\n",
              "Zdm5c2cdR9a8nn322QwMDIw75pVKJTfccINjfpaGhoaSJLNnz06S7Nq1K8eOHRt3rK+99tosWLDA\\\n",
              "sT4Lx48fz9atW3P48OF0dnY6zk3gonoPAE7XwMDAuPhLUrs/MDBQjyE1pF//+tc5fvz4pMdy//79\\\n",
              "dRpVcxv99znZMfdv95U7ceJEbr/99rzzne/MkiVLkpw81i0tLaesI3asX5knn3wynZ2dOXLkSC67\\\n",
              "7LI88sgjWbx4cXbv3u04NzgzgEyrO++8MzNmzHjJm+gAXonu7u7s2bMnW7durfdQmtY111yT3bt3\\\n",
              "54knnshtt92Wrq6u7N27t97D4hwwA8i0uuOOO7Jq1aqX3OcNb3jDaT1XR0fHKWeqjp5x1tHR8YrG\\\n",
              "V6Irr7wyr3rVq045W+/QoUOO4zQZPa6HDh3K6173utrjhw4dylve8pY6jaqxrVmzJt/+9rfz+OOP\\\n",
              "Z968ebXHOzo6cvTo0bzwwgvjZqf8+35lWlpacvXVVydJli5dmn/7t3/LV7/61XzkIx9xnBucGUCm\\\n",
              "VXt7e6699tqXvLW0tJzWc3V2dubJJ58cd6bqo48+mra2tixevHi6/heaTktLS5YuXZrt27fXHjtx\\\n",
              "4kS2b9+ezs7OOo6seS1cuDAdHR3jjvnw8HCeeOIJx/wMVavVrFmzJo888kh+8IMfZOHCheO2L126\\\n",
              "NBdffPG4Y/3000/nwIEDjvU5cOLEiYyMjDjOTcAMIBeMAwcO5De/+U0OHDiQ48ePZ/fu3UmSq6++\\\n",
              "OpdddlluuummLF68OB/96Edzzz33ZGBgIJ/73OfS3d2d1tbW+g6+waxbty5dXV1529veluuvvz5f\\\n",
              "+cpXcvjw4Xz84x+v99Aa1m9/+9s888wztfvPPvtsdu/endmzZ2fBggW5/fbb84UvfCFvfOMbs3Dh\\\n",
              "wnz+85/P3Llzs2LFivoNugF1d3fnwQcfzDe/+c1cfvnltfVmlUols2bNSqVSya233pp169Zl9uzZ\\\n",
              "aWtry9q1a9PZ2Zkbb7yxzqNvLOvXr8/NN9+cBQsW5MUXX8yDDz6YH/7wh/ne977nODeDep+GDKO6\\\n",
              "urqqSU65PfbYY7V9fvGLX1Rvvvnm6qxZs6pXXnll9Y477qgeO3asfoNuYJs2baouWLCg2tLSUr3+\\\n",
              "+uurP/7xj+s9pIb22GOPTfrvt6urq1qtnrwUzOc///nqnDlzqq2trdX3vve91aeffrq+g25Akx3j\\\n",
              "JNX777+/ts///M//VP/yL/+y+prXvKZ66aWXVv/8z/+8+qtf/ap+g25Qn/jEJ6p/8Ad/UG1paam2\\\n",
              "t7dX3/ve91a///3v17Y7zo1tRrVarZ7/7AQAoF6sAQQAKIwABAAojAAEACiMAAQAKIwABAAojAAE\\\n",
              "ACiMAAQAKIwABAAojAAEACiMAAQAKIwABAAojAAEACiMAAQAKIwABAAojAAEACiMAAQAKIwABAAo\\\n",
              "jAAEACiMAAQAKIwABAAojAAEACiMAAQAKIwABAAojAAEACiMAAQAKIwABAAojAAEACiMAAQAKIwA\\\n",
              "BAAojAAEACiMAAQAKMz/ByL/+23ZakCtAAAAAElFTkSuQmCC\\\n",
              "\"\n",
              "\n",
              "\n",
              "    /* set a timeout to make sure all the above elements are created before\n",
              "       the object is initialized. */\n",
              "    setTimeout(function() {\n",
              "        anim03ad064521d84ee1bc354007d006286f = new Animation(frames, img_id, slider_id, 500.0,\n",
              "                                 loop_select_id);\n",
              "    }, 0);\n",
              "  })()\n",
              "</script>\n"
            ]
          },
          "metadata": {},
          "execution_count": 171
        }
      ],
      "source": [
        "# HW : create your own animation\n",
        "X = data.clone()\n",
        "fig,ax = plt.subplots()\n",
        "ani = FuncAnimation(fig, do_one, frames=5, interval=500, repeat=False) # 500ms\n",
        "plt.close()\n",
        "HTML(ani.to_jshtml()) # to_html_mp4, see docs"
      ]
    },
    {
      "cell_type": "markdown",
      "metadata": {
        "id": "htsE-2J_kHe1"
      },
      "source": [
        "## GPU batched algorithm"
      ]
    },
    {
      "cell_type": "markdown",
      "metadata": {
        "id": "fKJAGyiJkHe1"
      },
      "source": [
        "To truly accelerate the algorithm, we need to be performing updates on a batch of points per iteration, instead of just one as we were doing."
      ]
    },
    {
      "cell_type": "code",
      "execution_count": 172,
      "metadata": {
        "colab": {
          "base_uri": "https://localhost:8080/"
        },
        "id": "9-71vJ34kHe1",
        "outputId": "6483a519-5864-4b0c-815b-252f9f499586"
      },
      "outputs": [
        {
          "output_type": "execute_result",
          "data": {
            "text/plain": [
              "(torch.Size([5, 2]), torch.Size([1500, 2]))"
            ]
          },
          "metadata": {},
          "execution_count": 172
        }
      ],
      "source": [
        "bs=5\n",
        "X = data.clone()\n",
        "x = X[:bs] # first 5 points\n",
        "x.shape,X.shape"
      ]
    },
    {
      "cell_type": "markdown",
      "source": [
        "#The distance should be a matrix for GPU"
      ],
      "metadata": {
        "id": "qtRx1c73U1Ir"
      }
    },
    {
      "cell_type": "markdown",
      "source": [
        "![image.png](data:image/png;base64,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)"
      ],
      "metadata": {
        "id": "z9Wt3U70UT6p"
      }
    },
    {
      "cell_type": "code",
      "execution_count": 173,
      "metadata": {
        "id": "viK6sYpqkHe2"
      },
      "outputs": [],
      "source": [
        "def dist_b(a,b): return (((a[None]-b[:,None])**2).sum(2)).sqrt()\n",
        "# same as torch.sqrt(((a[None]-b[:,None])**2).sum(2))"
      ]
    },
    {
      "cell_type": "code",
      "execution_count": 174,
      "metadata": {
        "colab": {
          "base_uri": "https://localhost:8080/"
        },
        "id": "5dnZsFpmkHe2",
        "outputId": "c80765f2-7fec-4faa-daa9-6cd244b0b218"
      },
      "outputs": [
        {
          "output_type": "execute_result",
          "data": {
            "text/plain": [
              "tensor([[ 0.000,  3.899,  4.834,  ..., 17.628, 22.610, 21.617],\n",
              "        [ 3.899,  0.000,  4.978,  ..., 21.499, 26.508, 25.500],\n",
              "        [ 4.834,  4.978,  0.000,  ..., 19.373, 24.757, 23.396],\n",
              "        [ 3.726,  0.185,  4.969,  ..., 21.335, 26.336, 25.333],\n",
              "        [ 6.273,  5.547,  1.615,  ..., 20.775, 26.201, 24.785]])"
            ]
          },
          "metadata": {},
          "execution_count": 174
        }
      ],
      "source": [
        "dist_b(X, x)"
      ]
    },
    {
      "cell_type": "code",
      "execution_count": 175,
      "metadata": {
        "colab": {
          "base_uri": "https://localhost:8080/"
        },
        "id": "1dafRmmdkHe2",
        "outputId": "e1590f5e-f0a1-41be-ff94-5cec74cd71ce"
      },
      "outputs": [
        {
          "output_type": "execute_result",
          "data": {
            "text/plain": [
              "torch.Size([5, 1500])"
            ]
          },
          "metadata": {},
          "execution_count": 175
        }
      ],
      "source": [
        "dist_b(X, x).shape"
      ]
    },
    {
      "cell_type": "code",
      "source": [
        "#X-x  # shapes not compatible"
      ],
      "metadata": {
        "id": "ANSgiK3aVadx"
      },
      "execution_count": 176,
      "outputs": []
    },
    {
      "cell_type": "code",
      "execution_count": 177,
      "metadata": {
        "colab": {
          "base_uri": "https://localhost:8080/"
        },
        "id": "uITITC-okHe2",
        "outputId": "3685b9a4-9e01-4981-e873-1e21587b6d08"
      },
      "outputs": [
        {
          "output_type": "execute_result",
          "data": {
            "text/plain": [
              "(torch.Size([1, 1500, 2]), torch.Size([5, 1, 2]), torch.Size([5, 1500, 2]))"
            ]
          },
          "metadata": {},
          "execution_count": 177
        }
      ],
      "source": [
        "X[None,:].shape, x[:,None].shape, (X[None,:]-x[:,None]).shape\n",
        "# Broadcasting rules\n",
        "# from right to left 2 is compatible with 2\n",
        "# 1500 is compatible with 1, because one of them is 2\n",
        "# 1500 (rows) will be copied over 1 (5? rows)\n",
        "# 1, 2 will be copied over 1500 rows ?\n",
        "# 1 and 5 is compatible, because one of them is 1"
      ]
    },
    {
      "cell_type": "code",
      "execution_count": 178,
      "metadata": {
        "colab": {
          "base_uri": "https://localhost:8080/"
        },
        "id": "2t96M9EEkHe2",
        "outputId": "d29a2c73-06e4-41a4-cea7-1b88fa566c9b"
      },
      "outputs": [
        {
          "output_type": "execute_result",
          "data": {
            "text/plain": [
              "tensor([[    0.199,     0.030,     0.011,  ...,     0.000,     0.000,     0.000],\n",
              "        [    0.030,     0.199,     0.009,  ...,     0.000,     0.000,     0.000],\n",
              "        [    0.011,     0.009,     0.199,  ...,     0.000,     0.000,     0.000],\n",
              "        [    0.035,     0.199,     0.009,  ...,     0.000,     0.000,     0.000],\n",
              "        [    0.001,     0.004,     0.144,  ...,     0.000,     0.000,     0.000]])"
            ]
          },
          "metadata": {},
          "execution_count": 178
        }
      ],
      "source": [
        "weight = gaussian(dist_b(X, x), 2)\n",
        "weight"
      ]
    },
    {
      "cell_type": "code",
      "execution_count": 179,
      "metadata": {
        "colab": {
          "base_uri": "https://localhost:8080/"
        },
        "id": "i4V2CfuHkHe2",
        "outputId": "4b5785f9-f0df-4eaa-f11c-53962f57b09d"
      },
      "outputs": [
        {
          "output_type": "execute_result",
          "data": {
            "text/plain": [
              "(torch.Size([5, 1500]), torch.Size([1500, 2]))"
            ]
          },
          "metadata": {},
          "execution_count": 179
        }
      ],
      "source": [
        "weight.shape,X.shape"
      ]
    },
    {
      "cell_type": "code",
      "execution_count": 182,
      "metadata": {
        "colab": {
          "base_uri": "https://localhost:8080/"
        },
        "id": "SJQJjbDWkHe2",
        "outputId": "9846e30f-e5e4-4b46-feba-e0598b8db261"
      },
      "outputs": [
        {
          "output_type": "execute_result",
          "data": {
            "text/plain": [
              "(torch.Size([5, 1500, 1]), torch.Size([1, 1500, 2]))"
            ]
          },
          "metadata": {},
          "execution_count": 182
        }
      ],
      "source": [
        "weight[...,None].shape, X[None].shape\n",
        "# broadcasting\n",
        "# copy each weight 1 over 2 x,y\n",
        "# copy each point 1, 5 times"
      ]
    },
    {
      "cell_type": "code",
      "execution_count": 183,
      "metadata": {
        "colab": {
          "base_uri": "https://localhost:8080/"
        },
        "id": "VfS57AFLkHe2",
        "outputId": "edefe8f5-7bdb-46a5-dd82-2e4ebaa4d71a"
      },
      "outputs": [
        {
          "output_type": "execute_result",
          "data": {
            "text/plain": [
              "torch.Size([5, 2])"
            ]
          },
          "metadata": {},
          "execution_count": 183
        }
      ],
      "source": [
        "num = (weight[...,None]*X[None]).sum(1)\n",
        "num.shape # 5 new data points"
      ]
    },
    {
      "cell_type": "code",
      "execution_count": 184,
      "metadata": {
        "colab": {
          "base_uri": "https://localhost:8080/"
        },
        "id": "sPL7gSAZkHe2",
        "outputId": "7015fc4e-e186-412f-e255-987bf0b63cee"
      },
      "outputs": [
        {
          "output_type": "execute_result",
          "data": {
            "text/plain": [
              "tensor([[367.870, 386.231],\n",
              "        [518.332, 588.680],\n",
              "        [329.665, 330.782],\n",
              "        [527.617, 598.217],\n",
              "        [231.302, 234.155]])"
            ]
          },
          "metadata": {},
          "execution_count": 184
        }
      ],
      "source": [
        "num"
      ]
    },
    {
      "cell_type": "code",
      "execution_count": 185,
      "metadata": {
        "colab": {
          "base_uri": "https://localhost:8080/"
        },
        "id": "6rAzhA9ikHe2",
        "outputId": "0d2e7f29-66a5-4057-95e4-ba4525b1eae6"
      },
      "outputs": [
        {
          "output_type": "execute_result",
          "data": {
            "text/plain": [
              "tensor([[367.870, 386.231],\n",
              "        [518.332, 588.680],\n",
              "        [329.665, 330.782],\n",
              "        [527.617, 598.217],\n",
              "        [231.302, 234.155]])"
            ]
          },
          "metadata": {},
          "execution_count": 185
        }
      ],
      "source": [
        "torch.einsum('ij,jk->ik', weight, X) # same result\n",
        "# Note: This is same as Matrix multiplication"
      ]
    },
    {
      "cell_type": "code",
      "execution_count": 186,
      "metadata": {
        "colab": {
          "base_uri": "https://localhost:8080/"
        },
        "id": "CTiPRNvckHe3",
        "outputId": "6a3a3331-9f06-4b1a-ee90-ee970f8a3bdd"
      },
      "outputs": [
        {
          "output_type": "execute_result",
          "data": {
            "text/plain": [
              "tensor([[367.870, 386.231],\n",
              "        [518.332, 588.680],\n",
              "        [329.665, 330.782],\n",
              "        [527.617, 598.217],\n",
              "        [231.302, 234.155]])"
            ]
          },
          "metadata": {},
          "execution_count": 186
        }
      ],
      "source": [
        "weight@X"
      ]
    },
    {
      "cell_type": "code",
      "execution_count": 187,
      "metadata": {
        "colab": {
          "base_uri": "https://localhost:8080/"
        },
        "id": "ByGhQUGJkHe3",
        "outputId": "d97d0fd1-5177-4e73-ce57-87436564ac7e"
      },
      "outputs": [
        {
          "output_type": "execute_result",
          "data": {
            "text/plain": [
              "torch.Size([5, 1])"
            ]
          },
          "metadata": {},
          "execution_count": 187
        }
      ],
      "source": [
        "div = weight.sum(1, keepdim=True)\n",
        "div.shape"
      ]
    },
    {
      "cell_type": "code",
      "execution_count": 190,
      "metadata": {
        "colab": {
          "base_uri": "https://localhost:8080/"
        },
        "id": "CMyTb32mkHe3",
        "outputId": "638c8565-3a45-4c5c-eaf6-a45aae503454"
      },
      "outputs": [
        {
          "output_type": "execute_result",
          "data": {
            "text/plain": [
              "tensor([[26.376, 27.692],\n",
              "        [26.101, 29.643],\n",
              "        [28.892, 28.990],\n",
              "        [26.071, 29.559],\n",
              "        [29.323, 29.685]])"
            ]
          },
          "metadata": {},
          "execution_count": 190
        }
      ],
      "source": [
        "num/div # weighted average"
      ]
    },
    {
      "cell_type": "code",
      "execution_count": 191,
      "metadata": {
        "id": "GTHBkE0VkHe3"
      },
      "outputs": [],
      "source": [
        "def meanshift(data, bs=500):\n",
        "    n = len(data)\n",
        "    X = data.clone()\n",
        "    for it in range(5):\n",
        "        for i in range(0, n, bs):\n",
        "            s = slice(i, min(i+bs,n)) # re-use this slice multiple times\n",
        "            weight = gaussian(dist_b(X, X[s]), 2.5)\n",
        "#             weight = tri(dist_b(X, X[s]), 8)\n",
        "            div = weight.sum(1, keepdim=True)\n",
        "            X[s] = weight@X/div\n",
        "    return X"
      ]
    },
    {
      "cell_type": "markdown",
      "metadata": {
        "id": "GMA7TlwWkHe3"
      },
      "source": [
        "Although each iteration still has to launch a new cuda kernel, there are now fewer iterations, and the acceleration from updating a batch of points more than makes up for it."
      ]
    },
    {
      "cell_type": "code",
      "execution_count": 192,
      "metadata": {
        "id": "e5wkKnMRkHe3"
      },
      "outputs": [],
      "source": [
        "data = data.cuda()"
      ]
    },
    {
      "cell_type": "code",
      "execution_count": 193,
      "metadata": {
        "id": "pGBrpbaIkHe3"
      },
      "outputs": [],
      "source": [
        "X = meanshift(data).cpu()"
      ]
    },
    {
      "cell_type": "code",
      "execution_count": 206,
      "metadata": {
        "colab": {
          "base_uri": "https://localhost:8080/"
        },
        "id": "oe9-ohg4kHe3",
        "outputId": "b1f44e75-cc59-4e9c-fdc9-c69b839301c5"
      },
      "outputs": [
        {
          "output_type": "stream",
          "name": "stdout",
          "text": [
            "6.31 ms ± 336 µs per loop (mean ± std. dev. of 7 runs, 5 loops each)\n"
          ]
        }
      ],
      "source": [
        "%timeit -n 5 _=meanshift(data, 5000).cpu() # larger batch size is faster"
      ]
    },
    {
      "cell_type": "code",
      "execution_count": 207,
      "metadata": {
        "colab": {
          "base_uri": "https://localhost:8080/",
          "height": 430
        },
        "id": "jpKiLHZkkHe3",
        "outputId": "10540966-a863-4e72-c56e-130d5f5a5cff"
      },
      "outputs": [
        {
          "output_type": "display_data",
          "data": {
            "text/plain": [
              "<Figure size 640x480 with 1 Axes>"
            ],
            "image/png": "[encoded data removed]"
          },
          "metadata": {}
        }
      ],
      "source": [
        "plot_data(centroids+2, X, n_samples)"
      ]
    },
    {
      "cell_type": "markdown",
      "metadata": {
        "id": "0ytvoT90kHe3"
      },
      "source": [
        "**Homework:** implement k-means clustering, dbscan, locality sensitive hashing, or some other clustering, fast nearest neighbors, or similar algorithm of your choice, on the GPU. Check if your version is faster than a pure python or CPU version.\n",
        "\n",
        "Bonus: Implement it in APL too!\n",
        "\n",
        "Super bonus: Invent a new meanshift algorithm which picks only the closest points, to avoid quadratic time.\n",
        "\n",
        "Super super bonus: Publish a paper that describes it :D"
      ]
    },
    {
      "cell_type": "code",
      "execution_count": 195,
      "metadata": {
        "id": "mc-npd5ykHe3"
      },
      "outputs": [],
      "source": []
    }
  ],
  "metadata": {
    "kernelspec": {
      "display_name": "Python 3",
      "name": "python3"
    },
    "colab": {
      "provenance": [],
      "gpuType": "T4",
      "cell_execution_strategy": "setup"
    },
    "accelerator": "GPU"
  },
  "nbformat": 4,
  "nbformat_minor": 0
}